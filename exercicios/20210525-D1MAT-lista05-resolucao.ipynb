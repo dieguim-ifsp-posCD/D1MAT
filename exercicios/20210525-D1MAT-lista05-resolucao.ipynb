{
 "cells": [
  {
   "cell_type": "markdown",
   "id": "ee302fc0-7b27-418b-8ffb-908b0b069bb4",
   "metadata": {},
   "source": [
    "1. Determine a derivada direcional de $f(x,y) = x^3y^4 - x^4y^3$ no ponto $(1, 1)$ e na direção do ângulo $\\theta = \\frac{\\pi}{6}$"
   ]
  },
  {
   "cell_type": "markdown",
   "id": "a853edbc-034f-4482-b4c6-c0231b878b84",
   "metadata": {},
   "source": [
    "**Solução**\n",
    "\n",
    "Seja o vetor unitário $\\vec{u}$ na direção do ângulo $\\theta$, então $\\vec{u} = \\langle cos \\theta, sen \\theta \\rangle$. Dessa forma:\n",
    "\n",
    "\\begin{equation*}\n",
    "D_u f(x, y) = f_x(x, y) cos\\theta + f_y(x, y)sen\\theta\n",
    "\\end{equation*}\n",
    "\n",
    "\\begin{align*}\n",
    "f_x(x, y) = 3x^2y^4 - 4x^3y^3\\\\\n",
    "f_y(x, y) = 4x^3y^3 - 3x^4y^2\n",
    "\\end{align*}\n",
    "\n",
    "Portanto, temos que:\n",
    "\n",
    "\\begin{align*}\n",
    "D_u f(x, y) &= (3x^2y^4 - 4x^3y^3)cos\\frac{\\pi}{6} + (4x^3y^3 - 3x^4y^2)sen\\frac{\\pi}{6}\\\\\n",
    "D_u f(1, 1) &= (3(1)^2(1)^4 - 4(1)^3(1)^3)\\frac{\\sqrt{3}}{2} + (4(1)^3(1)^3 - 3(1)^4(1)^2)\\frac{1}{2}\\\\\n",
    "D_u f(1, 1) &= -\\frac{\\sqrt{3}}{2} + \\frac{1}{2} = \\frac{1 - \\sqrt{3}}{2}\n",
    "\\end{align*}\n",
    "\n",
    "**Resposta:** $\\displaystyle\\frac{1 - \\sqrt{3}}{2}$"
   ]
  },
  {
   "cell_type": "markdown",
   "id": "152db72a-aa0f-447b-9fed-be2923e63afa",
   "metadata": {},
   "source": [
    "\\vspace{5mm}\n",
    "\n",
    "---\n",
    "\n",
    "\\vspace{5mm}"
   ]
  },
  {
   "cell_type": "markdown",
   "id": "748343b8-0137-4039-aab1-8df875ee0ba1",
   "metadata": {},
   "source": [
    "2. Calcule o gradiente das funções:"
   ]
  },
  {
   "cell_type": "markdown",
   "id": "dfc71dcd-b6cc-479b-906d-22890391c30c",
   "metadata": {},
   "source": [
    "a) $f(x, y, z) = xy + xz + yz$"
   ]
  },
  {
   "cell_type": "markdown",
   "id": "e9a4c2db-fe10-4cf3-9f39-c06ffb7550e8",
   "metadata": {},
   "source": [
    "\\begin{align*}\n",
    "\\nabla f &= \\langle f_x, f_y, f_z \\rangle\\\\\n",
    "\\nabla f &= \\langle y + z, x + z, x + y \\rangle\n",
    "\\end{align*}"
   ]
  },
  {
   "cell_type": "markdown",
   "id": "881e9d27-8c35-4991-9558-3bbcbd1ee692",
   "metadata": {},
   "source": [
    "\\vspace{10mm}"
   ]
  },
  {
   "cell_type": "markdown",
   "id": "a43633d4-a29b-47f7-b94c-1f9bd62c81f6",
   "metadata": {},
   "source": [
    "b) $f(x, y, z) = x^2 + 2y^2 + 4z^2$"
   ]
  },
  {
   "cell_type": "markdown",
   "id": "3acbe888-a316-4af9-b802-0423a568bc94",
   "metadata": {},
   "source": [
    "\\begin{align*}\n",
    "\\nabla f &= \\langle f_x, f_y, f_z \\rangle\\\\\n",
    "\\nabla f &= \\langle 2x, 4y, 8z \\rangle\n",
    "\\end{align*}"
   ]
  },
  {
   "cell_type": "markdown",
   "id": "c0e560b6-daf0-4fa6-8abf-f55e024f6e81",
   "metadata": {},
   "source": [
    "\\vspace{10mm}"
   ]
  },
  {
   "cell_type": "markdown",
   "id": "e08acbee-d330-47ba-abd2-a6801b869608",
   "metadata": {},
   "source": [
    "c) $f(x, y) = 3xy^3 - 2y$"
   ]
  },
  {
   "cell_type": "markdown",
   "id": "33990df7-0360-4489-88db-750b3f20c872",
   "metadata": {},
   "source": [
    "\\begin{align*}\n",
    "\\nabla f &= \\langle f_x, f_y \\rangle\\\\\n",
    "\\nabla f &= \\langle 3y^3, 9xy^2 - 2 \\rangle\\\\\n",
    "\\end{align*}"
   ]
  },
  {
   "cell_type": "code",
   "execution_count": 1,
   "id": "3083d54b-b96e-4431-b7c3-b8836686e3fd",
   "metadata": {},
   "outputs": [
    {
     "name": "stdout",
     "output_type": "stream",
     "text": [
      "[NbConvertApp] Converting notebook 20210525-D1MAT-lista05-resolucao.ipynb to pdf\n",
      "[NbConvertApp] Writing 21190 bytes to notebook.tex\n",
      "[NbConvertApp] Building PDF\n",
      "[NbConvertApp] Running xelatex 3 times: ['xelatex', 'notebook.tex', '-quiet']\n",
      "[NbConvertApp] Running bibtex 1 time: ['bibtex', 'notebook']\n",
      "[NbConvertApp] WARNING | bibtex had problems, most likely because there were no citations\n",
      "[NbConvertApp] PDF successfully created\n",
      "[NbConvertApp] Writing 26860 bytes to 20210525-D1MAT-lista05-resolucao.pdf\n"
     ]
    }
   ],
   "source": [
    "###HIDE-TO-CONVERT\n",
    "!jupyter nbconvert --to pdf --RegexRemovePreprocessor.patterns \"^###HIDE-TO-CONVERT\" 20210525-D1MAT-lista05-resolucao.ipynb"
   ]
  }
 ],
 "metadata": {
  "authors": [
   {
    "name": "Diego Machado de Assis"
   }
  ],
  "kernelspec": {
   "display_name": "Python 3",
   "language": "python",
   "name": "python3"
  },
  "language_info": {
   "codemirror_mode": {
    "name": "ipython",
    "version": 3
   },
   "file_extension": ".py",
   "mimetype": "text/x-python",
   "name": "python",
   "nbconvert_exporter": "python",
   "pygments_lexer": "ipython3",
   "version": "3.9.2"
  },
  "title": "D1MAT - Lista de Exercícios 05: Gradiente"
 },
 "nbformat": 4,
 "nbformat_minor": 5
}
