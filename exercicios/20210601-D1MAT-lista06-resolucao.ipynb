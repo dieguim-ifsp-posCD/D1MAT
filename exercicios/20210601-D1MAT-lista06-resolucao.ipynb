{
 "cells": [
  {
   "cell_type": "markdown",
   "id": "1e1db721-addc-40fc-bcda-6ed54f816f47",
   "metadata": {},
   "source": [
    "1. (FGV-2005) As meninas 1 = Adriana; 2 = Bruna e 3 = Carla falam muito ao telefone entre si. A matriz $M$ mostra cada elemento $a_{ij}$ representando o número de telefonemas que \"i\" deu para \"j\" no mês de setembro:$\\\\$\n",
    "$M =\n",
    "\\begin{bmatrix}\n",
    "0  & 13 & 10\\\\\n",
    "18 & 0  & 6\\\\\n",
    "9  & 12 & 0\n",
    "\\end{bmatrix}$. Quem mais telefonou e quem mais recebeu ligações?\n"
   ]
  },
  {
   "cell_type": "markdown",
   "id": "4c0ddf16-d1c6-4ad3-81dd-abf556cb77de",
   "metadata": {},
   "source": [
    "\\vspace{5mm}"
   ]
  },
  {
   "cell_type": "markdown",
   "id": "f69c7956-5e34-44d8-a19c-9cb6bb2a4994",
   "metadata": {},
   "source": [
    "Cada linha $i$ da matriz $M$ representa as ligações feitas pela menina $i$. E cada coluna $j$ representa as ligações recebidas pela menina $j$. Dessa forma, temos que:\n",
    "\\begin{align*}\n",
    "& \\text{(linha 1) Ligações de Adriana} = 0 + 13 + 10 = 23 & & \\text{(coluna 1) Ligações para Adriana} = 0 + 18 + 9 = 27\\\\\n",
    "& \\text{(linha 2) Ligações de Bruna} = 18 + 0 + 6 = 24 & & \\text{(coluna 2) Ligações para Bruna} = 13 + 0 + 12 = 25\\\\\n",
    "& \\text{(linha 3) Ligações de Carla} = 9 + 12 + 0 = 21 & & \\text{(coluna 1) Ligações para Carla} = 10 + 6 + 0 = 16\n",
    "\\end{align*}\n",
    "\n",
    "Olhando para as linhas, podemos concluir que quem mais realizou chamadas foi *Bruna*, com um total de $24$ ligações. As colunas nos infomam que quem mais recebeu ligações foi *Adriana*, com um total de $27$ chamadas.\n",
    "\n",
    "**Resposta**: Quem mais telefonou foi *Bruna*. Quem mais recebeu ligações foi *Adriana*."
   ]
  },
  {
   "cell_type": "markdown",
   "id": "94f3b388-a9d5-46c4-b477-ce64675e8e8f",
   "metadata": {},
   "source": [
    "\\vspace{5mm}\n",
    "\n",
    "---\n",
    "\n",
    "\\vspace{5mm}"
   ]
  },
  {
   "cell_type": "markdown",
   "id": "58f2072c-3665-41b7-a109-fffca9f6da23",
   "metadata": {},
   "source": [
    "2. Uma matriz $A$ é do tipo $3 \\times 5$, outra matriz $B$ é do tipo $5 \\times 2$ e a matriz $C$ é do tipo $m \\times 4$. Qual o valor de $\\mathbf{m}$ para que exista o produto $(A \\cdot B) \\cdot C$?"
   ]
  },
  {
   "cell_type": "markdown",
   "id": "d87a60e5-ada1-4af3-94f1-a6c853819802",
   "metadata": {},
   "source": [
    "\\vspace{5mm}"
   ]
  },
  {
   "cell_type": "markdown",
   "id": "f8d990b2-f81f-427a-804c-9020ebfbb040",
   "metadata": {},
   "source": [
    "Sendo $A$ uma matriz $3 \\times 5$ e $B$ uma matriz $5 \\times 2$, tempos que o produto $A \\cdot B$ terá como resultado uma matriz com o número de linhas de $A$ e o número de colunas de $B$, ou seja, $A \\cdot B$ será uma matriz do tipo $3 \\times 2$.\n",
    "\n",
    "Para que exista o produto $(A \\cdot B) \\cdot C$, o número de linhas de $C$ (valor de $m$) deve ser igual ao número de colunas de $A \\cdot B$, ou seja, $m = 2$.\n",
    "\n",
    "**Resposta**: $m = 2$"
   ]
  },
  {
   "cell_type": "markdown",
   "id": "41f0523e-5e0e-4886-8eec-5a2df1f01aee",
   "metadata": {},
   "source": [
    "\\vspace{5mm}\n",
    "\n",
    "---\n",
    "\n",
    "\\vspace{5mm}"
   ]
  },
  {
   "cell_type": "markdown",
   "id": "01cfb245-d136-4d50-9624-39d5342553aa",
   "metadata": {},
   "source": [
    "3. Dadas as matrizes\n",
    "$A = \\begin{bmatrix}\n",
    "3 & 5\\\\\n",
    "1 & -3\n",
    "\\end{bmatrix}$ e\n",
    "$B = \\begin{bmatrix}\n",
    "4 & 0\n",
    "\\end{bmatrix}$ obtenha $X$ tal que $X \\cdot A = B$"
   ]
  },
  {
   "cell_type": "markdown",
   "id": "2132250a-e9d3-40cd-b53e-58a529cdd46c",
   "metadata": {},
   "source": [
    "\\vspace{5mm}"
   ]
  },
  {
   "cell_type": "markdown",
   "id": "10f82f43-126c-4129-b129-082c556627cb",
   "metadata": {},
   "source": [
    "Para que o produto $X \\cdot A$ exista, o número de colunas de $X$ deve ser igual ao número de linhas de $A$, ou seja, $X$ possui $2$ colunas. O resultado deste produto será uma matriz com o mesmo número de linhas de $X$, ou seja, como $B$ possui $1$ linha, o número de linhas de $X$ também será $1$. Portanto, sabemos que $X$ é uma matriz do tipo $1 \\times 2$. Seja\n",
    "$X = \\begin{bmatrix}\n",
    "x_1 & x_2\n",
    "\\end{bmatrix}$, temos que:\n",
    "\n",
    "$$\n",
    "\\begin{bmatrix}\n",
    "x_1 & x_2\n",
    "\\end{bmatrix} \\cdot\n",
    "\\begin{bmatrix}\n",
    "3 & 5\\\\\n",
    "1 & -3\n",
    "\\end{bmatrix} = \n",
    "\\begin{bmatrix}\n",
    "4 & 0\n",
    "\\end{bmatrix}\n",
    "$$\n",
    "\n",
    "$$\n",
    "\\begin{cases}\n",
    "3x_1 + x_2 = 4\\\\\n",
    "5x_1 - 3x_2 = 0\n",
    "\\end{cases}\n",
    "$$\n",
    "\n",
    "Pela segunda equação acima, temos:\n",
    "$$\n",
    "5x_1 - 3x_2 = 0 \\implies 3x_2 = 5x_1 \\implies x_2 = \\frac{5}{3}x_1\n",
    "$$\n",
    "\n",
    "Substituindo o valor de $x_2$ na primeira equação:\n",
    "$$\n",
    "3x_1 + x_2 = 4 \\implies 3x_1 + \\frac{5}{3}x_1 = 4 \\implies \\frac{9}{3}x_1 + \\frac{5}{3}x_1 = 4 \\implies \\frac{14}{3}x_1 = 4 \\implies x_1 = \\frac{12}{14} \\implies x_1 = \\frac{6}{7}\n",
    "$$\n",
    "\n",
    "E, por fim:\n",
    "$$\n",
    "x_2 = \\frac{5}{3}x_1 \\implies x_2 = \\frac{5}{3} \\cdot \\frac{6}{7} \\implies x_2 = \\frac{10}{7}\n",
    "$$\n",
    "\n",
    "**Resposta**: $\\displaystyle X = \\begin{bmatrix}\n",
    "\\frac{6}{7} & \\frac{10}{7}\n",
    "\\end{bmatrix}$"
   ]
  },
  {
   "cell_type": "code",
   "execution_count": 1,
   "id": "6d5e3e7d-edf8-4f22-bdd6-00f0941c1f7e",
   "metadata": {},
   "outputs": [
    {
     "data": {
      "text/plain": [
       "{x: 6/7, y: 10/7}"
      ]
     },
     "execution_count": 1,
     "metadata": {},
     "output_type": "execute_result"
    }
   ],
   "source": [
    "###HIDE-TO-CONVERT\n",
    "from sympy import solve, Eq\n",
    "from sympy.abc import x, y\n",
    "from sympy.matrices import Matrix\n",
    "\n",
    "A = Matrix([\n",
    "    [3, 5],\n",
    "    [1, -3]\n",
    "])\n",
    "B = Matrix([[4, 0]])\n",
    "\n",
    "X = Matrix([[x, y]])\n",
    "solve(Eq(X * A, B), (x, y))"
   ]
  },
  {
   "cell_type": "markdown",
   "id": "082de0e3-db5e-4dff-923d-c8bda9317e70",
   "metadata": {},
   "source": [
    "\\vspace{5mm}\n",
    "\n",
    "---\n",
    "\n",
    "\\vspace{5mm}"
   ]
  },
  {
   "cell_type": "markdown",
   "id": "a77dafeb-641d-4202-906b-bd2247cbf8b0",
   "metadata": {},
   "source": [
    "4. (FGV-2004) Uma matriz $X$ possui elementos cuja soma vale $1$. Se\n",
    "$X \\cdot \\begin{bmatrix}\n",
    "1 & -1\\\\\n",
    "-1 & 1\n",
    "\\end{bmatrix} \\cdot X^T = \\begin{bmatrix}\n",
    "1\n",
    "\\end{bmatrix}$ onde $X^T$ é a transposta de $X$, calcule o produto dos elementos de $X$."
   ]
  },
  {
   "cell_type": "markdown",
   "id": "4febe25e-b4ee-43c8-823f-5ad0bd6ca018",
   "metadata": {},
   "source": [
    "\\vspace{5mm}"
   ]
  },
  {
   "cell_type": "markdown",
   "id": "5f384502-33ff-4dc1-9c1d-0fd60fe3d14f",
   "metadata": {},
   "source": [
    "Para que o primeiro produto exista, sabemos que $X$ deve possuir $2$ colunas. Como o resultado final do segundo produto é uma matriz $1 \\times 1$, podemos dizer que $X^T$ possui $1$ coluna e, portanto, $X$ possui $1$ linha. Seja então\n",
    "$X = \\begin{bmatrix}\n",
    "x_1 & x_2\n",
    "\\end{bmatrix}$, temos que:\n",
    "\n",
    "\\begin{align*}\n",
    "\\begin{bmatrix}\n",
    "x_1 & x_2\n",
    "\\end{bmatrix} \\cdot \\begin{bmatrix}\n",
    "1 & -1\\\\\n",
    "-1 & 1\n",
    "\\end{bmatrix} \\cdot \\begin{bmatrix}\n",
    "x_1\\\\\n",
    "x_2\n",
    "\\end{bmatrix} &= \\begin{bmatrix}\n",
    "1\n",
    "\\end{bmatrix}\\\\\n",
    "\\begin{bmatrix}\n",
    "x_1 - x_2 & -x_1 + x_2\n",
    "\\end{bmatrix} \\cdot \\begin{bmatrix}\n",
    "x_1\\\\\n",
    "x_2\n",
    "\\end{bmatrix} &= \\begin{bmatrix}\n",
    "1\n",
    "\\end{bmatrix}\n",
    "\\end{align*}\n",
    "\n",
    "Ou seja:\n",
    "\n",
    "\\begin{align*}\n",
    "x_1(x_1 - x_2) + x_2(-x_1 + x_2) &= 1\\\\\n",
    "x_1^2 - x_1x_2 - x_1x_2 + x_2^2 &= 1\\\\\n",
    "x_1^2 - 2x_1x_2 + x_2^2 &= 1\\\\\n",
    "(x_1 - x_2)^2 &= 1\\\\\n",
    "x_1 - x_2 &= \\pm 1 \n",
    "\\end{align*}\n",
    "\n",
    "Pelo enunciado temos que $x_1 + x_2 = 1$. \n",
    "\n",
    "$$\n",
    "\\text{Se}\\;  x_1 - x_2 = 1 \\implies\n",
    "\\begin{cases}\n",
    "x_1 + x_2 = 1\\\\\n",
    "x_1 - x_2 = 1\n",
    "\\end{cases}\n",
    "\\implies x_1 = 1;\\:x_2 = 0\n",
    "$$\n",
    "\n",
    "$$\n",
    "\\text{Se}\\;  x_1 - x_2 = -1 \\implies\n",
    "\\begin{cases}\n",
    "x_1 + x_2 = 1\\\\\n",
    "x_1 - x_2 = -1\n",
    "\\end{cases}\n",
    "\\implies x_1 = 0;\\:x_2 = 1\n",
    "$$\n",
    "\n",
    "Em ambos os casos, teremos que $x_1 \\cdot x_2 = 0$\n",
    "\n",
    "**Resposta**: O produto dos elementos de $X$ é igual a $0$"
   ]
  },
  {
   "cell_type": "code",
   "execution_count": 2,
   "id": "e7c13c72-798a-488d-bd68-236f8f144d97",
   "metadata": {},
   "outputs": [
    {
     "data": {
      "text/plain": [
       "[(0, 1), (1, 0)]"
      ]
     },
     "execution_count": 2,
     "metadata": {},
     "output_type": "execute_result"
    }
   ],
   "source": [
    "###HIDE-TO-CONVERT\n",
    "from sympy import solve, Eq\n",
    "from sympy.abc import x, y\n",
    "from sympy.matrices import Matrix, Transpose\n",
    "\n",
    "X = Matrix([[x, y]])\n",
    "M = Matrix([[1, -1], [-1, 1]])\n",
    "solve(\n",
    "    [\n",
    "        Eq(x + y, 1),\n",
    "        Eq(X * M * Transpose(X), Matrix([[1]]))\n",
    "    ],\n",
    "    (x, y)\n",
    ")"
   ]
  },
  {
   "cell_type": "markdown",
   "id": "0ab39574-9259-4550-8b28-14dcf3d3f157",
   "metadata": {},
   "source": [
    "\\vspace{5mm}\n",
    "\n",
    "---\n",
    "\n",
    "\\vspace{5mm}"
   ]
  },
  {
   "cell_type": "markdown",
   "id": "d5601d2f-6f0e-4036-b77d-da42e4446f86",
   "metadata": {},
   "source": [
    "5. Determine $x$ e $y$ na igualdade\n",
    "$\\begin{bmatrix}\n",
    "x & 3\\\\\n",
    "4 & y\n",
    "\\end{bmatrix} + \\begin{bmatrix}\n",
    "-1 & 5\\\\\n",
    "8 & y\n",
    "\\end{bmatrix} = \\begin{bmatrix}\n",
    "4 & 8\\\\\n",
    "12 & -6\n",
    "\\end{bmatrix}$\n"
   ]
  },
  {
   "cell_type": "markdown",
   "id": "4152eb8b-ca27-43a8-b914-bb99f3731e5e",
   "metadata": {},
   "source": [
    "\\vspace{5mm}"
   ]
  },
  {
   "cell_type": "markdown",
   "id": "61106fb9-fbbc-4f3a-87d4-f87c775b6af4",
   "metadata": {},
   "source": [
    "$$\n",
    "x + (-1) = 4 \\implies x = 5\n",
    "$$\n",
    "\n",
    "$$\n",
    "y + y = -6 \\implies y = -3\n",
    "$$\n",
    "\n",
    "**Resposta**: $x = 5$ e $y = -3$"
   ]
  },
  {
   "cell_type": "code",
   "execution_count": 3,
   "id": "f9dfab0a-0262-472a-8fae-04e75c04b0ca",
   "metadata": {},
   "outputs": [
    {
     "data": {
      "text/plain": [
       "{x: 5, y: -3}"
      ]
     },
     "execution_count": 3,
     "metadata": {},
     "output_type": "execute_result"
    }
   ],
   "source": [
    "###HIDE-TO-CONVERT\n",
    "from sympy import solve, Eq\n",
    "from sympy.abc import x, y\n",
    "from sympy.matrices import Matrix\n",
    "\n",
    "M1 = Matrix([\n",
    "    [x, 3],\n",
    "    [4, y]\n",
    "])\n",
    "\n",
    "M2 = Matrix([\n",
    "    [-1, 5],\n",
    "    [8, y]\n",
    "])\n",
    "\n",
    "R =  Matrix([\n",
    "    [4, 8],\n",
    "    [12, -6]\n",
    "])\n",
    "\n",
    "solve(Eq(M1 + M2, R), (x, y))"
   ]
  },
  {
   "cell_type": "markdown",
   "id": "671a21d1-495e-4203-9fff-443d6734b7d3",
   "metadata": {},
   "source": [
    "\\vspace{5mm}\n",
    "\n",
    "---\n",
    "\n",
    "\\vspace{5mm}"
   ]
  },
  {
   "cell_type": "markdown",
   "id": "a4b73adb-0e50-440a-87ee-e39911caa76e",
   "metadata": {},
   "source": [
    "6, Dadas as matrizes\n",
    "$A = \\begin{bmatrix}\n",
    "1 & 2 & -3\\\\\n",
    "4 & 5 & 6\n",
    "\\end{bmatrix}$ e $B = \\begin{bmatrix}\n",
    "1 & -2\\\\\n",
    "3 & 0\\\\\n",
    "4 & -3\n",
    "\\end{bmatrix}$, determine $A + 2 B^T$. "
   ]
  },
  {
   "cell_type": "markdown",
   "id": "615c1116-ed3a-4b25-87fe-e23b1180e296",
   "metadata": {},
   "source": [
    "\\vspace{5mm}"
   ]
  },
  {
   "cell_type": "markdown",
   "id": "260fcd3d-2532-4fc4-84b5-5c2715339156",
   "metadata": {},
   "source": [
    "$$\n",
    "B^T = \\begin{bmatrix}\n",
    "1 & 3 & 4\\\\\n",
    "-2 & 0 & -3\n",
    "\\end{bmatrix}\n",
    "$$\n",
    "\n",
    "$$\n",
    "2 B^T = 2 \\cdot \\begin{bmatrix}\n",
    "1 & 3 & 4\\\\\n",
    "-2 & 0 & -3\n",
    "\\end{bmatrix} = \\begin{bmatrix}\n",
    "2 & 6 & 8\\\\\n",
    "-4 & 0 & -6\n",
    "\\end{bmatrix}\n",
    "$$\n",
    "\n",
    "$$\n",
    "A + 2 B^T = \\begin{bmatrix}\n",
    "1 & 2 & -3\\\\\n",
    "4 & 5 & 6\n",
    "\\end{bmatrix} + \\begin{bmatrix}\n",
    "2 & 6 & 8\\\\\n",
    "-4 & 0 & -6\n",
    "\\end{bmatrix} = \\begin{bmatrix}\n",
    "3 & 8 & 5\\\\\n",
    "0 & 5 & 0\n",
    "\\end{bmatrix}\n",
    "$$\n",
    "\n",
    "**Resposta**: $A + 2 B^T = \\begin{bmatrix}\n",
    "3 & 8 & 5\\\\\n",
    "0 & 5 & 0\n",
    "\\end{bmatrix}$"
   ]
  },
  {
   "cell_type": "code",
   "execution_count": 4,
   "id": "254a7128-1826-4fb5-a5d4-4b8f401d36d0",
   "metadata": {},
   "outputs": [
    {
     "data": {
      "text/latex": [
       "$\\displaystyle \\left[\\begin{matrix}3 & 8 & 5\\\\0 & 5 & 0\\end{matrix}\\right]$"
      ],
      "text/plain": [
       "Matrix([\n",
       "[3, 8, 5],\n",
       "[0, 5, 0]])"
      ]
     },
     "execution_count": 4,
     "metadata": {},
     "output_type": "execute_result"
    }
   ],
   "source": [
    "###HIDE-TO-CONVERT\n",
    "from sympy.matrices import Matrix, Transpose\n",
    "\n",
    "A = Matrix([\n",
    "    [1, 2, -3],\n",
    "    [4, 5, 6]\n",
    "])\n",
    "\n",
    "B = Matrix([\n",
    "    [1, -2],\n",
    "    [3, 0],\n",
    "    [4, -3]\n",
    "])\n",
    "\n",
    "A + 2*Transpose(B)"
   ]
  },
  {
   "cell_type": "markdown",
   "id": "b87b87fd-6c05-4fca-affb-76ca8656fc1d",
   "metadata": {},
   "source": [
    "\\vspace{5mm}\n",
    "\n",
    "---\n",
    "\n",
    "\\vspace{5mm}"
   ]
  },
  {
   "cell_type": "markdown",
   "id": "4dbe512a-b7f9-4e90-9133-f10e46154337",
   "metadata": {},
   "source": [
    "7. (PUC) Um batalhão do exército, resolveu codificar suas mensagens através da multiplicação de matrizes. Primeiramente, associa as letras do alfabeto aos números, segundo a correspondência abaixo considerada:\n",
    "\n",
    "|A|B|C|D|E|F|G|H|I|J|L|M|N|O|P|Q|R|S|T|U|V|W|X|Y|Z|\n",
    "|---|---|---|---|---|---|---|---|---|---|---|---|---|---|---|---|---|---|---|---|---|---|---|---|---|\n",
    "|1|2|3|4|5|6|7|8|9|10|11|12|13|14|15|16|17|18|19|20|21|22|23|24|25|\n",
    "\n",
    "Desta forma, supondo que o batalhão, em questão, deseja enviar a mensagem \"PAZ\", pode-se tomar uma matriz $2 \\times 2$, da forma:\n",
    "$\\begin{bmatrix}\n",
    "P & A\\\\\n",
    "Z & -\n",
    "\\end{bmatrix}$, a qual, usando-se da tabela acima, será dado por:\n",
    "$M = \\begin{bmatrix}\n",
    "15 & 1\\\\\n",
    "25 & 0\n",
    "\\end{bmatrix}$. Tomando-se a matriz-chave $C$ para o código, isto é:\n",
    "$C = \\begin{bmatrix}\n",
    "2 & 3\\\\\n",
    "1 & 2\n",
    "\\end{bmatrix}$, transmite-se a mensagem \"PAZ\" através da multiplicação das matrizes $M$ e $C$, ou seja:\n",
    "$M \\cdot C = \\begin{bmatrix}\n",
    "15 & 1\\\\\n",
    "25 & 0\n",
    "\\end{bmatrix} \\cdot \\begin{bmatrix}\n",
    "2 & 3\\\\\n",
    "1 & 2\n",
    "\\end{bmatrix} = \\begin{bmatrix}\n",
    "31 & 47\\\\\n",
    "50 & 75\n",
    "\\end{bmatrix}$. Ou através da cadeia de números $31\\; 47\\; 50\\; 75$. Desta forma, utilizando-se a mesma matriz-chave $C$, a decodificação da mensagem $51\\; 81\\; 9\\; 14$ será compreendida pelo batalhão como a transmissão de qual palavra? E a mensagem $27\\; 49\\; 48\\; 79$? "
   ]
  },
  {
   "cell_type": "markdown",
   "id": "ee3dce1d-6862-4f50-9d3e-5c1b7d9d46e5",
   "metadata": {},
   "source": [
    "\\vspace{5mm}"
   ]
  },
  {
   "cell_type": "markdown",
   "id": "968d2ebf-d0b4-445e-928e-24fc57c0d0aa",
   "metadata": {},
   "source": [
    "O primeiro passo para decodificar uma mensagem é encontrarmos a matriz inversa de $C$, pois:\n",
    "$$\n",
    "M \\cdot C \\cdot C^{-1} = M \\cdot I_2 = M\n",
    "$$\n",
    "\n",
    "Seja $C^{-1} = \\begin{bmatrix}\n",
    "x & y\\\\\n",
    "z & w\n",
    "\\end{bmatrix}$ a matriz inversa de $C$. Temos que:\n",
    "\n",
    "\\begin{align*}\n",
    "C \\cdot C^{-1} &= I_2\\\\\n",
    "\\begin{bmatrix}\n",
    "2 & 3\\\\\n",
    "1 & 2\n",
    "\\end{bmatrix} \\cdot \\begin{bmatrix}\n",
    "x & y\\\\\n",
    "z & w\n",
    "\\end{bmatrix} &= \\begin{bmatrix}\n",
    "1 & 0\\\\\n",
    "0 & 1\n",
    "\\end{bmatrix}\\\\\n",
    "\\begin{bmatrix}\n",
    "2x + 3z & 2y + 3w\\\\\n",
    "x + 2z & y + 2w\n",
    "\\end{bmatrix} &= \\begin{bmatrix}\n",
    "1 & 0\\\\\n",
    "0 & 1\n",
    "\\end{bmatrix}\n",
    "\\end{align*}\n",
    "\n",
    "Pela primeira coluna da igualdade, temos:\n",
    "$$\n",
    "\\begin{cases}\n",
    "2x + 3z = 1\\\\\n",
    "x + 2z = 0 \\implies x = -2z\n",
    "\\end{cases}\n",
    "$$\n",
    "\n",
    "Substituindo a segunda equação da primeira:\n",
    "\\begin{align*}\n",
    "2(-2z) + 3z = 1 \\implies -4z + 3z = 1 &\\implies z = -1\\\\\n",
    "x = -2z \\implies x = -2(-1) &\\implies x = 2\n",
    "\\end{align*}\n",
    "\n",
    "Pela segunda coluna da igualdade, temos:\n",
    "$$\n",
    "\\begin{cases}\n",
    "2y + 3w = 0\\\\\n",
    "y + 2w = 1 \\implies y = 1 - 2w\n",
    "\\end{cases}\n",
    "$$\n",
    "\n",
    "Substituindo a segunda equação da primeira:\n",
    "\\begin{align*}\n",
    "2(1 - 2w) + 3w = 0 \\implies 2 - 4w + 3w = 0 &\\implies w = 2\\\\\n",
    "y = 1 - 2w \\implies y = 1 - 2(2) &\\implies y = -3\n",
    "\\end{align*}\n",
    "\n",
    "Portanto, $C^{-1} = \\begin{bmatrix}\n",
    "x & y\\\\\n",
    "z & w\n",
    "\\end{bmatrix} = \\begin{bmatrix}\n",
    "2 & -3\\\\\n",
    "-1 & 2\n",
    "\\end{bmatrix}$\n",
    "\n",
    "Para decodificar a mensagem $51\\; 81\\; 9\\; 14$:\n",
    "\n",
    "$$\n",
    "\\begin{bmatrix}\n",
    "51 & 81\\\\\n",
    "9 & 14\n",
    "\\end{bmatrix} \\cdot \\begin{bmatrix}\n",
    "2 & -3\\\\\n",
    "-1 & 2\n",
    "\\end{bmatrix} = \\begin{bmatrix}\n",
    "51(2) + 81(-1) & 51(-3) + 81(2)\\\\\n",
    "9(2) + 14(-1) & 9(-3) + 14(2)\n",
    "\\end{bmatrix} = \\begin{bmatrix}\n",
    "21 & 9\\\\\n",
    "4 & 1\n",
    "\\end{bmatrix} = \\begin{bmatrix}\n",
    "V & I\\\\\n",
    "D & A\n",
    "\\end{bmatrix} = V\\; I\\; D\\; A\n",
    "$$\n",
    "\n",
    "Para decodificar a mensagem $27\\; 49\\; 48\\; 79$:\n",
    "\n",
    "$$\n",
    "\\begin{bmatrix}\n",
    "27 & 49\\\\\n",
    "48 & 79\n",
    "\\end{bmatrix} \\cdot \\begin{bmatrix}\n",
    "2 & -3\\\\\n",
    "-1 & 2\n",
    "\\end{bmatrix} = \\begin{bmatrix}\n",
    "27(2) + 49(-1) & 27(-3) + 49(2)\\\\\n",
    "48(2) + 79(-1) & 48(-3) + 79(2)\n",
    "\\end{bmatrix} = \\begin{bmatrix}\n",
    "5 & 17\\\\\n",
    "17 & 14\n",
    "\\end{bmatrix} = \\begin{bmatrix}\n",
    "E & R\\\\\n",
    "R & O\n",
    "\\end{bmatrix} = E\\; R\\; R\\; O\n",
    "$$\n",
    "\n",
    "**Resposta**: A mensagem $51\\; 81\\; 9\\; 14$ será compreendida como **VIDA** e a mensagem $27\\; 49\\; 48\\; 79$ será compreendida como **ERRO**."
   ]
  },
  {
   "cell_type": "code",
   "execution_count": 5,
   "id": "b156ce5d-aa05-4547-8cfd-f0b2b2f8af9b",
   "metadata": {},
   "outputs": [
    {
     "name": "stdout",
     "output_type": "stream",
     "text": [
      "Matrix([[15, 1], [25, 0]])\n",
      "Matrix([[21, 9], [4, 1]])\n",
      "Matrix([[5, 17], [17, 14]])\n"
     ]
    }
   ],
   "source": [
    "###HIDE-TO-CONVERT\n",
    "from sympy import solve, Eq\n",
    "from sympy.matrices import Matrix, Transpose\n",
    "\n",
    "C = Matrix([\n",
    "    [2, 3],\n",
    "    [1, 2]\n",
    "])\n",
    "\n",
    "M =  Matrix([\n",
    "    [31, 47],\n",
    "    [50, 75]\n",
    "])\n",
    "\n",
    "print(M * C.inv())\n",
    "\n",
    "M1 = Matrix([\n",
    "    [51, 81],\n",
    "    [9, 14]\n",
    "])\n",
    "\n",
    "print(M1 * C.inv())\n",
    "\n",
    "M2 = Matrix([\n",
    "    [27, 49],\n",
    "    [48, 79]\n",
    "])\n",
    "\n",
    "print(M2 * C.inv())"
   ]
  },
  {
   "cell_type": "code",
   "execution_count": 6,
   "id": "36c6fd9a-e2bc-4839-8a79-1665d6f009d3",
   "metadata": {},
   "outputs": [
    {
     "name": "stdout",
     "output_type": "stream",
     "text": [
      "[NbConvertApp] Converting notebook 20210601-D1MAT-lista06-resolucao.ipynb to pdf\n",
      "[NbConvertApp] Writing 29934 bytes to notebook.tex\n",
      "[NbConvertApp] Building PDF\n",
      "[NbConvertApp] Running xelatex 3 times: ['xelatex', 'notebook.tex', '-quiet']\n",
      "[NbConvertApp] Running bibtex 1 time: ['bibtex', 'notebook']\n",
      "[NbConvertApp] WARNING | bibtex had problems, most likely because there were no citations\n",
      "[NbConvertApp] PDF successfully created\n",
      "[NbConvertApp] Writing 46541 bytes to 20210601-D1MAT-lista06-resolucao.pdf\n"
     ]
    }
   ],
   "source": [
    "###HIDE-TO-CONVERT\n",
    "!jupyter nbconvert --to pdf --RegexRemovePreprocessor.patterns \"^###HIDE-TO-CONVERT\" 20210601-D1MAT-lista06-resolucao.ipynb"
   ]
  }
 ],
 "metadata": {
  "authors": [
   {
    "name": "Diego Machado de Assis"
   }
  ],
  "kernelspec": {
   "display_name": "Python 3",
   "language": "python",
   "name": "python3"
  },
  "language_info": {
   "codemirror_mode": {
    "name": "ipython",
    "version": 3
   },
   "file_extension": ".py",
   "mimetype": "text/x-python",
   "name": "python",
   "nbconvert_exporter": "python",
   "pygments_lexer": "ipython3",
   "version": "3.9.2"
  },
  "title": "D1MAT - Lista de Exercícios 06: Matrizes"
 },
 "nbformat": 4,
 "nbformat_minor": 5
}
