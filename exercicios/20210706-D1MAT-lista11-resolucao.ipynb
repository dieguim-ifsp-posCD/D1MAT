{
 "cells": [
  {
   "cell_type": "markdown",
   "id": "779d1ae4-d2ac-4bd5-beb8-f61b341739a4",
   "metadata": {},
   "source": [
    "1. Determinar os autovalores e autovetores da transformação linear $T: \\mathbb{R}^2 \\longrightarrow \\mathbb{R}^2, T(x, y) = (x + 2y, -x + 4y)$."
   ]
  },
  {
   "cell_type": "markdown",
   "id": "78c86c75-1bd7-4181-9d5a-6421154f6d16",
   "metadata": {},
   "source": [
    "\\vspace{5mm}"
   ]
  },
  {
   "cell_type": "markdown",
   "id": "e1726080-2305-44fa-9b45-e612f52dba5f",
   "metadata": {},
   "source": [
    "A matriz canônica da transformação $T$ é dada por\n",
    "$$\n",
    "A = \\begin{bmatrix}1 & 2\\\\-1 & 4\\end{bmatrix}\n",
    "$$\n",
    "\n",
    "E sua equação característica é dada por\n",
    "\\begin{align*}\n",
    "\\det(A - \\lambda I) = \\begin{vmatrix}1 - \\lambda & 2\\\\-1 & 4 - \\lambda\\end{vmatrix} = 0\n",
    "\\end{align*}\n",
    "\n",
    "Resolvendo o determinante temos que:\n",
    "\\begin{align}\n",
    "(1 - \\lambda)(4 - \\lambda) - 2(-1) &= 0 \\nonumber\\\\\n",
    "4 - \\lambda -4\\lambda + \\lambda^2 + 2 &= 0 \\nonumber\\\\\n",
    "\\lambda^2 - 5\\lambda + 6 &= 0 \\label{eq:1}\n",
    "\\end{align}\n",
    "\n",
    "As raízes da equação $\\ref{eq:1}$ são os autovalores da transformação linear: $\\lambda_1 = 3$ e $\\lambda_2 = 2$\n",
    "\n",
    "Para encontrar os autovetores, devemos resolver o sistema:\n",
    "$$\n",
    "(A - \\lambda I)v = 0\n",
    "$$\n",
    "\n",
    "Em que $v = (x, y)$ representa o autovetor associado ao autovalor $\\lambda$.\n",
    "\n",
    "O sistema ficará então da seguinte forma:\n",
    "$$\n",
    "\\begin{bmatrix}1 - \\lambda & 2\\\\-1 & 4 - \\lambda\\end{bmatrix} \\begin{bmatrix}x \\\\ y\\end{bmatrix} = \\begin{bmatrix}0 \\\\ 0\\end{bmatrix}\n",
    "$$\n",
    "\n",
    "Para $\\lambda_1 = 3$ o sistema será:\n",
    "$$\n",
    "\\begin{bmatrix}-2 & 2\\\\-1 & 1\\end{bmatrix} \\begin{bmatrix}x \\\\ y\\end{bmatrix} = \\begin{bmatrix}0 \\\\ 0\\end{bmatrix}\n",
    "$$\n",
    "\n",
    "Ou ainda:\n",
    "$$\n",
    "\\begin{cases}\n",
    "\\begin{alignedat}{3}\n",
    "    -2x & {}+{} & 2y & {}={} 0\\\\\n",
    "     -x & {}+{} &  y & {}={} 0\n",
    "\\end{alignedat}\n",
    "\\end{cases}\n",
    "$$\n",
    "\n",
    "Que é resolvido para $y = x$. E portanto, os vetores do tipo $v_1 = (x, x)$ ou $v_1 = x(1, 1), x \\neq 0$ são autovetores associados ao autovalor $\\lambda_1 = 3$.\n",
    "\n",
    "Para $\\lambda_2 = 2$ o sistema será:\n",
    "$$\n",
    "\\begin{bmatrix}-1 & 2\\\\-1 & 2\\end{bmatrix} \\begin{bmatrix}x \\\\ y\\end{bmatrix} = \\begin{bmatrix}0 \\\\ 0\\end{bmatrix}\n",
    "$$\n",
    "\n",
    "Ou ainda:\n",
    "$$\n",
    "\\begin{cases}\n",
    "\\begin{alignedat}{3}\n",
    "    -x & {}+{} & 2y & {}={} 0\\\\\n",
    "    -x & {}+{} & 2y & {}={} 0\n",
    "\\end{alignedat}\n",
    "\\end{cases}\n",
    "$$\n",
    "\n",
    "Que é resolvido para $x = 2y$. E portanto, os vetores do tipo $v_2 = (2y, y)$ ou $v_2 = y(2, 1), y \\neq 0$ são autovetores associados ao autovalor $\\lambda_2 = 2$.\n",
    "\n",
    "**Resposta:** $\\lambda_1 = 3$ e $v_1 = x(1, 1)$; $\\lambda_2 = 2$ e $v_2 = x(2, 1)$. Para $x \\neq 0$."
   ]
  },
  {
   "cell_type": "code",
   "execution_count": 1,
   "id": "bf354d54-b61d-4ecb-a812-884e2b52cdea",
   "metadata": {},
   "outputs": [
    {
     "data": {
      "text/plain": [
       "[(2,\n",
       "  1,\n",
       "  [Matrix([\n",
       "   [2],\n",
       "   [1]])]),\n",
       " (3,\n",
       "  1,\n",
       "  [Matrix([\n",
       "   [1],\n",
       "   [1]])])]"
      ]
     },
     "execution_count": 1,
     "metadata": {},
     "output_type": "execute_result"
    }
   ],
   "source": [
    "###HIDE-TO-CONVERT\n",
    "from sympy.matrices import Matrix\n",
    "\n",
    "A = Matrix(2, 2, [1, 2, -1, 4])\n",
    "A.eigenvects()"
   ]
  },
  {
   "cell_type": "markdown",
   "id": "0dcedc3d-d4d6-46f4-995e-5f886363cb80",
   "metadata": {},
   "source": [
    "\\clearpage"
   ]
  },
  {
   "cell_type": "markdown",
   "id": "d6c83bea-db27-4678-a2df-296e97c09be5",
   "metadata": {},
   "source": [
    "2. Seja $T: \\mathbb{R}^2 \\longrightarrow \\mathbb{R}^2$ o operador linear definido por $T(x, y) = (7x - 4y, -4x + y)$"
   ]
  },
  {
   "cell_type": "markdown",
   "id": "bc17c0a7-11db-4f9d-9152-f29534e6524f",
   "metadata": {},
   "source": [
    "\\vspace{5mm}"
   ]
  },
  {
   "cell_type": "markdown",
   "id": "bf0764ab-042e-4d0a-846e-5b8685368f65",
   "metadata": {},
   "source": [
    "a) Determinar uma base do $\\mathbb{R}^2$ em relação à qual a matriz do operador $T$ é diagonal."
   ]
  },
  {
   "cell_type": "markdown",
   "id": "ed0496fc-a71f-4a4c-b72b-9db739188af8",
   "metadata": {},
   "source": [
    "\\vspace{5mm}"
   ]
  },
  {
   "cell_type": "markdown",
   "id": "cc8ca20a-82d3-4bb6-96ac-a0167a6dbb8b",
   "metadata": {},
   "source": [
    "A base em relação à qual a matriz do operador $T$ é diagonal é composta pelo conjunto de autovetores distintos de $T$. Portanto, precisamos encontrar esses autovetores.\n",
    "\n",
    "A matriz canônica da transformação $T$ é dada por\n",
    "$$\n",
    "A = \\begin{bmatrix}7 & -4\\\\-4 & 1\\end{bmatrix}\n",
    "$$\n",
    "\n",
    "E sua equação característica é dada por\n",
    "\\begin{align*}\n",
    "\\det(A - \\lambda I) = \\begin{vmatrix}7 - \\lambda & -4\\\\-4 & 1 - \\lambda\\end{vmatrix} = 0\n",
    "\\end{align*}\n",
    "\n",
    "Resolvendo o determinante temos que:\n",
    "\\begin{align}\n",
    "(7 - \\lambda)(1 - \\lambda) - (-4)(-4) &= 0 \\nonumber\\\\\n",
    "7 - 7\\lambda -\\lambda + \\lambda^2 - 16 &= 0 \\nonumber\\\\\n",
    "\\lambda^2 - 8\\lambda - 9 &= 0 \\label{eq:2a}\n",
    "\\end{align}\n",
    "\n",
    "As raízes da equação $\\ref{eq:2a}$ são os autovalores do operador $T$: $\\lambda_1 = 9$ e $\\lambda_2 = -1$\n",
    "\n",
    "Para encontrar os autovetores, devemos resolver o sistema:\n",
    "$$\n",
    "(A - \\lambda I)v = 0\n",
    "$$\n",
    "\n",
    "Em que $v = (x, y)$ representa o autovetor associado ao autovalor $\\lambda$.\n",
    "\n",
    "O sistema ficará então da seguinte forma:\n",
    "$$\n",
    "\\begin{bmatrix}7 - \\lambda & -4\\\\-4 & 1 - \\lambda\\end{bmatrix} \\begin{bmatrix}x \\\\ y\\end{bmatrix} = \\begin{bmatrix}0 \\\\ 0\\end{bmatrix}\n",
    "$$\n",
    "\n",
    "Para $\\lambda_1 = 9$ o sistema será:\n",
    "$$\n",
    "\\begin{bmatrix}-2 & -4\\\\-4 & -8\\end{bmatrix} \\begin{bmatrix}x \\\\ y\\end{bmatrix} = \\begin{bmatrix}0 \\\\ 0\\end{bmatrix}\n",
    "$$\n",
    "\n",
    "Ou ainda:\n",
    "$$\n",
    "\\begin{cases}\n",
    "\\begin{alignedat}{3}\n",
    "    -2x & {}-{} & 4y & {}={} 0\\\\\n",
    "    -4x & {}-{} & 8y & {}={} 0\n",
    "\\end{alignedat}\n",
    "\\end{cases}\n",
    "$$\n",
    "\n",
    "Que é resolvido para $x = -2y$. E portanto, os vetores do tipo $v_1 = (-2y, y)$ ou $v_1 = y(-2, 1), y \\neq 0$ são autovetores associados ao autovalor $\\lambda_1 = 9$.\n",
    "\n",
    "Para $\\lambda_2 = -1$ o sistema será:\n",
    "$$\n",
    "\\begin{bmatrix}8 & -4\\\\-4 & 2\\end{bmatrix} \\begin{bmatrix}x \\\\ y\\end{bmatrix} = \\begin{bmatrix}0 \\\\ 0\\end{bmatrix}\n",
    "$$\n",
    "\n",
    "Ou ainda:\n",
    "$$\n",
    "\\begin{cases}\n",
    "\\begin{alignedat}{3}\n",
    "     8x & {}-{} & 4y & {}={} 0\\\\\n",
    "    -4x & {}+{} & 2y & {}={} 0\n",
    "\\end{alignedat}\n",
    "\\end{cases}\n",
    "$$\n",
    "\n",
    "Que é resolvido para $y = 2x$. E portanto, os vetores do tipo $v_2 = (x, 2x)$ ou $v_2 = x(1, 2), x \\neq 0$ são autovetores associados ao autovalor $\\lambda_2 = -1$.\n",
    "\n",
    "**Resposta:** O operador $T$ é diagonal à base $P = \\{(-2, 1), (1, 2)\\}$"
   ]
  },
  {
   "cell_type": "code",
   "execution_count": 2,
   "id": "38897e72-adc3-43f9-95a1-e14b34eafddd",
   "metadata": {},
   "outputs": [
    {
     "data": {
      "text/plain": [
       "[(-1,\n",
       "  1,\n",
       "  [Matrix([\n",
       "   [1/2],\n",
       "   [  1]])]),\n",
       " (9,\n",
       "  1,\n",
       "  [Matrix([\n",
       "   [-2],\n",
       "   [ 1]])])]"
      ]
     },
     "execution_count": 2,
     "metadata": {},
     "output_type": "execute_result"
    }
   ],
   "source": [
    "###HIDE-TO-CONVERT\n",
    "from sympy.matrices import Matrix\n",
    "\n",
    "A = Matrix(2, 2, [7, -4, -4, 1])\n",
    "A.eigenvects()"
   ]
  },
  {
   "cell_type": "markdown",
   "id": "81ca0e00-2571-47fb-8d70-3a88c8b1c392",
   "metadata": {},
   "source": [
    "\\vspace{5mm}\n",
    "\n",
    "----\n",
    "\n",
    "\\vspace{5mm}"
   ]
  },
  {
   "cell_type": "markdown",
   "id": "2def1bd4-bde0-4950-ada5-8d7fc6b7c3f2",
   "metadata": {},
   "source": [
    "b) Dar a matriz de $T$ nessa base."
   ]
  },
  {
   "cell_type": "markdown",
   "id": "fc384bb2-32cd-4b14-b76c-0f7f5484278c",
   "metadata": {},
   "source": [
    "\\vspace{5mm}"
   ]
  },
  {
   "cell_type": "markdown",
   "id": "3025d08e-8768-42f2-8835-4d61b3d6c229",
   "metadata": {},
   "source": [
    "A matriz do operador $T$ na base dos seus autovetores é uma matriz diagonal cujos elementos da diagonal principal são os autovalores associados. Portanto:\n",
    "$$\n",
    "[T]_P = \\begin{bmatrix}\\lambda_1 & 0\\\\0 & \\lambda_2\\end{bmatrix} = \\begin{bmatrix}9 & 0\\\\0 & -1\\end{bmatrix}\n",
    "$$\n",
    "\n",
    "**Resposta:** $[T]_P = \\begin{bmatrix}9 & 0\\\\0 & -1\\end{bmatrix}$"
   ]
  },
  {
   "cell_type": "markdown",
   "id": "feb03a98-7509-410a-95d0-7899ef2248d8",
   "metadata": {},
   "source": [
    "\\clearpage"
   ]
  },
  {
   "cell_type": "markdown",
   "id": "1d9b2c20-4bb7-4baa-88a4-3f90dec08b74",
   "metadata": {},
   "source": [
    "3. Verifique se $A = \\begin{bmatrix}2 & 4\\\\3 & 1\\end{bmatrix}$ é diagonalizável e, caso seja, determinar uma matriz $P$ que diagonaliza $A$ e calcular $P^{-1}AP$."
   ]
  },
  {
   "cell_type": "markdown",
   "id": "e27c5db7-bee0-47d8-80c7-34dd28afff13",
   "metadata": {},
   "source": [
    "\\vspace{5mm}"
   ]
  },
  {
   "cell_type": "markdown",
   "id": "47703ac2-85d4-440a-b4dd-bf0c4cb2718c",
   "metadata": {},
   "source": [
    "A matriz $A$ será diagonalizável se existir uma base do $\\mathbb{R}^2$ formada por autovetores de $A$. Para isso, precisamos então encontrar dois autovalores distintos de $A$.\n",
    "\n",
    "A equação característica de $A$ é dada por\n",
    "\\begin{align*}\n",
    "\\det(A - \\lambda I) = \\begin{vmatrix}2 - \\lambda & 4\\\\3 & 1 - \\lambda\\end{vmatrix} = 0\n",
    "\\end{align*}\n",
    "\n",
    "Resolvendo o determinante temos que:\n",
    "\\begin{align}\n",
    "(2 - \\lambda)(1 - \\lambda) - 4\\cdot3 &= 0 \\nonumber\\\\\n",
    "2 - 2\\lambda -\\lambda + \\lambda^2 - 12 &= 0 \\nonumber\\\\\n",
    "\\lambda^2 - 3\\lambda - 10 &= 0 \\label{eq:3}\n",
    "\\end{align}\n",
    "\n",
    "As raízes da equação $\\ref{eq:3}$ são os autovalores de $A$: $\\lambda_1 = 5$ e $\\lambda_2 = -2$\n",
    "\n",
    "Como $A$ possui dois autovalores distintos, $A$ é diagonalizável e a matriz $P$ que diagonaliza $A$ será a matriz formada a partir dos autovetores de $A$.\n",
    "\n",
    "Para encontrar os autovetores, devemos resolver o sistema:\n",
    "$$\n",
    "(A - \\lambda I)v = 0\n",
    "$$\n",
    "\n",
    "Em que $v = (x, y)$ representa o autovetor associado ao autovalor $\\lambda$.\n",
    "\n",
    "O sistema ficará então da seguinte forma:\n",
    "$$\n",
    "\\begin{bmatrix}2 - \\lambda & 4\\\\3 & 1 - \\lambda\\end{bmatrix} \\begin{bmatrix}x \\\\ y\\end{bmatrix} = \\begin{bmatrix}0 \\\\ 0\\end{bmatrix}\n",
    "$$\n",
    "\n",
    "Para $\\lambda_1 = 5$ o sistema será:\n",
    "$$\n",
    "\\begin{bmatrix}-3 & 4\\\\3 & -4\\end{bmatrix} \\begin{bmatrix}x \\\\ y\\end{bmatrix} = \\begin{bmatrix}0 \\\\ 0\\end{bmatrix}\n",
    "$$\n",
    "\n",
    "Ou ainda:\n",
    "$$\n",
    "\\begin{cases}\n",
    "\\begin{alignedat}{3}\n",
    "    -3x & {}+{} & 4y & {}={} 0\\\\\n",
    "     3x & {}-{} & 4y & {}={} 0\n",
    "\\end{alignedat}\n",
    "\\end{cases}\n",
    "$$\n",
    "\n",
    "Que é resolvido para $y = \\frac{3}{4}x$. E portanto, os vetores do tipo $v_1 = \\left(x, \\frac{3}{4}x\\right)$ ou $v_1 = \\frac{x}{4}(4, 3), x \\neq 0$ são autovetores associados ao autovalor $\\lambda_1 = 5$.\n",
    "\n",
    "Para $\\lambda_2 = -2$ o sistema será:\n",
    "$$\n",
    "\\begin{bmatrix}4 & 4\\\\3 & 3\\end{bmatrix} \\begin{bmatrix}x \\\\ y\\end{bmatrix} = \\begin{bmatrix}0 \\\\ 0\\end{bmatrix}\n",
    "$$\n",
    "\n",
    "Ou ainda:\n",
    "$$\n",
    "\\begin{cases}\n",
    "\\begin{alignedat}{3}\n",
    "    4x & {}+{} & 4y & {}={} 0\\\\\n",
    "    3x & {}+{} & 3y & {}={} 0\n",
    "\\end{alignedat}\n",
    "\\end{cases}\n",
    "$$\n",
    "\n",
    "Que é resolvido para $x = -y$. E portanto, os vetores do tipo $v_2 = (-y, y)$ ou $v_2 = y(-1, 1), y \\neq 0$ são autovetores associados ao autovalor $\\lambda_2 = -2$.\n",
    "\n",
    "O conjunto $P = \\{(4, 3), (-1, 1)\\}$ forma uma base do $\\mathbb{R}^2$ e portanto uma matriz que diagonaliza $A$ é:\n",
    "$$\n",
    "P = \\begin{bmatrix}4 & -1\\\\3 & 1\\end{bmatrix}\n",
    "$$\n",
    "\n",
    "$P^{-1}AP$ será a matriz diagonal cujos elementos da diagonal principal são os autovalores de $A$. Portanto:\n",
    "$$\n",
    "P^{-1}AP = \\begin{bmatrix}5 & 0\\\\0 & -2\\end{bmatrix}\n",
    "$$\n",
    "\n",
    "**Resposta:** $P = \\begin{bmatrix}4 & -1\\\\3 & 1\\end{bmatrix}$ e $P^{-1}AP = \\begin{bmatrix}5 & 0\\\\0 & -2\\end{bmatrix}$"
   ]
  },
  {
   "cell_type": "code",
   "execution_count": 3,
   "id": "f30dcb24-7d03-4d5c-a90d-0ca7991826ad",
   "metadata": {},
   "outputs": [
    {
     "name": "stdout",
     "output_type": "stream",
     "text": [
      "A é diagonalizável? True\n"
     ]
    },
    {
     "data": {
      "text/plain": [
       "(Matrix([\n",
       " [-1, 4],\n",
       " [ 1, 3]]),\n",
       " Matrix([\n",
       " [-2, 0],\n",
       " [ 0, 5]]))"
      ]
     },
     "execution_count": 3,
     "metadata": {},
     "output_type": "execute_result"
    }
   ],
   "source": [
    "###HIDE-TO-CONVERT\n",
    "from sympy.matrices import Matrix\n",
    "\n",
    "A = Matrix(2, 2, [2, 4, 3, 1])\n",
    "\n",
    "print('A é diagonalizável?', A.is_diagonalizable())\n",
    "A.diagonalize()"
   ]
  },
  {
   "cell_type": "code",
   "execution_count": 4,
   "id": "f73ffe9e-bc66-4987-a67b-2a39d6416c45",
   "metadata": {},
   "outputs": [
    {
     "data": {
      "text/latex": [
       "$\\displaystyle \\left[\\begin{matrix}5 & 0\\\\0 & -2\\end{matrix}\\right]$"
      ],
      "text/plain": [
       "Matrix([\n",
       "[5,  0],\n",
       "[0, -2]])"
      ]
     },
     "execution_count": 4,
     "metadata": {},
     "output_type": "execute_result"
    }
   ],
   "source": [
    "###HIDE-TO-CONVERT\n",
    "from sympy.matrices import Matrix\n",
    "\n",
    "P = Matrix(2, 2, [4, -1, 3, 1])\n",
    "P.inv() * A * P"
   ]
  },
  {
   "cell_type": "code",
   "execution_count": 5,
   "id": "0d161f03-127e-4a90-89c9-0d7a1ab999ba",
   "metadata": {},
   "outputs": [
    {
     "name": "stdout",
     "output_type": "stream",
     "text": [
      "[NbConvertApp] Converting notebook 20210706-D1MAT-lista11-resolucao.ipynb to pdf\n",
      "[NbConvertApp] Writing 27728 bytes to notebook.tex\n",
      "[NbConvertApp] Building PDF\n",
      "[NbConvertApp] Running xelatex 3 times: ['xelatex', 'notebook.tex', '-quiet']\n",
      "[NbConvertApp] Running bibtex 1 time: ['bibtex', 'notebook']\n",
      "[NbConvertApp] WARNING | bibtex had problems, most likely because there were no citations\n",
      "[NbConvertApp] PDF successfully created\n",
      "[NbConvertApp] Writing 38244 bytes to 20210706-D1MAT-lista11-resolucao.pdf\n"
     ]
    }
   ],
   "source": [
    "###HIDE-TO-CONVERT\n",
    "!jupyter nbconvert --to pdf --RegexRemovePreprocessor.patterns \"^###HIDE-TO-CONVERT\" 20210706-D1MAT-lista11-resolucao.ipynb"
   ]
  }
 ],
 "metadata": {
  "authors": [
   {
    "name": "Diego Machado de Assis"
   }
  ],
  "kernelspec": {
   "display_name": "Python 3",
   "language": "python",
   "name": "python3"
  },
  "language_info": {
   "codemirror_mode": {
    "name": "ipython",
    "version": 3
   },
   "file_extension": ".py",
   "mimetype": "text/x-python",
   "name": "python",
   "nbconvert_exporter": "python",
   "pygments_lexer": "ipython3",
   "version": "3.9.2"
  },
  "title": "D1MAT - Lista de Exercícios 11: Autovetores e autovalores"
 },
 "nbformat": 4,
 "nbformat_minor": 5
}
