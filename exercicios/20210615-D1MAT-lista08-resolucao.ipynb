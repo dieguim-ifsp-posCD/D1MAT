{
 "cells": [
  {
   "cell_type": "markdown",
   "id": "e8baddc6-4a17-482d-b9a8-f39b1668bc84",
   "metadata": {},
   "source": [
    "1. Verifique se o conjunto $A = \\left\\{ \\begin{bmatrix} 0 & a\\\\b & 0 \\end{bmatrix} \\in M(2,2) | a, b \\in \\mathbb{R} \\right\\}$ com as operações usuais é um espaço vetorial.\n",
    "\n",
    "\\vspace{5mm}"
   ]
  },
  {
   "cell_type": "markdown",
   "id": "0e0d183e-d264-4616-9309-9a5c1a32ed43",
   "metadata": {},
   "source": [
    "Vamos considerar três vetores quaisquer de $A$, expressos por\n",
    "\n",
    "$u = \\begin{bmatrix} 0 & a_1\\\\b_1 & 0 \\end{bmatrix}$, $v = \\begin{bmatrix} 0 & a_2\\\\b_2 & 0 \\end{bmatrix}$ e $w = \\begin{bmatrix} 0 & a_3\\\\b_3 & 0 \\end{bmatrix}$\n",
    "\n",
    "\\vspace{3mm}"
   ]
  },
  {
   "cell_type": "markdown",
   "id": "2d48cf5b-7bf0-4382-9880-298885cff40a",
   "metadata": {},
   "source": [
    "**Solução 1**\n",
    "\n",
    "Para sabermos se o conjunto $A$ é um espaço vetorial com as operações usuais, devemos verificar os oito axiomas a seguir:"
   ]
  },
  {
   "cell_type": "markdown",
   "id": "57105de9-7bfe-4503-9074-1dae7ca3118e",
   "metadata": {},
   "source": [
    "$A_1)\\quad (u + v) + w = u + (v + w),\\; \\forall u, v, w \\in A$\n",
    "\\begin{align*}\n",
    "(u + v) + w &= \\left( \\begin{bmatrix} 0 & a_1\\\\b_1 & 0 \\end{bmatrix} + \\begin{bmatrix} 0 & a_2\\\\b_2 & 0 \\end{bmatrix} \\right) + \\begin{bmatrix} 0 & a_3\\\\b_3 & 0 \\end{bmatrix}\\\\\n",
    "(u + v) + w &= \\left( \\begin{bmatrix} 0 & a_1 + a_2\\\\b_1 + b_2 & 0 \\end{bmatrix} \\right) + \\begin{bmatrix} 0 & a_3\\\\b_3 & 0 \\end{bmatrix}\\\\\n",
    "(u + v) + w &= \\begin{bmatrix} 0 & (a_1 + a_2) + a_3\\\\ (b_1 + b_2) + b_3 & 0 \\end{bmatrix}\\\\\n",
    "(u + v) + w &= \\begin{bmatrix} 0 & a_1 + (a_2 + a_3)\\\\ b_1 + (b_2 + b_3) & 0 \\end{bmatrix}\\\\\n",
    "(u + v) + w &= \\begin{bmatrix} 0 & a_1\\\\b_1 & 0 \\end{bmatrix} + \\left( \\begin{bmatrix} 0 & a_2 + a_3\\\\b_2 + b_3 & 0 \\end{bmatrix} \\right)\\\\\n",
    "(u + v) + w &= \\begin{bmatrix} 0 & a_1\\\\b_1 & 0 \\end{bmatrix} + \\left( \\begin{bmatrix} 0 & a_2\\\\b_2 & 0 \\end{bmatrix} + \\begin{bmatrix} 0 & a_3\\\\b_3 & 0 \\end{bmatrix} \\right)\\\\\n",
    "(u + v) + w &= u + (v + w)\n",
    "\\end{align*}"
   ]
  },
  {
   "cell_type": "markdown",
   "id": "8e6b5b3c-9baf-4afd-b42c-280164233e8f",
   "metadata": {},
   "source": [
    "$A_2)\\quad u + v = v + u,\\; \\forall u, v \\in A$\n",
    "\\begin{align*}\n",
    "u + v &= \\begin{bmatrix} 0 & a_1\\\\b_1 & 0 \\end{bmatrix} + \\begin{bmatrix} 0 & a_2\\\\b_2 & 0 \\end{bmatrix}\\\\\n",
    "u + v &= \\begin{bmatrix} 0 & a_1 + a_2\\\\b_1 + b_2 & 0 \\end{bmatrix}\\\\\n",
    "u + v &= \\begin{bmatrix} 0 & a_2 + a_1\\\\b_2 + b_1 & 0 \\end{bmatrix}\\\\\n",
    "u + v &= \\begin{bmatrix} 0 & a_2\\\\b_2 & 0 \\end{bmatrix} + \\begin{bmatrix} 0 & a_1\\\\b_1 & 0 \\end{bmatrix}\\\\\n",
    "u + v &= v + u\n",
    "\\end{align*}"
   ]
  },
  {
   "cell_type": "markdown",
   "id": "b441f161-d6ae-4397-b751-4b505922405d",
   "metadata": {},
   "source": [
    "$A_3)\\quad \\exists 0 \\in A,\\; \\forall u \\in A,\\; u + 0 = u$\n",
    "\n",
    "Seja $0 = \\begin{bmatrix} 0 & 0\\\\0 & 0 \\end{bmatrix} \\in A$\n",
    "\\begin{align*}\n",
    "u + 0 &= \\begin{bmatrix} 0 & a_1\\\\b_1 & 0 \\end{bmatrix} + \\begin{bmatrix} 0 & 0\\\\0 & 0 \\end{bmatrix}\\\\\n",
    "u + 0 &= \\begin{bmatrix} 0 & a_1 + 0\\\\b_1 + 0 & 0 \\end{bmatrix}\\\\\n",
    "u + 0 &= \\begin{bmatrix} 0 & a_1\\\\b_1 & 0 \\end{bmatrix}\\\\\n",
    "u + 0 &= u\n",
    "\\end{align*}"
   ]
  },
  {
   "cell_type": "markdown",
   "id": "098f2c35-1aa6-49ae-a2f5-a68a666bc30c",
   "metadata": {},
   "source": [
    "$A_4)\\quad \\forall u \\in A,\\; \\exists (-u) \\in A,\\; u + (-u) = 0$\n",
    "\n",
    "Seja $(-u) = \\begin{bmatrix} 0 & -a_1\\\\-b1 & 0 \\end{bmatrix} \\in A$\n",
    "\\begin{align*}\n",
    "u + (-u) &= \\begin{bmatrix} 0 & a_1\\\\b_1 & 0 \\end{bmatrix} + \\begin{bmatrix} 0 & -a_1\\\\-b_1 & 0 \\end{bmatrix}\\\\\n",
    "u + (-u) &= \\begin{bmatrix} 0 & a_1 + (-a_1)\\\\b_1 + (-b_1) & 0 \\end{bmatrix}\\\\\n",
    "u + (-u) &= \\begin{bmatrix} 0 & a_1 - a_1\\\\b_1 - b_1 & 0 \\end{bmatrix}\\\\\n",
    "u + (-u) &= \\begin{bmatrix} 0 & 0\\\\0 & 0 \\end{bmatrix}\\\\\n",
    "u + (-u) &= 0\n",
    "\\end{align*}"
   ]
  },
  {
   "cell_type": "markdown",
   "id": "1b4771e4-21ac-4e79-8fea-71d62a71ca45",
   "metadata": {},
   "source": [
    "$M_1)\\quad (\\alpha \\beta)u = \\alpha(\\beta u),\\; \\forall u \\in A,\\; \\forall \\alpha, \\beta \\in \\mathbb{R}$\n",
    "\\begin{align*}\n",
    "(\\alpha \\beta)u &= (\\alpha \\beta)\\begin{bmatrix} 0 & a_1\\\\b_1 & 0 \\end{bmatrix} = \\begin{bmatrix} 0 & (\\alpha \\beta)a_1\\\\ (\\alpha \\beta)b_1 & 0 \\end{bmatrix} = \\begin{bmatrix} 0 & \\alpha (\\beta a_1)\\\\ \\alpha (\\beta b_1) & 0 \\end{bmatrix}\\\\\n",
    "(\\alpha \\beta)u &= \\alpha \\begin{bmatrix} 0 & \\beta a_1\\\\ \\beta b_1 & 0 \\end{bmatrix} = \\alpha \\left( \\beta \\begin{bmatrix} 0 & a_1\\\\b_1 & 0 \\end{bmatrix} \\right)\\\\\n",
    "(\\alpha \\beta)u &= \\alpha(\\beta u)\n",
    "\\end{align*}"
   ]
  },
  {
   "cell_type": "markdown",
   "id": "36dcf9cc-eee4-41cb-b560-62a075d7542c",
   "metadata": {},
   "source": [
    "$M_2)\\quad (\\alpha + \\beta)u = \\alpha u + \\beta u,\\; \\forall u \\in A,\\; \\forall \\alpha, \\beta \\in \\mathbb{R}$\n",
    "\\begin{align*}\n",
    "(\\alpha + \\beta)u &= (\\alpha + \\beta)\\begin{bmatrix} 0 & a_1\\\\b_1 & 0 \\end{bmatrix} = \\begin{bmatrix} 0 & (\\alpha + \\beta)a_1\\\\ (\\alpha + \\beta)b_1 & 0 \\end{bmatrix} = \\begin{bmatrix} 0 & \\alpha a_1 + \\beta a_1\\\\ \\alpha b_1 + \\beta b_1 & 0 \\end{bmatrix}\\\\\n",
    "(\\alpha + \\beta)u &= \\begin{bmatrix} 0 & \\alpha a_1\\\\ \\alpha b_1 & 0 \\end{bmatrix} + \\begin{bmatrix} 0 & \\beta a_1\\\\ \\beta b_1 & 0 \\end{bmatrix} = \\alpha \\begin{bmatrix} 0 & a_1\\\\b_1 & 0 \\end{bmatrix} + \\beta \\begin{bmatrix} 0 & a_1\\\\b_1 & 0 \\end{bmatrix}\\\\\n",
    "(\\alpha + \\beta)u &= \\alpha u + \\beta u\n",
    "\\end{align*}"
   ]
  },
  {
   "cell_type": "markdown",
   "id": "100e89c4-80fc-4b48-9361-65a03c3b32b6",
   "metadata": {},
   "source": [
    "$M_3)\\quad \\alpha (u + v) = \\alpha u + \\alpha v,\\; \\forall u, v \\in A,\\; \\forall \\alpha \\in \\mathbb{R}$\n",
    "\\begin{align*}\n",
    "\\alpha (u + v) &= \\alpha \\left(\\begin{bmatrix} 0 & a_1\\\\b_1 & 0 \\end{bmatrix} + \\begin{bmatrix} 0 & a_2\\\\b_2 & 0 \\end{bmatrix} \\right) = \\alpha \\begin{bmatrix} 0 & a_1 + a_2\\\\b_1 + b_2 & 0 \\end{bmatrix} = \\begin{bmatrix} 0 & \\alpha(a_1 + a_2)\\\\ \\alpha(b_1 + b_2) & 0 \\end{bmatrix}\\\\\n",
    "\\alpha (u + v) &= \\begin{bmatrix} 0 & \\alpha a_1 + \\alpha a_2\\\\ \\alpha b_1 + \\alpha b_2 & 0 \\end{bmatrix} = \\begin{bmatrix} 0 & \\alpha a_1\\\\ \\alpha b_1 & 0 \\end{bmatrix} + \\begin{bmatrix} 0 & \\alpha a_2\\\\ \\alpha b_2 & 0 \\end{bmatrix} = \\alpha \\begin{bmatrix} 0 & a_1\\\\b_1 & 0 \\end{bmatrix} + \\alpha \\begin{bmatrix} 0 & a_2\\\\b_2 & 0 \\end{bmatrix}\\\\\n",
    "\\alpha (u + v) &= \\alpha u + \\alpha v\n",
    "\\end{align*}"
   ]
  },
  {
   "cell_type": "markdown",
   "id": "cb13891a-72d6-421d-9e95-d4c1e59865fc",
   "metadata": {},
   "source": [
    "$M_4)\\quad 1u = u,\\; \\forall u \\in A$\n",
    "\\begin{align*}\n",
    "1u &= 1\\begin{bmatrix} 0 & a_1\\\\b_1 & 0 \\end{bmatrix} = \\begin{bmatrix} 0 & 1a_1\\\\1b_1 & 0 \\end{bmatrix} = \\begin{bmatrix} 0 & a_1\\\\b_1 & 0 \\end{bmatrix}\\\\\n",
    "1u &= u\n",
    "\\end{align*}"
   ]
  },
  {
   "cell_type": "markdown",
   "id": "0eea9440-a4c3-49a2-9e83-2f14a5d5dd52",
   "metadata": {},
   "source": [
    "Como todos os oito axiomas que definem um espaço vetorial puderam ser verificados para o conjunto $A$ com as operações usuais de soma e multiplicação por escalar, podemos afirmar que trata-se de um espaço vetorial.\n",
    "\n",
    "\\vspace{3mm}"
   ]
  },
  {
   "cell_type": "markdown",
   "id": "0167e90a-483b-45bb-b3b0-6bc365df48bb",
   "metadata": {},
   "source": [
    "**Solução 2**\n",
    "\n",
    "Se considerarmos de antemão a informação de que o conjunto de todas as matrizes quadradas de ordem 2 com coeficientes reais $M(2, 2)$ é um espaço vetorial, podemos verificar que o conjunto $A$ (um subconjunto não-vazio de $M(2, 2)$) é um espaço vetorial apenas demonstrando que $A$ (o conjunto das matrizes quadradas de ordem 2 cujos elementos da diagonal principal são iguais a zero) é um subespaço vetorial de $M(2, 2)$. Para tanto, apenas duas condições precisam ser verificadas:"
   ]
  },
  {
   "cell_type": "markdown",
   "id": "59012b59-1406-478b-868b-e1ca9da4ca23",
   "metadata": {},
   "source": [
    "I)$\\quad \\forall u, v \\in A,\\; u + v \\in A$\n",
    "\\begin{align*}\n",
    "u + v &= \\begin{bmatrix} 0 & a_1\\\\b_1 & 0 \\end{bmatrix} + \\begin{bmatrix} 0 & a_2\\\\b_2 & 0 \\end{bmatrix} = \\begin{bmatrix} 0 & a_1 + a_2\\\\b_1 + b_2 & 0 \\end{bmatrix} \\in A\\\\\n",
    "\\end{align*}"
   ]
  },
  {
   "cell_type": "markdown",
   "id": "d9f65db4-fd19-4aa8-90fc-bbf31adf3a90",
   "metadata": {},
   "source": [
    "II)$\\quad \\forall \\alpha \\in \\mathbb{R}, u \\in A,\\; \\alpha u \\in A$\n",
    "\\begin{align*}\n",
    "\\alpha u &= \\alpha \\begin{bmatrix} 0 & a_1\\\\b_1 & 0 \\end{bmatrix} = \\begin{bmatrix} 0 & \\alpha a_1\\\\ \\alpha b_1 & 0 \\end{bmatrix} \\in A\\\\\n",
    "\\end{align*}"
   ]
  },
  {
   "cell_type": "markdown",
   "id": "f7d23893-3f94-4d45-94a5-55f9d5cbb10f",
   "metadata": {},
   "source": [
    "Portanto, $A$ é um subespaço vetorial de $M(2, 2)$ com as operações usuais."
   ]
  },
  {
   "cell_type": "markdown",
   "id": "4d7cf9e4-1dc1-4da9-a8d5-63bfc915eaee",
   "metadata": {},
   "source": [
    "**Resposta:** O conjunto $A$ é um espaço vetorial."
   ]
  },
  {
   "cell_type": "markdown",
   "id": "b03c91a2-bbaa-4b85-bdac-ba6e024c300a",
   "metadata": {},
   "source": [
    "2. O conjunto $S=\\{(x, y) | x + 3y = 0\\}$ é um subconjunto do $\\mathbb{R}^2$. Verifique se é um subespaço vetorial relativo às operações de adição e multiplicação por escalar usuais.\n",
    "\n",
    "\\vspace{5mm}"
   ]
  },
  {
   "cell_type": "markdown",
   "id": "5e1f5c6d-9464-43b3-a12d-8ea954a83e45",
   "metadata": {},
   "source": [
    "De forma imediata podemos afirmar que trata-se de um subespaço vetorial do $\\mathbb{R}^2$ pois qualquer vetor de $S$ pertence a uma reta que passa pela origem do plano. Porém, vamos desenvolver melhor o raciocínio que leva a esta conclusão."
   ]
  },
  {
   "cell_type": "markdown",
   "id": "b93e8730-b473-4730-ba26-3f762b2053ae",
   "metadata": {},
   "source": [
    "A equação $x + 3y = 0$ pode ser reescrita como $x = -3y$. Portanto:\n",
    "\\begin{align*}\n",
    "S &= \\{(x, y) | x + 3y = 0\\}\\\\\n",
    "S &= \\{(x, y) | x = -3y\\}\\\\\n",
    "S &= \\{(-3y, y);\\; y \\in \\mathbb{R}\\}\n",
    "\\end{align*}\n",
    "\n",
    "Ou seja, $S$ é o conjunto de todas as duplas ordenadas no plano cartesiano cuja primeira componente é $-3$ vezes a segunda componente.\n",
    "\n",
    "Podemos ver que $S$ é não-vazio pois ao menos o elemento $(0, 0) \\in S$. Para então demonstrar que $S$ é um subespaço vetorial do $\\mathbb{R}^2$, devemos verificar se são satisfeitas as duas condições a seguir.\n",
    "\n",
    "Considerando dois vetores quaisquer de $S$, representados por $u = (-3y_1, y_1)$ e $v = (-3y_2, y_2)$:\n",
    "\n",
    "I)$\\quad \\forall u, v \\in S,\\; u + v \\in S$\n",
    "\\begin{align*}\n",
    "u + v &= (-3y_1, y_1) + (-3y_2, y_2) = (-3y_1 + (-3y_2), y_1 + y_2)\\\\\n",
    "u + v &= (-3(y_1 + y_2), y_1 + y_2)\n",
    "\\end{align*}\n",
    "\n",
    "Como a primeira componente do vetor $u + v$ é igual a $-3$ vezes a segunda componente, podemos afirmar que $u + v \\in S$\n",
    "\n",
    "II)$\\quad \\forall \\alpha \\in \\mathbb{R}, u \\in S,\\; \\alpha u \\in S$\n",
    "\\begin{align*}\n",
    "\\alpha u &= \\alpha (-3y_1, y_1) = (\\alpha(-3y_1), \\alpha y_1)\\\\\n",
    "\\alpha u &=  (-3(\\alpha y_1), \\alpha y_1)\n",
    "\\end{align*}\n",
    "\n",
    "De modo similar, como a primeira componente do vetor $\\alpha u$ é igual a $-3$ vezes a segunda componente, podemos afirmar que $\\alpha u \\in S$\n",
    "\n",
    "Verificadas as duas propriedades, podemos afirmar que $S$ é um subespaço vetorial do $\\mathbb{R}^2$.\n",
    "\n",
    "**Resposta:** $S$ é um subespaço vetorial do $\\mathbb{R}^2$ com as operações usuais de adição e multiplicação por escalar."
   ]
  },
  {
   "cell_type": "markdown",
   "id": "35e5a76a-d1f7-4aff-92e3-cab12c816b08",
   "metadata": {},
   "source": [
    "\\clearpage"
   ]
  },
  {
   "cell_type": "markdown",
   "id": "c150c35f-a7b4-435f-8aae-798e38bb2c3d",
   "metadata": {},
   "source": [
    "3. Sejam os vetores $u = (2, -3, 2)$ e $v = (-1, 2, 4)$ em $\\mathbb{R}^3$."
   ]
  },
  {
   "cell_type": "markdown",
   "id": "476c85cc-abf5-4a94-9216-59c83e5a69e5",
   "metadata": {},
   "source": [
    "\\vspace{5mm}"
   ]
  },
  {
   "cell_type": "markdown",
   "id": "eff91336-dad3-4738-9b76-363f567d9b06",
   "metadata": {},
   "source": [
    "a) Escrever o vetor $w = (7, -11, 2)$ como combinação linear de $u$ e $v$."
   ]
  },
  {
   "cell_type": "markdown",
   "id": "ea3dd56d-d2f2-4eaa-8a55-6b8bbeca36ad",
   "metadata": {},
   "source": [
    "\\vspace{5mm}"
   ]
  },
  {
   "cell_type": "markdown",
   "id": "d283bdfc-bd12-4e86-9005-2e9615bdb9c0",
   "metadata": {},
   "source": [
    "Precisamos encontrar coeficientes $a_1$ e $a_2$ tais que $w = a_1u + a_2v$. Ou seja:\n",
    "\\begin{align*}\n",
    "(7, -11, 2) &= a_1(2, -3, 2) + a_2(-1, 2, 4)\\\\\n",
    "(7, -11, 2) &= (2a_1, -3a_1, 2a_1) + (-1a_2, 2a_2, 4a_2)\\\\\n",
    "(7, -11, 2) &= (2a_1 - a_2, -3a_1 + 2a_2, 2a_1 + 4a_2)\n",
    "\\end{align*}\n",
    "\n",
    "Que pode ser reescrito na forma do sistema:\n",
    "$$\n",
    "\\begin{cases}\n",
    "\\begin{alignedat}{3}\n",
    "     2a_1 & {}-{} &  a_2 & {}={} 7\\\\\n",
    "    -3a_1 & {}+{} & 2a_2 & {}={} -11\\\\\n",
    "     2a_1 & {}+{} & 4a_2 & {}={} 2\n",
    "\\end{alignedat}\n",
    "\\end{cases}\n",
    "$$\n",
    "\n",
    "Dividindo a terceira equação por $2$ e trocando a ordem da primeira e terceira equações, resulta no sistema equivalente:\n",
    "$$\n",
    "\\begin{cases}\n",
    "\\begin{alignedat}{3}\n",
    "      a_1 & {}+{} & 2a_2 & {}={} 1\\\\\n",
    "    -3a_1 & {}+{} & 2a_2 & {}={} -11\\\\\n",
    "    2a_1 & {}-{} &  a_2 & {}={} 7\n",
    "\\end{alignedat}\n",
    "\\end{cases}\n",
    "$$\n",
    "\n",
    "Escalonando:\n",
    "$$\n",
    "\\begin{cases}\n",
    "\\begin{alignedat}{3}\n",
    "    a_1 & {}+{} &  2a_2 & {}={} 1\\\\\n",
    "        &       &  8a_2 & {}={} -8 & \\quad \\longleftarrow & \\; (3) \\times (1^a\\text{ eq.}) + (2^a\\text{ eq.})\\\\\n",
    "        &       & -5a_2 & {}={} 5  & \\quad \\longleftarrow & \\; (-2) \\times (1^a\\text{ eq.}) + (3^a\\text{ eq.})\n",
    "\\end{alignedat}\n",
    "\\end{cases}\n",
    "$$\n",
    "\n",
    "Pela $2^a$ e $3^a$ equações temos que $a_2 = -1$. Logo, substituindo seu valor na $1^a$ equação:\n",
    "$$\n",
    "a_1 + 2(-1) = 1 \\implies a_1 = 3\n",
    "$$\n",
    "\n",
    "**Resposta:** $w = 3u - 1v$"
   ]
  },
  {
   "cell_type": "code",
   "execution_count": 1,
   "id": "254139b5-cff4-48ee-8f88-998705853e15",
   "metadata": {},
   "outputs": [
    {
     "data": {
      "text/plain": [
       "(Matrix([\n",
       " [1, 0,  3],\n",
       " [0, 1, -1],\n",
       " [0, 0,  0]]),\n",
       " (0, 1))"
      ]
     },
     "execution_count": 1,
     "metadata": {},
     "output_type": "execute_result"
    }
   ],
   "source": [
    "###HIDE-TO-CONVERT\n",
    "from sympy import Matrix\n",
    "\n",
    "u = [2, -3, 2]\n",
    "v = [-1, 2, 4]\n",
    "w = [7, -11, 2]\n",
    "A = Matrix([u, v, w]).T\n",
    "A.rref()"
   ]
  },
  {
   "cell_type": "markdown",
   "id": "4328c41e-7dd7-4636-99b1-6757212002ca",
   "metadata": {},
   "source": [
    "\\vspace{5mm}\n",
    "\n",
    "---\n",
    "\n",
    "\\vspace{5mm}"
   ]
  },
  {
   "cell_type": "markdown",
   "id": "3bb7baf5-7661-4988-aec4-99ce49d8a698",
   "metadata": {},
   "source": [
    "b) Para que valor de $k$ o vetor $(-8, 14, k)$ é combinação linear de $u$ e $v$?"
   ]
  },
  {
   "cell_type": "markdown",
   "id": "13fea143-61a5-4c01-be0a-9c3c144cc377",
   "metadata": {},
   "source": [
    "\\vspace{5mm}"
   ]
  },
  {
   "cell_type": "markdown",
   "id": "d9e01da7-28ed-4f0d-b2af-b7e7e71b0570",
   "metadata": {},
   "source": [
    "Devem existir coeficientes $a_1$ e $a_2$ tais que $(-8, 14, k) = a_1u + a_2v$\n",
    "\\begin{align*}\n",
    "(-8, 14, k) &= a_1(2, -3, 2) + a_2(-1, 2, 4)\\\\\n",
    "(-8, 14, k) &= (2a_1, -3a_1, 2a_1) + (-1a_2, 2a_2, 4a_2)\\\\\n",
    "(-8, 14, k) &= (2a_1 - a_2, -3a_1 + 2a_2, 2a_1)\n",
    "\\end{align*}\n",
    "\n",
    "A partir do que obtemos o seguinte sistema e escalonamos:\n",
    "$$\n",
    "\\begin{cases}\n",
    "\\begin{alignedat}{3}\n",
    "     2a_1 & {}-{} &  a_2 & {}={} -8\\\\\n",
    "    -3a_1 & {}+{} & 2a_2 & {}={} 14\\\\\n",
    "     2a_1 & {}+{} & 4a_2 & {}={} k\n",
    "\\end{alignedat}\n",
    "\\end{cases}\n",
    "\\iff\n",
    "\\begin{cases}\n",
    "\\begin{alignedat}{3}\n",
    "    2a_1 & {}-{} &            a_2 & {}={} -8\\\\\n",
    "         &       & \\frac{1}{2}a_2 & {}={} 2     & \\quad \\longleftarrow & \\; \\left(\\frac{3}{2}\\right) \\times (1^a\\text{ eq.}) + (2^a\\text{ eq.})\\\\\n",
    "         &       &           5a_2 & {}={} k + 8 & \\quad \\longleftarrow & \\; (-1) \\times (1^a\\text{ eq.}) + (3^a\\text{ eq.})\n",
    "\\end{alignedat}\n",
    "\\end{cases}\n",
    "$$\n",
    "\n",
    "Pela $2^a$ equação temos que $a_2 = 4$. Para que o sistema admita solução, temos na terceira equação que:\n",
    "$$\n",
    "5a_2 = k + 8 \\implies 5(4) = k + 8 \\implies k = 12\n",
    "$$\n",
    "\n",
    "Com a primeira equação podemos encontrar $a_1 = -2$ e verificar que, de fato:\n",
    "$$\n",
    "(-8, 14, 12) = -2(2, -3, 2) + 4(-1, 2, 4)\n",
    "$$\n",
    "\n",
    "**Resposta:** $k = 12$"
   ]
  },
  {
   "cell_type": "markdown",
   "id": "ed70b7bf-26c2-455a-aa43-6cda8b76d053",
   "metadata": {},
   "source": [
    "\\vspace{5mm}\n",
    "\n",
    "---\n",
    "\n",
    "\\vspace{5mm}"
   ]
  },
  {
   "cell_type": "markdown",
   "id": "efd44523-3d79-47e3-bb3d-b7dc1730b1ad",
   "metadata": {},
   "source": [
    "c) Determinar uma condição entre $a$, $b$ e $c$ para que o vetor $(a, b, c)$ seja uma combinação linear de $u$ e $v$."
   ]
  },
  {
   "cell_type": "markdown",
   "id": "51c2e9b5-7e19-423c-ad7d-c9004624d1a5",
   "metadata": {},
   "source": [
    "\\vspace{5mm}"
   ]
  },
  {
   "cell_type": "markdown",
   "id": "9fd54d2c-3d67-46a9-9f2b-9ee66af3553c",
   "metadata": {},
   "source": [
    "Análogo ao que fizemos anteriormente, devemos ter coeficientes $a_1$ e $a_2$ tais que $(a, b, c) = a_1(2, -3, 2) + a_2(-1, 2, 4)$.\n",
    "\n",
    "Para a qual obtemos os sistema (escalonado em seguida):\n",
    "$$\n",
    "\\begin{cases}\n",
    "\\begin{alignedat}{3}\n",
    "     2a_1 & {}-{} &  a_2 & {}={} a\\\\\n",
    "    -3a_1 & {}+{} & 2a_2 & {}={} b\\\\\n",
    "     2a_1 & {}+{} & 4a_2 & {}={} c\n",
    "\\end{alignedat}\n",
    "\\end{cases}\n",
    "\\iff\n",
    "\\begin{cases}\n",
    "\\begin{alignedat}{3}\n",
    "    2a_1 & {}-{} &            a_2 & {}={} a\\\\\n",
    "         &       & \\frac{1}{2}a_2 & {}={} \\frac{3}{2}a + b & \\quad \\longleftarrow & \\; \\left(\\frac{3}{2}\\right) \\times (1^a\\text{ eq.}) + (2^a\\text{ eq.})\\\\\n",
    "         &       &           5a_2 & {}={} - a + c          & \\quad \\longleftarrow & \\; (-1) \\times (1^a\\text{ eq.}) + (3^a\\text{ eq.})\n",
    "\\end{alignedat}\n",
    "\\end{cases}\n",
    "$$\n",
    "\n",
    "Igualando os valores de $a_2$ na $2^a$ e $3^a$ equações temos que:\n",
    "\\begin{align}\n",
    "2\\left(\\frac{3}{2}a + b\\right) = \\frac{-a + c}{5} \\nonumber\\\\\n",
    "15a + 10b = - a + c \\nonumber\\\\\n",
    "16a + 10b - c = 0 \\label{eq:3c_1}\\\\\n",
    "c = 16a + 10b \\label{eq:3c_2}\n",
    "\\end{align}\n",
    "\n",
    "Como o vetor $(a, b, c)$ só será uma combinação linear de $u$ e $v$ quando existirem os coeficientes $a_1$ e $a_2$, ou seja, quando existir solução para o sistema acima, podemos afirmar que a equação $\\ref{eq:3c_1}$ é uma condição para que um vetor do $\\mathbb{R}^3$ seja combinação linear dos vetores $u$ e $v$.\n",
    "\n",
    "Em outras palavras, os vetores $(a, b, c) \\in \\mathbb{R}^3$ que tem a forma $(a, b, 16a + 10b)$ (alternativa apresentada na equação $\\ref{eq:3c_2}$), com $a, b \\in \\mathbb{R}$ são combinação linear dos vetores $u$ e $v$.\n",
    "\n",
    "**Resposta:** Serão combinação linear de $u$ e $v$ os vetores $\\{ (a, b, c) \\in \\mathbb{R}^3 | 16a + 10b - c = 0 \\}$"
   ]
  },
  {
   "cell_type": "markdown",
   "id": "2c452bc4-b843-4eb0-9d92-61da9449dadb",
   "metadata": {},
   "source": [
    "\\clearpage"
   ]
  },
  {
   "cell_type": "markdown",
   "id": "a67509ba-5587-4154-9aca-b125f42dd7bb",
   "metadata": {},
   "source": [
    "4. Seja o conjunto $A = \\{v_1, v_2\\}$, sendo $v_1 = (-1, 3, 1)$ e $v_2 = (1, -2, 4)$. Determinar"
   ]
  },
  {
   "cell_type": "markdown",
   "id": "094a85ee-4969-4e97-ac85-80aefc2c2c47",
   "metadata": {},
   "source": [
    "\\vspace{5mm}"
   ]
  },
  {
   "cell_type": "markdown",
   "id": "bed4a3df-8f01-4e73-a182-ba43e301b695",
   "metadata": {},
   "source": [
    "a) O subespaço $G(A)$."
   ]
  },
  {
   "cell_type": "markdown",
   "id": "82e89fe1-28c1-4e96-97fe-d6a613a9bd82",
   "metadata": {},
   "source": [
    "\\vspace{5mm}"
   ]
  },
  {
   "cell_type": "markdown",
   "id": "acff9295-6446-44c9-a7a4-222fb23a64b4",
   "metadata": {},
   "source": [
    "O subespaço $G(A)$ é dado por todos os vetores do $\\mathbb{R}^3$ que são combinação linear dos vetores de $A$\n",
    "$$\n",
    "G(A) = [v_1, v_2] = \\{ (x, y, z) \\in \\mathbb{R}^3 | (x, y, z) = a_1(-1, 3, 1) + a_2(1, -2, 4), a_1, a_2 \\in \\mathbb{R} \\}\n",
    "$$\n",
    "\n",
    "Da igualdade na condição para $(x, y , z) \\in G(A)$, podemos montar o sistema a seguir e escalonar como:\n",
    "$$\n",
    "\\begin{cases}\n",
    "\\begin{alignedat}{3}\n",
    "    -a_1 & {}+{} &  a_2 & {}={} x\\\\\n",
    "    3a_1 & {}-{} & 2a_2 & {}={} y\\\\\n",
    "     a_1 & {}+{} & 4a_2 & {}={} z\n",
    "\\end{alignedat}\n",
    "\\end{cases}\n",
    "\\iff\n",
    "\\begin{cases}\n",
    "\\begin{alignedat}{3}\n",
    "    -a_1 & {}+{} &  a_2 & {}={} x\\\\\n",
    "         &       &  a_2 & {}={} 3x + y & \\quad \\longleftarrow & \\; (3) \\times (1^a\\text{ eq.}) + (2^a\\text{ eq.})\\\\\n",
    "         &       & 5a_2 & {}={} x + z  & \\quad \\longleftarrow & \\; (1^a\\text{ eq.}) + (3^a\\text{ eq.})\n",
    "\\end{alignedat}\n",
    "\\end{cases}\n",
    "$$\n",
    "\n",
    "Igualando o valor de $a_2$ na $2^a$ e $3^a$ equações temos que:\n",
    "\\begin{align}\n",
    "3x + y = \\frac{x + z}{5} \\nonumber\\\\\n",
    "15x + 5y = x + z \\nonumber\\\\\n",
    "14x + 5y - z = 0 \\label{eq:4a_1}\\\\\n",
    "z = 14x + 5y \\label{eq:4a_2}\n",
    "\\end{align}\n",
    "\n",
    "Como o vetor $(x, y, z) \\in G(A)$ quando existir solução do sistema acima, podemos dizer que o subespaço gerado por $v_1$ e $v_2$ é o plano definido pela equação $\\ref{eq:4a_1}$, ou ainda, os vetores com a forma $(x, y, 14x + 5y)$ com $x, y \\in \\mathbb{R}$ (definindo $z$ em função das variáveis livres $x$ e $y$, como explicitado pela equação \\ref{eq:4a_2}).\n",
    "\n",
    "**Resposta:** $G(A) = \\{ (x, y, 14x + 5y);\\; x, y \\in \\mathbb{R} \\}$"
   ]
  },
  {
   "cell_type": "markdown",
   "id": "65d054b6-5591-4805-946a-e638bf0a79d7",
   "metadata": {},
   "source": [
    "\\vspace{5mm}\n",
    "\n",
    "---\n",
    "\n",
    "\\vspace{5mm}"
   ]
  },
  {
   "cell_type": "markdown",
   "id": "7d71e2b6-f802-4e75-8350-a0162a353151",
   "metadata": {},
   "source": [
    "b) O valor de $k$ para que o vetor $v = (5, k, 11)$ pertença a $G(A)$."
   ]
  },
  {
   "cell_type": "markdown",
   "id": "4dddc80e-b737-4257-a088-5ebea85edbe0",
   "metadata": {},
   "source": [
    "\\vspace{5mm}"
   ]
  },
  {
   "cell_type": "markdown",
   "id": "b2ea330a-f28f-4ad9-9513-76e34ad9ab03",
   "metadata": {},
   "source": [
    "Pelo resultado encontrado acima, o vetor $v \\in G(A)$ se obedecer à equação do plano $14x + 5y - z = 0$. Portanto:\n",
    "\\begin{align*}\n",
    "14(5) + 5k - 11 = 0\\\\\n",
    "5k = 11 - 70\\\\\n",
    "k = -\\frac{59}{5}\n",
    "\\end{align*}\n",
    "\n",
    "**Resposta:** $k = -\\frac{59}{5}$"
   ]
  },
  {
   "cell_type": "markdown",
   "id": "1792819a-a60f-4a50-9012-bac46ee555f2",
   "metadata": {},
   "source": [
    "\\clearpage"
   ]
  },
  {
   "cell_type": "markdown",
   "id": "ac4ed2cd-92b0-46cd-88a2-3347fe253229",
   "metadata": {},
   "source": [
    "5. Verificar quais dos seguintes vetores formam uma base do $\\mathbb{R}^2$."
   ]
  },
  {
   "cell_type": "markdown",
   "id": "016930e8-2a28-4b9d-b9c1-4ae8e08ecf79",
   "metadata": {},
   "source": [
    "\\vspace{5mm}"
   ]
  },
  {
   "cell_type": "markdown",
   "id": "4f6cf2b5-34f9-4365-968d-dedeea033047",
   "metadata": {},
   "source": [
    "Para formar uma base do $\\mathbb{R}^2$, cada um dos conjuntos de vetores a seguir deverá:\n",
    "\n",
    "I) Ser Linearmente Independente (LI)\n",
    "\n",
    "II) Gerar o $\\mathbb{R}^2$\n",
    "\n",
    "*Observação:* Como sabemos que $\\dim \\mathbb{R}^2 = 2$, qualquer conjunto de dois vetores LI no $\\mathbb{R}^2$ são geradores do $\\mathbb{R}^2$ e, portanto, formam uma base do $\\mathbb{R}^2$. Dessa forma, como todos os exemplos a seguir são conjunto com dois vetores no $\\mathbb{R}^2$, bastaria verificarmos em quais dos conjuntos os vetores são LI. Porém, pela completude do exercício, vamos verificar as duas condições acima. "
   ]
  },
  {
   "cell_type": "markdown",
   "id": "bd941352-2d9b-4da5-ab6f-474505e1e67f",
   "metadata": {},
   "source": [
    "\\vspace{5mm}"
   ]
  },
  {
   "cell_type": "markdown",
   "id": "bee26d73-7538-4589-afb9-e0d8c585b78f",
   "metadata": {},
   "source": [
    "a) $\\{(1, 2), (-1, 3)\\}$"
   ]
  },
  {
   "cell_type": "markdown",
   "id": "e8556ba5-3060-4380-985e-f5b4b062a981",
   "metadata": {},
   "source": [
    "\\vspace{5mm}"
   ]
  },
  {
   "cell_type": "markdown",
   "id": "6983af57-e2d8-4d64-82d9-3a35b111c2c2",
   "metadata": {},
   "source": [
    "I) De imediato, como temos apenas dois vetores no conjunto e um vetor não é múltiplo escalar do outro, podemos dizer que o conjunto é LI.\n",
    "\n",
    "Porém, fazendo a verificação completa, devemos examinar se a igualdade:\n",
    "\\begin{equation}\n",
    "\\label{eq:5a_1}\n",
    "a(1,2) + b(-1,3) = (0,0)\n",
    "\\end{equation}\n",
    "\n",
    "só é possível para coeficientes com valores $a = b = 0$.\n",
    "\n",
    "Da relação $\\ref{eq:5a_1}$ resulta o sistema:\n",
    "$$\n",
    "\\begin{cases}\n",
    "\\begin{alignedat}{3}\n",
    "     a & {}-{} &  b & {}={} 0\\\\\n",
    "    2a & {}+{} & 3b & {}={} 0\n",
    "\\end{alignedat}\n",
    "\\end{cases}\n",
    "\\iff\n",
    "\\begin{cases}\n",
    "\\begin{alignedat}{3}\n",
    "    a & {}-{} &  b & {}={} 0\\\\\n",
    "      &       & 5b & {}={} 0 & \\quad \\longleftarrow & \\; (-2) \\times (1^a\\text{ eq.}) + (2^a\\text{ eq.})\n",
    "\\end{alignedat}\n",
    "\\end{cases}\n",
    "$$\n",
    "\n",
    "Do sistema escalonado é fácil ver pela $2^a$ equação que $b = 0$. Substituindo este valor na $1^a$ equação, encontramos também que $a = 0$. Portanto, o conjunto é LI.\n",
    "\n",
    "II) O conjunto gera o $\\mathbb{R}^2$ se para qualquer vetor $(x, y) \\in \\mathbb{R}^2$, temos coeficientes $a, b \\in \\mathbb{R}$ tal que:\n",
    "\\begin{equation}\n",
    "\\label{eq:5a_2}\n",
    "(x, y) = a(1,2) + b(-1,3)\n",
    "\\end{equation}\n",
    "\n",
    "A equação $\\ref{eq:5a_2}$ pode ser escrita como o sistema:\n",
    "$$\n",
    "\\begin{cases}\n",
    "\\begin{alignedat}{3}\n",
    "     a & {}-{} &  b & {}={} x\\\\\n",
    "    2a & {}+{} & 3b & {}={} y\n",
    "\\end{alignedat}\n",
    "\\end{cases}\n",
    "\\iff\n",
    "\\begin{cases}\n",
    "\\begin{alignedat}{3}\n",
    "    a & {}-{} &  b & {}={} x\\\\\n",
    "      &       & 5b & {}={} -2x + y & \\quad \\longleftarrow & \\; (-2) \\times (1^a\\text{ eq.}) + (2^a\\text{ eq.})\n",
    "\\end{alignedat}\n",
    "\\end{cases}\n",
    "$$\n",
    "\n",
    "Pela $2^a$ equação encontramos $b = \\frac{-2x + y}{5}$. Logo, pela $1^a$ equação:\n",
    "$$\n",
    "a - b = x \\implies a = x + \\frac{-2x + y}{5} \\implies a = \\frac{3x + y}{5}\n",
    "$$\n",
    "\n",
    "Portanto, qualquer vetor $(x,y) \\in  \\mathbb{R}^2$ pode ser escrito como uma combinação linear dos vetores do conjunto, da seguinte forma:\n",
    "$$\n",
    "(x, y) = \\frac{3x + y}{5}(1,2) + \\frac{-2x + y}{5}(-1,3)\n",
    "$$\n",
    "\n",
    "O que demostra ser possível gerar o $\\mathbb{R}^2$ a partir dos vetores do nosso conjunto.\n",
    "\n",
    "**Resposta:** O conjunto de vetores $\\{(1, 2), (-1, 3)\\}$ forma uma base do $\\mathbb{R}^2$"
   ]
  },
  {
   "cell_type": "markdown",
   "id": "bd99f9a3-eb2d-4502-be6b-da65f3c656c9",
   "metadata": {},
   "source": [
    "\\vspace{5mm}\n",
    "\n",
    "---\n",
    "\n",
    "\\vspace{5mm}"
   ]
  },
  {
   "cell_type": "markdown",
   "id": "429c315b-1e41-4c75-9051-934dfa2b1b74",
   "metadata": {},
   "source": [
    "b) $\\{(3, -6), (-4, 8)\\}$"
   ]
  },
  {
   "cell_type": "markdown",
   "id": "6d01de6f-c0ed-4db8-a81e-4c69e3434c59",
   "metadata": {},
   "source": [
    "\\vspace{5mm}"
   ]
  },
  {
   "cell_type": "markdown",
   "id": "5abbf2be-c043-479e-8b99-933a72552075",
   "metadata": {},
   "source": [
    "I) Podemos ver que os vetores do conjunto são múltiplos escalares um do outro. Ou seja:\n",
    "$$\n",
    "(3, -6) = -\\frac{3}{4} (-4, 8) \\quad \\text{ou} \\quad (-4, 8) = -\\frac{4}{3} (3, -6)\n",
    "$$\n",
    "\n",
    "Como um vetor do nosso conjunto pode ser escrito como combinação linear do outro, temos que o conjunto é LD.\n",
    "\n",
    "**Resposta:** O conjunto de vetores $\\{(3, -6), (-4, 8)\\}$ **NÃO** forma uma base do $\\mathbb{R}^2$"
   ]
  },
  {
   "cell_type": "markdown",
   "id": "a4854e81-9bfa-4c1b-8812-f5b3e20a58c9",
   "metadata": {},
   "source": [
    "\\vspace{5mm}\n",
    "\n",
    "---\n",
    "\n",
    "\\vspace{5mm}"
   ]
  },
  {
   "cell_type": "markdown",
   "id": "8c30f870-963b-425d-ba47-182e92bcb3b3",
   "metadata": {},
   "source": [
    "c) $\\{(0, 0), (2, 3)\\}$"
   ]
  },
  {
   "cell_type": "markdown",
   "id": "b024f703-986f-44fd-87aa-5a7dcab36692",
   "metadata": {},
   "source": [
    "\\vspace{5mm}"
   ]
  },
  {
   "cell_type": "markdown",
   "id": "749919ff-955e-44ff-822c-fb99e4616fd1",
   "metadata": {},
   "source": [
    "I) A igualdade:\n",
    "$$\n",
    "a(0,0) + b(2,3) = (0,0)\n",
    "$$\n",
    "\n",
    "admite solução para valores de $a \\neq 0$. Portanto, o conjunto não é LI.\n",
    "\n",
    "\n",
    "**Resposta:** O conjunto de vetores $\\{(0, 0), (2, 3)\\}$ **NÃO** forma uma base do $\\mathbb{R}^2$"
   ]
  },
  {
   "cell_type": "markdown",
   "id": "89c39b99-4a4d-4e6a-b638-a007f8cbe387",
   "metadata": {},
   "source": [
    "\\vspace{5mm}\n",
    "\n",
    "---\n",
    "\n",
    "\\vspace{5mm}"
   ]
  },
  {
   "cell_type": "markdown",
   "id": "8262be0c-4158-40e7-a41f-0ecd5952cd49",
   "metadata": {},
   "source": [
    "d) $\\{(3, -1), (2, 3)\\}$"
   ]
  },
  {
   "cell_type": "markdown",
   "id": "e7b948b4-8465-4a5b-b676-7f733eb53f8d",
   "metadata": {},
   "source": [
    "\\vspace{5mm}"
   ]
  },
  {
   "cell_type": "markdown",
   "id": "9b2c411a-8264-4a62-bb73-966ffaa36e06",
   "metadata": {},
   "source": [
    "I) Podemos ver diretamente que os vetores do conjunto são LI pois um não é múltiplo escalar do outro. Logo, os vetores $\\{(3, -1), (2, 3)\\}$ formam uma base do $\\mathbb{R}^2$.\n",
    "\n",
    "Para verificar a afirmação, devemos concluir que a igualdade:\n",
    "$$\n",
    "a(3,-1) + b(2,3) = (0,0)\n",
    "$$\n",
    "\n",
    "só exista quando $a = 0$ e $b = 0$.\n",
    "\n",
    "$$\n",
    "\\begin{cases}\n",
    "\\begin{alignedat}{3}\n",
    "    3a & {}+{} & 2b & {}={} 0\\\\\n",
    "    -a & {}+{} & 3b & {}={} 0\n",
    "\\end{alignedat}\n",
    "\\end{cases}\n",
    "\\iff\n",
    "\\begin{cases}\n",
    "\\begin{alignedat}{3}\n",
    "       &       & 11b & {}={} 0 & \\quad \\longleftarrow & \\; (3) \\times (2^a\\text{ eq.}) + (1^a\\text{ eq.})\\\\\n",
    "    -a & {}+{} &  3b & {}={} 0\n",
    "\\end{alignedat}\n",
    "\\end{cases}\n",
    "$$\n",
    "\n",
    "A única solução possível para o sistema é $a = b = 0$. Portanto, o conjunto de vetores é LI.\n",
    "\n",
    "II) Seja $(x, y) \\in \\mathbb{R}^2$ um vetor genérico. Devemos encontrar $a, b \\in \\mathbb{R}$ tal que:\n",
    "$$\n",
    "(x, y) = a(3,-1) + b(2,3)\n",
    "$$\n",
    "\n",
    "$$\n",
    "\\begin{cases}\n",
    "\\begin{alignedat}{3}\n",
    "    3a & {}+{} & 2b & {}={} x\\\\\n",
    "    -a & {}+{} & 3b & {}={} y\n",
    "\\end{alignedat}\n",
    "\\end{cases}\n",
    "\\iff\n",
    "\\begin{cases}\n",
    "\\begin{alignedat}{3}\n",
    "       &       & 11b & {}={} x + 3y & \\quad \\longleftarrow & \\; (3) \\times (2^a\\text{ eq.}) + (1^a\\text{ eq.})\\\\\n",
    "    -a & {}+{} &  3b & {}={} y\n",
    "\\end{alignedat}\n",
    "\\end{cases}\n",
    "$$\n",
    "\n",
    "\n",
    "Pela $1^a$ equação encontramos $b = \\frac{x + 3y}{11}$. Substituindo o valor de $b$ na $1^a$ equação, encontramos $a = \\frac{3x - 2y}{11}$.\n",
    "\n",
    "Portanto, qualquer vetor $(x,y) \\in  \\mathbb{R}^2$ pode ser escrito como uma combinação linear dos vetores do conjunto, da seguinte forma:\n",
    "$$\n",
    "(x, y) = \\frac{3x - 2y}{11}(3,-1) + \\frac{x + 3y}{11}(2,3)\n",
    "$$\n",
    "\n",
    "Em outras palavras, os vetores do nosso conjunto são geradores do espaço vetorial $\\mathbb{R}^2$.\n",
    "\n",
    "**Resposta:** O conjunto de vetores $\\{(3, -1), (2, 3)\\}$ forma uma base do $\\mathbb{R}^2$"
   ]
  },
  {
   "cell_type": "markdown",
   "id": "3a15f80c-e63d-416e-a6fe-11f7618f8026",
   "metadata": {},
   "source": [
    "\\clearpage"
   ]
  },
  {
   "cell_type": "markdown",
   "id": "8210846b-ee55-4bde-ad31-072617e47ccc",
   "metadata": {},
   "source": [
    "6. Determinar a dimensão e uma base para o espaço-solução do sistema\n",
    "$S =\n",
    "\\begin{cases}\n",
    "\\begin{alignedat}{5}\n",
    "     x & {}+{} & 2y & {}-{} & 2z & {}-{} &  t & {}={} 0\\\\\n",
    "    2x & {}+{} & 4y & {}+{} &  z & {}+{} &  t & {}={} 0\\\\\n",
    "     x & {}+{} & 2y & {}+{} & 3z & {}+{} & 2t & {}={} 0\n",
    "\\end{alignedat}\n",
    "\\end{cases}$"
   ]
  },
  {
   "cell_type": "markdown",
   "id": "3cddb28e-16ed-457c-a54e-80a435d010ca",
   "metadata": {},
   "source": [
    "\\vspace{5mm}"
   ]
  },
  {
   "cell_type": "markdown",
   "id": "c39ca519-3f1d-4fca-95af-1c7091ffb6b4",
   "metadata": {},
   "source": [
    "Vamos primeiro escalonar o sistema para encontrar seu conjunto solução.\n",
    "$$\n",
    "\\begin{cases}\n",
    "\\begin{alignedat}{5}\n",
    "     x & {}+{} & 2y & {}-{} & 2z & {}-{} &  t & {}={} 0\\\\\n",
    "    2x & {}+{} & 4y & {}+{} &  z & {}+{} &  t & {}={} 0\\\\\n",
    "     x & {}+{} & 2y & {}+{} & 3z & {}+{} & 2t & {}={} 0\n",
    "\\end{alignedat}\n",
    "\\end{cases}\n",
    "\\iff\n",
    "\\begin{cases}\n",
    "\\begin{alignedat}{5}\n",
    "    x & {}+{} & 2y & {}-{} & 2z & {}-{} &  t & {}={} 0\\\\\n",
    "      &       &    &       & 5z & {}+{} & 3t & {}={} 0 & \\quad \\longleftarrow & \\; (-2) \\times (1^a\\text{ eq.}) + (2^a\\text{ eq.})\\\\\n",
    "      &       &    &       & 5z & {}+{} & 3t & {}={} 0 & \\quad \\longleftarrow & \\; (-1) \\times (1^a\\text{ eq.}) + (3^a\\text{ eq.})\n",
    "\\end{alignedat}\n",
    "\\end{cases}\n",
    "$$\n",
    "\n",
    "Podemos eliminar a $3^a$ equação, pois é idêntica à $2^a$. Pela $2^a$ equação temos que:\n",
    "\\begin{equation}\n",
    "\\label{eq:6t}\n",
    "5z + 3t = 0 \\implies t = -\\frac{5z}{3}\n",
    "\\end{equation}\n",
    "\n",
    "Substituindo o valor de $t$ na primeira equação:\n",
    "\\begin{align}\n",
    "x + 2y - 2z - \\left(-\\frac{5z}{3}\\right) = 0 \\nonumber\\\\\n",
    "x + 2y - \\frac{6z}{3} + \\frac{5z}{3} = 0 \\nonumber\\\\\n",
    "x + 2y - \\frac{z}{3}= 0 \\nonumber\\\\\n",
    "z = 3x + 6y \\label{eq:6z}\n",
    "\\end{align}\n",
    "\n",
    "Podemos também encontrar o valor de $t$ em função de $x$ e $y$, substituindo $\\ref{eq:6z}$ na equação $\\ref{eq:6t}$:\n",
    "\\begin{align*}\n",
    "t &= -\\frac{5z}{3}\\\\\n",
    "t &= -\\frac{5}{3}(3x + 6y)\\\\\n",
    "t &= -5x - 10y\n",
    "\\end{align*}\n",
    "\n",
    "Portanto, o conjunto de vetores do espaço-solução do sistema é dado por:\n",
    "$$\n",
    "S = \\{ (x,y,z,t) \\in \\mathbb{R}^4 | z = 3x + 6y\\; \\text{ e }\\; t = -5x - 10y \\}\n",
    "$$\n",
    "\n",
    "Como o espaço-solução possui duas variáveis livres, $x$ e $y$, podemos de imediato afirmar que a dimensão $\\dim S = 2$. Teremos uma base desse espaço a partir de quaisquer dois vetores LI do mesmo.\n",
    "\n",
    "De modo mais explícito, podemos concluir o mesmo da seguinte forma:\n",
    "\n",
    "Considerando as equações $\\ref{eq:6t}$ e $\\ref{eq:6z}$, podemos dizer que qualquer vetor $(x,y,z,t) \\in S$ é da forma $(x, y, 3x+6y, -5x-10y)$. Portanto:\n",
    "\\begin{align*}\n",
    "(x,y,z,t) &= (x, y, 3x+6y, -5x-10y)\\\\\n",
    "(x,y,z,t) &= (x, 0, 3x, -5x) + (0, y, 6y, -10y)\\\\\n",
    "(x,y,z,t) &= x(1, 0, 3, -5) + y(0, 1, 6, -10)\n",
    "\\end{align*}\n",
    "\n",
    "Ou seja, qualquer vetor $(x,y,z,t) \\in S$ é uma combinação linear dos vetores $(1, 0, 3, -5)$ e $(0, 1, 6, -10)$. Em outras palavras, estes dois vetores são geradores do espaço vetorial solução do sistema. Acrescentando-se a isso o fato de que estes dois vetores geradores são LI, podemos afirmar que o conjunto dos vetores $\\{(1, 0, 3, -5), (0, 1, 6, -10)\\}$ é uma base de $S$ e, como já havíamos enunciado, $\\dim S = 2$.\n",
    "\n",
    "**Resposta:** $\\dim S = 2$. Uma base de $S$ é $\\{(1, 0, 3, -5), (0, 1, 6, -10)\\}$."
   ]
  },
  {
   "cell_type": "code",
   "execution_count": 2,
   "id": "0d161f03-127e-4a90-89c9-0d7a1ab999ba",
   "metadata": {},
   "outputs": [
    {
     "name": "stdout",
     "output_type": "stream",
     "text": [
      "[NbConvertApp] Converting notebook 20210615-D1MAT-lista08-resolucao.ipynb to pdf\n",
      "[NbConvertApp] Writing 45814 bytes to notebook.tex\n",
      "[NbConvertApp] Building PDF\n",
      "[NbConvertApp] Running xelatex 3 times: ['xelatex', 'notebook.tex', '-quiet']\n",
      "[NbConvertApp] Running bibtex 1 time: ['bibtex', 'notebook']\n",
      "[NbConvertApp] WARNING | bibtex had problems, most likely because there were no citations\n",
      "[NbConvertApp] PDF successfully created\n",
      "[NbConvertApp] Writing 62656 bytes to 20210615-D1MAT-lista08-resolucao.pdf\n"
     ]
    }
   ],
   "source": [
    "###HIDE-TO-CONVERT\n",
    "!jupyter nbconvert --to pdf --RegexRemovePreprocessor.patterns \"^###HIDE-TO-CONVERT\" 20210615-D1MAT-lista08-resolucao.ipynb"
   ]
  }
 ],
 "metadata": {
  "author": [
   {
    "name": "Diego Machado de Assis"
   }
  ],
  "kernelspec": {
   "display_name": "Python 3",
   "language": "python",
   "name": "python3"
  },
  "language_info": {
   "codemirror_mode": {
    "name": "ipython",
    "version": 3
   },
   "file_extension": ".py",
   "mimetype": "text/x-python",
   "name": "python",
   "nbconvert_exporter": "python",
   "pygments_lexer": "ipython3",
   "version": "3.9.2"
  },
  "title": "D1MAT - Lista de Exercícios 08: Espaços Vetoriais"
 },
 "nbformat": 4,
 "nbformat_minor": 5
}
