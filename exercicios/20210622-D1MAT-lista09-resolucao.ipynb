{
 "cells": [
  {
   "cell_type": "markdown",
   "id": "b13042c3-5fd1-4b0e-a360-4d9aa5bfd3b8",
   "metadata": {},
   "source": [
    "1. Dada a transformação linear $T: V \\longrightarrow W$, tal que $T(u) = 3u$ e $T(v) = u - v$, calcular em função de $u$ e $v$. "
   ]
  },
  {
   "cell_type": "markdown",
   "id": "09808e1a-3545-4d13-b88c-44dd889276d5",
   "metadata": {},
   "source": [
    "a) $T(u + v)$"
   ]
  },
  {
   "cell_type": "markdown",
   "id": "2d16c50c-76e0-4c92-80a1-5c66d3cd01a6",
   "metadata": {},
   "source": [
    "\\begin{align*}\n",
    "    T(u + v) &= T(u) + T(v)\\\\\n",
    "    T(u + v) &= 3u + (u - v)\\\\\n",
    "    T(u + v) &= 4u - v\n",
    "\\end{align*}\n",
    "\n",
    "**Resposta:** $T(u + v) = 4u - v$"
   ]
  },
  {
   "cell_type": "markdown",
   "id": "1a1bc6e4-235c-4dbf-812a-9d9ce8680bad",
   "metadata": {},
   "source": [
    "\\vspace{5mm}\n",
    "\n",
    "---\n",
    "\n",
    "\\vspace{5mm}"
   ]
  },
  {
   "cell_type": "markdown",
   "id": "03c8f431-4cf9-48dc-9404-33481df953c6",
   "metadata": {},
   "source": [
    "b) $T(3u)$"
   ]
  },
  {
   "cell_type": "markdown",
   "id": "40436e4d-0093-4baf-ae1d-edbcfa30e026",
   "metadata": {},
   "source": [
    "\\begin{align*}\n",
    "    T(3u) &= 3T(u)\\\\\n",
    "    T(3u) &= 3(3u)\\\\\n",
    "    T(3u) &= 9u\n",
    "\\end{align*}\n",
    "\n",
    "**Resposta:** $T(3u) = 9u$"
   ]
  },
  {
   "cell_type": "markdown",
   "id": "6fb71349-ac84-4910-9d6e-34c26ea30775",
   "metadata": {},
   "source": [
    "\\vspace{5mm}\n",
    "\n",
    "---\n",
    "\n",
    "\\vspace{5mm}"
   ]
  },
  {
   "cell_type": "markdown",
   "id": "38cc1437-1fe0-4607-a6c0-e4a80afc20b3",
   "metadata": {},
   "source": [
    "c) $T(4u - 5v)$"
   ]
  },
  {
   "cell_type": "markdown",
   "id": "8b3d8f5b-84de-4b6e-9f9c-1b8c9476d59b",
   "metadata": {},
   "source": [
    "\\begin{align*}\n",
    "    T(4u - 5v) &= T(4u) + T(-5v)\\\\\n",
    "    T(4u - 5v) &= 4T(u) - 5T(v)\\\\\n",
    "    T(4u - 5v) &= 4(3u) - 5(u - v)\\\\\n",
    "    T(4u - 5v) &= 12u - 5u + 5v\\\\\n",
    "    T(4u - 5v) &= 7u + 5v\\\\\n",
    "\\end{align*}\n",
    "\n",
    "**Resposta:** $T(4u - 5v) = 7u + 5v$"
   ]
  },
  {
   "cell_type": "markdown",
   "id": "a6b4cbdb-d243-4b33-9c73-d92e7ecce682",
   "metadata": {},
   "source": [
    "\\clearpage"
   ]
  },
  {
   "cell_type": "markdown",
   "id": "11961d25-56b1-4b9f-be52-5a205670380a",
   "metadata": {},
   "source": [
    "2. Seja a aplicação $T: \\mathbb{R}^2 \\longrightarrow \\mathbb{R}^3$, definida por $T(x, y) = (x + ky, x + k, y)$. Verificar em que caso(s) $T$ é linear."
   ]
  },
  {
   "cell_type": "markdown",
   "id": "2b524a47-458f-4241-b229-6fb8b4faa4d8",
   "metadata": {},
   "source": [
    "\\vspace{5mm}"
   ]
  },
  {
   "cell_type": "markdown",
   "id": "e7ef92c2-0081-4af7-8fa4-01b4eadb74f5",
   "metadata": {},
   "source": [
    "Sejam dois vetores quaisquer do $\\mathbb{R}^2$, expressos por $u = (x_1, y_1)$ e $v = (x_2, y_2)$, e $\\alpha \\in \\mathbb{R}$. A aplicação $T$ será linear se obedecer às duas propriedades seguintes:\n",
    "\n",
    "I) $T(u + v) = T(u) + T(v)$\n",
    "\n",
    "II) $T(\\alpha u) = \\alpha T(u)$\n",
    "\n",
    "Temos que verificar estas duas propriedades em cada caso a seguir."
   ]
  },
  {
   "cell_type": "markdown",
   "id": "446dcf97-e44a-4b7d-b1a2-8e3eb755744f",
   "metadata": {},
   "source": [
    "\\vspace{5mm}"
   ]
  },
  {
   "cell_type": "markdown",
   "id": "a11a9852-2c69-4326-a769-07e88226d54c",
   "metadata": {},
   "source": [
    "a) $k = x$"
   ]
  },
  {
   "cell_type": "markdown",
   "id": "76de6964-dfae-4757-bf38-8079ed3509bc",
   "metadata": {},
   "source": [
    "\\vspace{5mm}"
   ]
  },
  {
   "cell_type": "markdown",
   "id": "b9c0fe66-7e3a-4aa0-a812-b8f23b215234",
   "metadata": {},
   "source": [
    "$k = x \\implies T(x, y) = (x + xy, x + x, y) \\implies T(x, y) = (x + xy, 2x, y)$\n",
    "\n",
    "I)\n",
    "\n",
    "Sabendo que $u + v = (x_1, y_1) + (x_2, y_2) = (x_1 + x_2, y_1 + y_2)$\n",
    "\\begin{align*}\n",
    "T(u + v) &= T(x_1 + x_2, y_1 + y_2) = (x_1 + x_2 + (x_1 + x_2)(y_1 + y_2), 2(x_1 + x_2), y_1 + y_2)\\\\\n",
    "T(u + v) &= (x_1 + x_2 + x_1y_1 + x_1y_2 + x_2y_1 + x_2y_2, 2x_1 + 2x_2, y_1 + y_2 )\\\\\n",
    "T(u + v) &= (x_1(1 + y_1 + y_2) + x_2(1 + y_1 + y_2), 2x_1 + 2x_2, y_1 + y_2 )\n",
    "\\end{align*}\n",
    "\n",
    "Por sua vez:\n",
    "\\begin{align*}\n",
    "T(u) + T(v) &= T(x_1, y_1) + T(x_2, y_2) = (x_1 + x_1y_1, 2x_1, y_1) + (x_2 + x_2y_2, 2x_2, y_2)\\\\\n",
    "T(u) + T(v) &= (x_1 + x_1y_1 + x_2 + x_2y_2, 2x_1 + 2x_2, y_1 + y_2)\\\\\n",
    "T(u) + T(v) &= (x_1(1 + y_1) + x_2(1 + y_2), 2x_1 + 2x_2, y_1 + y_2)\\\\\n",
    "\\end{align*}\n",
    "\n",
    "Portanto, como $T(u + v) \\neq T(u) + T(v)$, $T$ não é linear.\n",
    "\n",
    "**Resposta:** $T(x, y) = (x + xy, 2x, y)$ não é linear"
   ]
  },
  {
   "cell_type": "markdown",
   "id": "4ded85ca-e988-41fd-a5cc-5d886c1945d8",
   "metadata": {},
   "source": [
    "\\vspace{5mm}\n",
    "\n",
    "---\n",
    "\n",
    "\\vspace{5mm}"
   ]
  },
  {
   "cell_type": "markdown",
   "id": "facc4a83-3cc3-45ef-85dd-903ec83b7fe4",
   "metadata": {},
   "source": [
    "b) $k = 1$"
   ]
  },
  {
   "cell_type": "markdown",
   "id": "cfc41f6a-ce0d-492c-b28b-0467edd49deb",
   "metadata": {},
   "source": [
    "\\vspace{5mm}"
   ]
  },
  {
   "cell_type": "markdown",
   "id": "7d20a26a-8d63-4cb7-b1f3-be39de456150",
   "metadata": {},
   "source": [
    "$k = 1 \\implies T(x, y) = (x + y, x + 1, y)$\n",
    "\n",
    "I)\n",
    "\n",
    "Sabendo que $u + v = (x_1, y_1) + (x_2, y_2) = (x_1 + x_2, y_1 + y_2)$\n",
    "\\begin{align*}\n",
    "T(u + v) &= T(x_1 + x_2, y_1 + y_2) = (x_1 + x_2 + y_1 + y_2, x_1 + x_2 + 1, y_1 + y_2)\n",
    "\\end{align*}\n",
    "\n",
    "Por sua vez:\n",
    "\\begin{align*}\n",
    "T(u) + T(v) &= T(x_1, y_1) + T(x_2, y_2) = (x_1 + y_1, x_1 + 1, y_1) + (x_2 + y_2, x_2 + 1, y_2)\\\\\n",
    "T(u) + T(v) &= (x_1 + y_1 + x_2 + y_2, x_1 + 1 + x_2 + 1, y_1 + y_2)\\\\\n",
    "T(u) + T(v) &= (x_1 + x_2 + y_1 + y_2, x_1 + x_2 + 2, y_1 + y_2)\n",
    "\\end{align*}\n",
    "\n",
    "Portanto, como $T(u + v) \\neq T(u) + T(v)$, $T$ não é linear.\n",
    "\n",
    "**Resposta:** $T(x, y) = (x + y, x + 1, y)$ não é linear"
   ]
  },
  {
   "cell_type": "markdown",
   "id": "7db12a41-be24-4cf0-be3d-d962c92ae751",
   "metadata": {},
   "source": [
    "\\vspace{5mm}\n",
    "\n",
    "---\n",
    "\n",
    "\\vspace{5mm}"
   ]
  },
  {
   "cell_type": "markdown",
   "id": "dcd5caed-69b1-4beb-b50b-6a6db500bbf2",
   "metadata": {},
   "source": [
    "c) $k = 0$"
   ]
  },
  {
   "cell_type": "markdown",
   "id": "69e3c4c5-2864-4d63-9988-0ebdcca11a3f",
   "metadata": {},
   "source": [
    "\\vspace{5mm}"
   ]
  },
  {
   "cell_type": "markdown",
   "id": "2f8f3273-4fc6-46fc-bfb8-c35fe2748ab6",
   "metadata": {},
   "source": [
    "$k = 0 \\implies T(x, y) = (x, x, y)$\n",
    "\n",
    "I)\n",
    "\n",
    "Sabendo que $u + v = (x_1, y_1) + (x_2, y_2) = (x_1 + x_2, y_1 + y_2)$\n",
    "\\begin{align*}\n",
    "T(u + v) &= T(x_1 + x_2, y_1 + y_2) = (x_1 + x_2, x_1 + x_2, y_1 + y_2)\\\\\n",
    "T(u + v) &= (x_1, x_1, y_1) + (x_2, x_2, y_2)\\\\\n",
    "T(u + v) &= T(u) + T(v)\n",
    "\\end{align*}\n",
    "\n",
    "II)\n",
    "\n",
    "Sabendo que $\\alpha u = \\alpha(x_1, y_1) = (\\alpha x_1, \\alpha y_1)$\n",
    "\\begin{align*}\n",
    "T(\\alpha u) &= T(\\alpha x_1, \\alpha y_1) = (\\alpha x_1, \\alpha x_1, \\alpha y_1)\\\\\n",
    "T(\\alpha u) &= \\alpha (x_1, x_1, y_1)\\\\\n",
    "T(\\alpha u) &= \\alpha T(u)\n",
    "\\end{align*}\n",
    "\n",
    "Portanto, como $T(u + v) = T(u) + T(v)$ e $T(\\alpha u) = \\alpha T(u)$, $T$ é linear.\n",
    "\n",
    "**Resposta:** $T(x, y) = (x, x, y)$ é linear"
   ]
  },
  {
   "cell_type": "markdown",
   "id": "968ce3a6-ddf8-43b9-9ebd-14ed903819fd",
   "metadata": {},
   "source": [
    "\\clearpage"
   ]
  },
  {
   "cell_type": "markdown",
   "id": "f8e51371-88ae-4286-88d4-3214626f13f7",
   "metadata": {},
   "source": [
    "3. Seja $T: \\mathbb{R}^2 \\longrightarrow \\mathbb{R}^3$ uma transformação linear definida por $T(-2, 3) = (-1, 0, 1)$ e $T(1, -2) = (0, -1, 0)$."
   ]
  },
  {
   "cell_type": "markdown",
   "id": "9a424e5f-f3e5-4349-b01a-e5d3416e8e01",
   "metadata": {},
   "source": [
    "\\vspace{5mm}"
   ]
  },
  {
   "cell_type": "markdown",
   "id": "d4ffed98-5025-4f13-85dc-92b5a2f42628",
   "metadata": {},
   "source": [
    "a) Determinar $T(x, y)$."
   ]
  },
  {
   "cell_type": "markdown",
   "id": "2d9055f0-e408-4c07-8ddc-3d330b46c51e",
   "metadata": {},
   "source": [
    "\\vspace{5mm}"
   ]
  },
  {
   "cell_type": "markdown",
   "id": "2371455a-2959-40b8-a41e-ec392714014b",
   "metadata": {},
   "source": [
    "Primeiramente, podemos notar que $\\{ (-2, 3), (1, -2) \\}$ é uma base do $\\mathbb{R}^2$ (por ser um conjunto de dois vetores LI do plano). Dessa forma, qualquer vetor $(x, y) \\in \\mathbb{R}^2$ pode ser expresso como uma combinação linear destes dois vetores. Ou seja, existem coeficientes $a, b \\in \\mathbb{R}$ tal que:\n",
    "$$\n",
    "(x, y) = a(-2, 3) + b(1, -2)\n",
    "$$\n",
    "\n",
    "A relação acima resulta no sistema:\n",
    "$$\n",
    "\\begin{cases}\n",
    "\\begin{alignedat}{3}\n",
    "    -2a & {}+{} &  b & {}={} x\\\\\n",
    "     3a & {}-{} & 2b & {}={} y\n",
    "\\end{alignedat}\n",
    "\\end{cases}\n",
    "\\iff\n",
    "\\begin{cases}\n",
    "\\begin{alignedat}{3}\n",
    "    -2a & {}+{} & b & {}={} x\\\\\n",
    "     -a &       &   & {}={} 2x + y & \\quad \\longleftarrow & \\; (2) \\times (1^a\\text{ eq.}) + (2^a\\text{ eq.})\n",
    "\\end{alignedat}\n",
    "\\end{cases}\n",
    "$$\n",
    "\n",
    "Com a $2^a$ equação econtramos o valor de $a = -2x - y$. Substituindo $a$ na $1^a$ equação temos que:\n",
    "$$\n",
    "-2(-2x - y) + b = x \\implies 4x + 2y + b = x \\implies b = -3x - 2y\n",
    "$$\n",
    "\n",
    "Portanto, os vetores $(x, y) \\in \\mathbb{R}^2$ podem ser escritos como $(x, y) = (-2x - y)(-2, 3) + (-3x - 2y)(1, -2)$.\n",
    "\n",
    "Dessa forma, temos que:\n",
    "\\begin{align*}\n",
    "T(x, y) &= T((-2x - y)(-2, 3) + (-3x - 2y)(1, -2))\\\\\n",
    "T(x, y) &= T((-2x - y)(-2, 3)) + T((-3x - 2y)(1, -2))\\\\\n",
    "T(x, y) &= (-2x - y)T(-2, 3) + (-3x - 2y)T(1, -2)\\\\\n",
    "T(x, y) &= (-2x - y)(-1, 0, 1) + (-3x - 2y)(0, -1, 0)\\\\\n",
    "T(x, y) &= (2x + y, 0, -2x - y) + (0, 3x + 2y, 0)\\\\\n",
    "T(x, y) &= (2x + y, 3x + 2y, -2x - y)\n",
    "\\end{align*}\n",
    "\n",
    "\n",
    "**Resposta:** $T(x, y) = (2x + y, 3x + 2y, -2x - y)$"
   ]
  },
  {
   "cell_type": "markdown",
   "id": "d92b8ece-9bac-4b3e-9a30-4dceef470f64",
   "metadata": {},
   "source": [
    "\\vspace{5mm}\n",
    "\n",
    "---\n",
    "\n",
    "\\vspace{5mm}"
   ]
  },
  {
   "cell_type": "markdown",
   "id": "a5af8cf5-dcc5-49aa-b2ee-2e87be4cadc4",
   "metadata": {},
   "source": [
    "b) Determinar $\\mathrm{N}(T)$ e $\\mathrm{Im}(T)$."
   ]
  },
  {
   "cell_type": "markdown",
   "id": "0a5796dc-0b78-4eea-ada6-6548cef6803f",
   "metadata": {},
   "source": [
    "\\vspace{5mm}"
   ]
  },
  {
   "cell_type": "markdown",
   "id": "b532a260-4195-4cbe-adaa-fd14a5e53783",
   "metadata": {},
   "source": [
    "O núcleo de $T$ é o conjunto tal que:\n",
    "$$\n",
    "\\mathrm{N}(T) = \\{ (x, y) \\in \\mathbb{R}^2\\; |\\; T(x, y) = (0, 0, 0) \\}\n",
    "$$\n",
    "\n",
    "Portanto, encontramos $\\mathrm{N}(T)$ desenvolvendo a relação:\n",
    "$$\n",
    "(2x + y, 3x + 2y, -2x - y) = (0, 0, 0)\n",
    "$$\n",
    "\n",
    "Que nos leva ao sistema:\n",
    "$$\n",
    "\\begin{cases}\n",
    "\\begin{alignedat}{3}\n",
    "     2x & {}+{} &  y & {}={} 0\\\\\n",
    "     3x & {}+{} & 2y & {}={} 0\\\\\n",
    "    -2x & {}-{} &  y & {}={} 0\n",
    "\\end{alignedat}\n",
    "\\end{cases}\n",
    "\\iff\n",
    "\\begin{cases}\n",
    "\\begin{alignedat}{3}\n",
    "     2x & {}+{} & y & {}={} 0\\\\\n",
    "     -x &       &   & {}={} 0 & \\quad \\longleftarrow & \\; (-2) \\times (1^a\\text{ eq.}) + (2^a\\text{ eq.})\\\\\n",
    "        &       & 0 & {}={} 0 & \\quad \\longleftarrow & \\; (1^a\\text{ eq.}) + (3^a\\text{ eq.})\n",
    "\\end{alignedat}\n",
    "\\end{cases}\n",
    "$$\n",
    "\n",
    "Cuja solução é $x = y = 0$. E, portanto, $\\mathrm{N}(T) = \\{ (0, 0) \\}$\n",
    "\n",
    "A imagem de $T$ é definida pelo conjunto:\n",
    "$$\n",
    "\\mathrm{Im}(T) = \\{ (a, b, c) \\in \\mathbb{R}^3\\; |\\; T(x, y) = (a, b, c) \\}\n",
    "$$\n",
    "\n",
    "Ou seja, são todas as tuplas ordenadas do $\\mathbb{R}^3$ que resultam da transformação de algum par $(x, y)$ do $\\mathbb{R}^2$. Ou então, os valores $a, b, c \\in \\mathbb{R}$ para os quais:\n",
    "\\begin{align*}\n",
    "T(x, y) = (a, b, c)\\\\\n",
    "(2x + y, 3x + 2y, -2x - y) = (a, b, c)\n",
    "\\end{align*}\n",
    "\n",
    "Que é repesentado pelo sistema:\n",
    "$$\n",
    "\\begin{cases}\n",
    "\\begin{alignedat}{3}\n",
    "     2x & {}+{} &  y & {}={} a\\\\\n",
    "     3x & {}+{} & 2y & {}={} b\\\\\n",
    "    -2x & {}-{} &  y & {}={} c\n",
    "\\end{alignedat}\n",
    "\\end{cases}\n",
    "\\iff\n",
    "\\begin{cases}\n",
    "\\begin{alignedat}{3}\n",
    "     2x & {}+{} & y & {}={} a\\\\\n",
    "     -x &       &   & {}={} -2a + b & \\quad \\longleftarrow & \\; (-2) \\times (1^a\\text{ eq.}) + (2^a\\text{ eq.})\\\\\n",
    "        &       & 0 & {}={} a + c & \\quad \\longleftarrow & \\; (1^a\\text{ eq.}) + (3^a\\text{ eq.})\n",
    "\\end{alignedat}\n",
    "\\end{cases}\n",
    "$$\n",
    "\n",
    "Que só terá solução quando (pela $3^a$ equação) $c = -a$. Portanto:\n",
    "\\begin{align}\n",
    "\\mathrm{Im}(T) &= \\{ (a, b, c) \\in \\mathbb{R}^3\\; |\\; c = -a \\} \\nonumber\\\\\n",
    "\\mathrm{Im}(T) &= \\{ (a, b, -a);\\; a, b \\in \\mathbb{R} \\} \\label{rel:3b1}\n",
    "\\end{align}\n",
    "\n",
    "O conjunto acima já nos fornece a $\\mathrm{Im}(T)$, conforme solicitado pela questão. Porém, vamos fazer mais uma observação sobre o caso. Note que podemos ainda desenvolver a relação $\\ref{rel:3b1}$ da seguinte forma:\n",
    "\\begin{align*}\n",
    "\\mathrm{Im}(T) &= \\{ (a, 0, -a) + (0, b, 0);\\; a, b \\in \\mathbb{R} \\}\\\\\n",
    "\\mathrm{Im}(T) &= \\{ a(1, 0, -1) + b(0, 1, 0);\\; a, b \\in \\mathbb{R} \\}\\\\\n",
    "\\mathrm{Im}(T) &= \\{ -a(-1, 0, 1) + (-b)(0, -1, 0);\\; a, b \\in \\mathbb{R} \\}\n",
    "\\end{align*}\n",
    "\n",
    "Que nos mostra que a $\\mathrm{Im}(T)$ é o conjunto de vetores que são combinação linear dos vetores $(-1, 0, 1)$ e $(0, -1, 0)$, ou seja, dos vetores apresentados no enunciado do problema.\n",
    "\n",
    "Esse resultado poderia ter sido obtido de forma direta pois já havíamos encontrado que $\\mathrm{N}(T) = \\{(0, 0)\\}$, ou seja, $\\dim \\mathrm{N}(T) = 0$. Pelo *Teorema do Núcleo e da Imagem*, podemos afirmar que $\\dim \\mathrm{Im}(T) = \\dim \\mathbb{R}^2 = 2$. Ou seja, a imagem de $T$ é um plano definido no $\\mathbb{R}^3$. Como o enunciado da questão nos forneceu dois vetores que pertencem à imagem da transformação e, como podemos facilmente ver que estes vetores são LI, poderíamos dizer de antemão que estes dois vetores geram o subespaço do $\\mathbb{R}^3$ (plano) que corresponde à imagem de $T$.\n",
    "\n",
    "**Resposta:** $\\mathrm{N}(T) = \\{ (0, 0) \\}$ e $\\mathrm{Im}(T) = [(-1, 0, 1), (0, -1, 0)]$"
   ]
  },
  {
   "cell_type": "markdown",
   "id": "8f6b190b-c975-4e62-a3d9-30599d5f341b",
   "metadata": {},
   "source": [
    "\\clearpage"
   ]
  },
  {
   "cell_type": "markdown",
   "id": "57221c74-0397-413e-a990-61d5dc63e0f5",
   "metadata": {},
   "source": [
    "4. O vetor $v = (3, 2)$ experimenta sequencialmente:\n",
    "\n",
    "   (a) Uma reflexão em torno da reta $y = x$;\n",
    "   \n",
    "   (b) Um cisalhamento horizontal de fator $2$;\n",
    "   \n",
    "   (c) Uma contração na direção $Oy$ de fator $\\frac{1}{3}$;\n",
    "   \n",
    "   (d) Uma rotação de $90^{\\circ}$ no sentido anti-horário."
   ]
  },
  {
   "cell_type": "markdown",
   "id": "1f1f61bc-3b1c-4207-a7b0-670b2c42dedb",
   "metadata": {},
   "source": [
    "\\vspace{5mm}"
   ]
  },
  {
   "cell_type": "markdown",
   "id": "19883895-44f2-488f-a843-2f5e68b50c42",
   "metadata": {},
   "source": [
    "a) Calcular o vetor resultade dessa sequência de operações."
   ]
  },
  {
   "cell_type": "markdown",
   "id": "c6a04561-1fa6-4925-aebf-0192204d81e6",
   "metadata": {},
   "source": [
    "\\vspace{5mm}"
   ]
  },
  {
   "cell_type": "markdown",
   "id": "bcb7fe55-3801-4f31-866b-ffca69b2a5de",
   "metadata": {},
   "source": [
    "Para cada uma destas operações é definida uma transformação linear plana $T: \\mathbb{R}^2 \\longrightarrow \\mathbb{R}^2$ da forma:\n",
    "\n",
    "(a) $T^{(a)}(x, y) = (y, x)$\n",
    "\n",
    "$$\n",
    "v^{(a)} = T^{(a)}(v) = T^{(a)}(3, 2) = (2, 3)\n",
    "$$\n",
    "\n",
    "(b) $T^{(b)}(x, y) = (x + 2y, y)$\n",
    "\n",
    "$$\n",
    "v^{(b)} = T^{(b)}(v^{(a)}) = T^{(b)}(2, 3) = (2 + 2(3), 3) = (8, 3)\n",
    "$$\n",
    "\n",
    "(c) $T^{(c)}(x, y) = \\left(x, \\frac{1}{3}y\\right)$\n",
    "\n",
    "$$\n",
    "v^{(c)} = T^{(c)}(v^{(b)}) = T^{(c)}(8, 3) = \\left(8, \\frac{1}{3}(3)\\right) = (8, 1)\n",
    "$$\n",
    "\n",
    "(d) $T_{\\theta}(x, y) = (x\\cos\\theta - y \\sin\\theta, x \\sin\\theta + y \\cos\\theta) \\implies T_{\\pi/2}^{(d)}(x, y) = (x \\cos\\pi/2 - y \\sin\\pi/2, x \\sin\\pi/2 + y \\cos\\pi/2)$\n",
    "\n",
    "\\begin{align*}\n",
    "v^{(d)} &= T_{\\pi/2}^{(d)}(v^{(c)}) = T_{\\pi/2}^{(d)}(8, 1) = (8 \\cos\\pi/2 - 1 \\sin\\pi/2, 8 \\sin\\pi/2 + 1 \\cos\\pi/2)\\\\\n",
    "v^{(d)} &= (8(0) - 1(1), 8(1) + 1(0))\\\\\n",
    "v^{(d)} &= (-1, 8)\n",
    "\\end{align*}\n",
    "\n",
    "**Resposta:** $(-1, 8)$\n"
   ]
  },
  {
   "cell_type": "markdown",
   "id": "d1fff745-725f-44ca-b442-70ba5d7bfe7e",
   "metadata": {},
   "source": [
    "\\vspace{5mm}\n",
    "\n",
    "---\n",
    "\n",
    "\\vspace{5mm}"
   ]
  },
  {
   "cell_type": "markdown",
   "id": "8912a515-c4ca-46ba-b6e8-5b6175f1aa6e",
   "metadata": {},
   "source": [
    "b) Encontrar a expressão da transformação linear $T: \\mathbb{R}^2 \\longrightarrow \\mathbb{R}^2$ que representa a composta das quatro operações."
   ]
  },
  {
   "cell_type": "markdown",
   "id": "8373b6a5-81a3-4a85-ac24-b6cc75eeea44",
   "metadata": {},
   "source": [
    "\\vspace{5mm}"
   ]
  },
  {
   "cell_type": "markdown",
   "id": "12151984-df59-4421-9ca2-45fb2841d842",
   "metadata": {},
   "source": [
    "A composta das operação, como pudemos ver na letra $a)$, será a transformação $T$ da seguinte forma:\n",
    "\\begin{align*}\n",
    "T(x, y) &= (T_{\\pi/2}^{(d)} \\circ T^{(c)} \\circ T^{(b)} \\circ T^{(a)})(x, y)\\\\\n",
    "T(x, y) &= T_{\\pi/2}^{(d)}(T^{(c)}(T^{(b)}(T^{(a)}(x, y))))\\\\\n",
    "T(x, y) &= T_{\\pi/2}^{(d)}(T^{(c)}(T^{(b)}(y, x)))\\\\\n",
    "T(x, y) &= T_{\\pi/2}^{(d)}(T^{(c)}(2x + y, x))\\\\\n",
    "T(x, y) &= T_{\\pi/2}^{(d)}(2x + y, \\frac{1}{3}x)\\\\\n",
    "T(x, y) &= \\left((2x + y) \\cos\\frac{\\pi}{2} - \\frac{1}{3}x \\sin\\frac{\\pi}{2}, (2x + y) \\sin\\frac{\\pi}{2} + \\frac{1}{3}x \\cos\\frac{\\pi}{2})\\right)\\\\\n",
    "T(x, y) &= \\left(- \\frac{1}{3}x, 2x + y\\right)\n",
    "\\end{align*}\n",
    "\n",
    "**Resposta:** $\\displaystyle T(x, y) = \\left(- \\frac{1}{3}x, 2x + y\\right)$"
   ]
  },
  {
   "cell_type": "code",
   "execution_count": 1,
   "id": "1594af51-eb4d-443c-9a74-eca7b0085439",
   "metadata": {},
   "outputs": [
    {
     "data": {
      "text/latex": [
       "$\\displaystyle \\left[\\begin{matrix}-1\\\\8\\end{matrix}\\right]$"
      ],
      "text/plain": [
       "Matrix([\n",
       "[-1],\n",
       "[ 8]])"
      ]
     },
     "execution_count": 1,
     "metadata": {},
     "output_type": "execute_result"
    }
   ],
   "source": [
    "###HIDE-TO-CONVERT\n",
    "from sympy import pi, cos, sin, Rational\n",
    "from sympy.matrices import Matrix\n",
    "from sympy.abc import x, y\n",
    "\n",
    "A = Matrix([\n",
    "    [0, 1],\n",
    "    [1, 0]\n",
    "])\n",
    "\n",
    "B = Matrix([\n",
    "    [1, 2],\n",
    "    [0, 1]\n",
    "])\n",
    "\n",
    "C = Matrix([\n",
    "    [1, 0],\n",
    "    [0, Rational(1, 3)]\n",
    "])\n",
    "\n",
    "D = Matrix([\n",
    "    [cos(pi/2), -sin(pi/2)],\n",
    "    [sin(pi/2), cos(pi/2)]\n",
    "])\n",
    "\n",
    "V = Matrix([\n",
    "    [3],\n",
    "    [2]\n",
    "])\n",
    "\n",
    "D * C * B * A * V"
   ]
  },
  {
   "cell_type": "code",
   "execution_count": 2,
   "id": "466e99e9-39c5-43f7-892f-167ae4299eb4",
   "metadata": {},
   "outputs": [
    {
     "data": {
      "text/latex": [
       "$\\displaystyle \\left[\\begin{matrix}- \\frac{x}{3}\\\\2 x + y\\end{matrix}\\right]$"
      ],
      "text/plain": [
       "Matrix([\n",
       "[   -x/3],\n",
       "[2*x + y]])"
      ]
     },
     "execution_count": 2,
     "metadata": {},
     "output_type": "execute_result"
    }
   ],
   "source": [
    "###HIDE-TO-CONVERT\n",
    "X = Matrix([\n",
    "    [x],\n",
    "    [y]\n",
    "])\n",
    "\n",
    "D * C * B * A * X"
   ]
  },
  {
   "cell_type": "code",
   "execution_count": 3,
   "id": "0d161f03-127e-4a90-89c9-0d7a1ab999ba",
   "metadata": {},
   "outputs": [
    {
     "name": "stdout",
     "output_type": "stream",
     "text": [
      "[NbConvertApp] Converting notebook 20210622-D1MAT-lista09-resolucao.ipynb to pdf\n",
      "[NbConvertApp] Writing 32916 bytes to notebook.tex\n",
      "[NbConvertApp] Building PDF\n",
      "[NbConvertApp] Running xelatex 3 times: ['xelatex', 'notebook.tex', '-quiet']\n",
      "[NbConvertApp] Running bibtex 1 time: ['bibtex', 'notebook']\n",
      "[NbConvertApp] WARNING | bibtex had problems, most likely because there were no citations\n",
      "[NbConvertApp] PDF successfully created\n",
      "[NbConvertApp] Writing 46906 bytes to 20210622-D1MAT-lista09-resolucao.pdf\n"
     ]
    }
   ],
   "source": [
    "###HIDE-TO-CONVERT\n",
    "!jupyter nbconvert --to pdf --RegexRemovePreprocessor.patterns \"^###HIDE-TO-CONVERT\" 20210622-D1MAT-lista09-resolucao.ipynb"
   ]
  }
 ],
 "metadata": {
  "author": [
   {
    "name": "Diego Machado de Assis"
   }
  ],
  "kernelspec": {
   "display_name": "Python 3",
   "language": "python",
   "name": "python3"
  },
  "language_info": {
   "codemirror_mode": {
    "name": "ipython",
    "version": 3
   },
   "file_extension": ".py",
   "mimetype": "text/x-python",
   "name": "python",
   "nbconvert_exporter": "python",
   "pygments_lexer": "ipython3",
   "version": "3.9.2"
  },
  "title": "D1MAT - Lista de Exercícios 09: Transformações Lineares"
 },
 "nbformat": 4,
 "nbformat_minor": 5
}
