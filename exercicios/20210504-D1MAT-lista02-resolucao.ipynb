{
 "cells": [
  {
   "cell_type": "markdown",
   "id": "20d2c377-ed50-4e6d-a310-6d1badbf6bea",
   "metadata": {},
   "source": [
    "1. Um apartamento está alugado por $R\\$4500\\mathrm{,}00$. Este aluguel sofrerá um reajuste anual de $R\\$1550\\mathrm{,}00$."
   ]
  },
  {
   "cell_type": "markdown",
   "id": "54237f78-3854-4867-9c09-ff7c923984db",
   "metadata": {},
   "source": [
    "a) Expresse a função com a qual podemos calcular a taxa de variação do aluguel, em $t$ anos."
   ]
  },
  {
   "cell_type": "markdown",
   "id": "81af7fc2-9ebf-4692-84a5-0788f5b0c7ca",
   "metadata": {},
   "source": [
    "**Solução**\n",
    "\n",
    "Seja $V(t)$ a função que define o preço do aluguel em $t$ anos.\n",
    "\n",
    "$$\n",
    "V(t) = 4500 + 1550t \\qquad t \\in \\mathbb{N}\n",
    "$$\n",
    "\n",
    "A taxa de variação do aluguel pode ser expressa pela derivada da função $V(t)$ em relação a $t$\n",
    "\n",
    "$$\n",
    "V'(t) = \\frac{dV}{dt} = 1550 \\: R\\$/\\text{ano}\n",
    "$$\n",
    "\n",
    "Ou seja, a função que define a taxa de variação do aluguel em $t$ anos é a constante do reajuste $\\mathbf{1550\\mathrm{,}00 \\: R\\$/ano}$\n",
    "\n",
    "-----"
   ]
  },
  {
   "cell_type": "markdown",
   "id": "773cbe9f-48ed-45dd-b9d8-8427b05dbfe1",
   "metadata": {},
   "source": [
    "b) Calcule a taxa de variação do aluguel após $4$ anos"
   ]
  },
  {
   "cell_type": "markdown",
   "id": "72c37b99-5f97-46bf-97b3-7cb320568917",
   "metadata": {},
   "source": [
    "**Solução**\n",
    "\n",
    "Após $4$ anos, a taxa de variação do aluguel será de $1550\\mathrm{,}00 R\\$/\\mathrm{ano}$\n",
    "\n",
    "-----"
   ]
  },
  {
   "cell_type": "markdown",
   "id": "531c7299-b7e6-418d-a782-08ecf9f858e4",
   "metadata": {},
   "source": [
    "c) Qual a porcentagem de variação do aluguel depois de $1$ ano do primeiro reajuste?"
   ]
  },
  {
   "cell_type": "markdown",
   "id": "f09e4bf6-cc8a-40df-85e3-d029c572a152",
   "metadata": {},
   "source": [
    "**Solução**\n",
    "\n",
    "A porcentagem de variação do aluguel após $t$ reajustes $P(t)$ pode ser expressa como:\n",
    "\n",
    "$$\n",
    "P(t) =\n",
    "  \\begin{cases}\n",
    "    0 & \\quad \\text{para } t = 0\\\\\n",
    "    \\frac{V(t)}{V(t-1)} - 1 & \\quad \\text{para } t \\in \\mathbb{N}^*\n",
    "  \\end{cases}\n",
    "$$\n",
    "\n",
    "Após $1$ ano do primeiro reajuste teremos o segundo reajuste, ou seja:\n",
    "\n",
    "$$\n",
    "P(2) = \\frac{V(2)}{V(1)} - 1 = \\frac{4500 + 1550(2)}{4500 + 1550(1)} - 1 \\approx 0\\text{,}256\n",
    "$$\n",
    "\n",
    "Portanto, a variação do aluguel depois de $1$ ano do primeiro reajuste será de aproximadamente $\\mathbf{25\\mathrm{,}6\\%}$\n",
    "\n",
    "------"
   ]
  },
  {
   "cell_type": "markdown",
   "id": "80576c5f-b86f-40ac-a40d-90438e3ef91b",
   "metadata": {},
   "source": [
    "d) Que acontecerá à porcentagem de variação depois de alguns anos?"
   ]
  },
  {
   "cell_type": "markdown",
   "id": "14941e2c-7cbb-446b-ba90-5a37c8e4cbe4",
   "metadata": {},
   "source": [
    "**Solução**\n",
    "\n",
    "Como a taxa de reajuste é constante ao longo dos anos, **a porcentagem de variação irá diminuir a cada ano**.\n",
    "\n",
    "Pela expressão acima, para $t > 0$ temos que:\n",
    "\n",
    "\\begin{equation} \\label{eq:vt}\n",
    "P(t) = \\frac{V(t)}{V(t-1)} - 1 = \\frac{V(t)}{V(t-1)} - \\frac{V(t-1)}{V(t-1)} = \\frac{V(t) - V(t-1)}{V(t-1)}\n",
    "\\end{equation}\n",
    "\n",
    "Podemos também expressar $V(t-1)$, para $t > 0$, como:\n",
    "\n",
    "\\begin{equation} \\label{eq:vt-1}\n",
    "V(t-1) = 4500 + 1550(t-1) = 4500 + 1550t - 1550 = V(t) - 1550\n",
    "\\end{equation}\n",
    "\n",
    "Substituindo (\\ref{eq:vt-1}) em (\\ref{eq:vt}) temos:\n",
    "\n",
    "\\begin{equation} \\label{eq:pt}\n",
    "P(t) = \\frac{V(t) - (V(t) - 1550)}{V(t-1)} = \\frac{1550}{4500 + 1550(t-1)}\n",
    "\\end{equation}\n",
    "\n",
    "Pela equação (\\ref{eq:pt}) é mais fácil visualizar que o valor de $P(t)$ diminui para valores maiores de $t$. Ou seja, a medida que os anos passam ($t$ aumenta), a porcentagem de variação do aluguel $P(t)$ diminui.\n",
    "\n",
    "Por fim, podemos ver pelo gráfico abaixo como a porcentagem de variação do aluguel diminui ao longo dos anos"
   ]
  },
  {
   "cell_type": "code",
   "execution_count": 1,
   "id": "0dd28409-865d-4108-a6ab-8d78fe7f1dba",
   "metadata": {},
   "outputs": [
    {
     "data": {
      "image/png": "[encoded data removed]",
      "text/plain": [
       "<Figure size 432x288 with 1 Axes>"
      ]
     },
     "metadata": {
      "needs_background": "light"
     },
     "output_type": "display_data"
    }
   ],
   "source": [
    "import matplotlib.pyplot as plt\n",
    "import seaborn as sns\n",
    "\n",
    "def V(t):\n",
    "    return 4500 + 1550*t\n",
    "\n",
    "def P(t):\n",
    "    return 0 if t == 0 else V(t)/V(t-1) - 1\n",
    "\n",
    "t = range(1, 10)\n",
    "p = [P(t) for t in t]\n",
    "sns.scatterplot(x=t, y=p)\n",
    "\n",
    "plt.title('Porcentagem de variação do aluguel ao longo dos anos', fontsize=12)\n",
    "plt.xlabel('Anos')\n",
    "plt.ylabel('Porcentagem de variação')\n",
    "plt.show()"
   ]
  },
  {
   "cell_type": "markdown",
   "id": "3a53d263-69fc-43cc-8e10-3fa6e36cfcc4",
   "metadata": {},
   "source": [
    "\\clearpage"
   ]
  },
  {
   "cell_type": "markdown",
   "id": "2d1711e9-cfd5-4f2d-9fae-b642530a3403",
   "metadata": {},
   "source": [
    "2. Uma folha de papel contém $375cm^2$ de matéria impressa, com margem superior de $3\\mathrm{,}5cm$, margem inferior de $2cm$, margem lateral direita de $2cm$ e margem lateral esquerda de $2\\mathrm{,}5cm$. Determinar quais devem ser as dimensões da folha para que haja o máximo de economia de papel."
   ]
  },
  {
   "cell_type": "markdown",
   "id": "adeef666-c686-4adb-8689-83a0cc1032c2",
   "metadata": {},
   "source": [
    "**Solução**\n",
    "\n",
    "Para determinar a máxima economia de papel, queremos calcular a área ($A$) mínima da folha de papel que obedeça as dimensões especificadas.\n",
    "\n",
    "Sejam $p_h$ e $p_w$ as dimensões da altura e largura da área impressa da folha, respectivamente. Sabemos que:\n",
    "\n",
    "\\begin{equation} \\label{eq:phpw-1}\n",
    "p_h p_w = 375\n",
    "\\end{equation}\n",
    "\n",
    "\\begin{equation} \\label{eq:phpw-2}\n",
    "p_h = \\frac{375}{p_w} \\quad \\text{e} \\quad p_w = \\frac{375}{p_h}\n",
    "\\end{equation}\n",
    "\n",
    "Considerando as margens, podemos definir a altura ($h$) e largura ($w$) totais da página como sendo:\n",
    "\n",
    "\\begin{align}\n",
    "\\label{eq:h} h = p_h + 3\\mathrm{,}5 + 2 & \\implies h = p_h + 5\\mathrm{,}5\\\\\n",
    "\\label{eq:w} w = p_w + 2 + 2\\mathrm{,}5 & \\implies w = p_w + 4\\mathrm{,}5\n",
    "\\end{align}\n",
    "\n",
    "Portanto, a área total da folha pode ser expressa como:\n",
    "\n",
    "\\begin{align}\n",
    "A &= hw = (p_h + 5\\mathrm{,}5)(p_w + 4\\mathrm{,}5) \\nonumber\\\\\n",
    "A &= p_h p_w + 4\\mathrm{,}5 p_h + 5\\mathrm{,}5 p_w + 24\\mathrm{,}75 \\label{eq:a-phpw}\n",
    "\\end{align}\n",
    "\n",
    "Utilizando (\\ref{eq:phpw-1}) e (\\ref{eq:phpw-2}) e substituindo na equação (\\ref{eq:a-phpw}), podemos expressar a área total da folha em função de $p_h$ ou $p_w$:\n",
    "\n",
    "\\begin{align*}\n",
    "A(p_h) &= 4\\mathrm{,}5 p_h + \\frac{2062\\mathrm{,}5}{p_h} + 399\\mathrm{,}75\\\\\n",
    "A(p_w) &= 5\\mathrm{,}5 p_w + \\frac{1687\\mathrm{,}5}{p_w} + 399\\mathrm{,}75\n",
    "\\end{align*}\n",
    "\n",
    "Para encontrarmos a área mínima, vamos primeiramente encontrar os números críticos da função $A$.\n",
    "\n",
    "Vamos aplicar para $A(p_h)$, primeiramente encontrando a função derivada $A'(p_h)$:\n",
    "$$\n",
    "A'(p_h) = 4\\mathrm{,}5 - \\frac{2062\\mathrm{,}5}{p_h^2}\n",
    "$$\n",
    "\n",
    "Os números críticos da função são então:\n",
    "$$\n",
    "A'(p_h) = 4\\mathrm{,}5 - \\frac{2062\\mathrm{,}5}{p_h^2} = 0\n",
    "$$\n",
    "\n",
    "$$\n",
    "\\frac{2062\\mathrm{,}5}{p_h^2} = 4\\mathrm{,}5 \\implies p_h^2 = \\frac{2062\\mathrm{,}5}{4\\mathrm{,}5} \\implies p_h \\approx \\pm 21\\mathrm{,}41\n",
    "$$\n",
    "\n",
    "Como $p_h$ representa uma dimensão, podemos descartar o valor negativo e, portanto, afirmar que $p_h \\approx 21\\mathrm{,}41$ é um número crítico da função $A(p_h)$. Para saber se o número crítico encontrado é um valor de máximo ou mínimo da função, podemos analisar o sinal de $A'(p_h)$.\n",
    "\n",
    "Quando $p_h < 21\\mathrm{,}41$, a fração $\\frac{2062\\mathrm{,}5}{p_h^2}$ se torna maior do que $4\\mathrm{,}5$, implicando em $A'(p_h)$ negativo. Por sua vez, quando $p_h > 21\\mathrm{,}41$ a mesma fração passa a ser um número menor do que $4\\mathrm{,}5$, implicando em $A'(p_h)$ positivo. Como o sinal de $A'$ varia de negativo para positivo no ponto, pelo _Teste da Primeira Derivada_ podemos afirmar que a função $A(p_h)$ possui um valor mínimo em $p_h \\approx 21\\mathrm{,}41$.\n",
    "\n",
    "Sabendo-se o valor de $p_h$ que minimiza o valor da área, podemos encontrar $p_w$ por (\\ref{eq:phpw-2}):\n",
    "$$\n",
    "p_w \\approx \\frac{375}{21\\mathrm{,}41} \\approx 17\\mathrm{,}52\n",
    "$$\n",
    "\n",
    "Finalmente podemos determinar as dimensão da folha que minimizam a área total do papel utilizando as equações (\\ref{eq:h}) e (\\ref{eq:w}):\n",
    "\\begin{align*}\n",
    "h = p_h + 5\\mathrm{,}5 & \\implies \\mathbf{h \\approx 26\\mathrm{,}91 cm}\\\\\n",
    "w = p_w + 4\\mathrm{,}5 & \\implies \\mathbf{w \\approx 22\\mathrm{,}02 cm}\n",
    "\\end{align*}\n",
    "\n",
    "Uma questão que fica: se optarmos por calcular a área mínima da folha de papel utilizando a função $A(p_w)$ em vez de $A(p_h)$, obtemos o mesmo resultado? Vamos conferir:\n",
    "\n",
    "$$\n",
    "A'(p_w) = 5\\mathrm{,}5 - \\frac{1687\\mathrm{,}5}{p_w^2}\n",
    "$$\n",
    "\n",
    "Fazendo $A'(p_w) = 0$ para encontrar os números críticos da função, chegamos em $p_w \\approx \\pm 17\\mathrm{,}52$. Seguindo o raciocínio análogo ao que fizemos anteriormente para $p_h$, vamos concluir que a função $A(p_w)$ possui um mínimo em $p_w \\approx 17\\mathrm{,}52$. Ou seja, o mesmo resultado que obtivemos anteriormente.\n",
    "\n",
    "Podemos visualizar graficamente a função da área total da folha, com destaque para os pontos mínimos encontrados para a altura ($h$) e largura ($w$)."
   ]
  },
  {
   "cell_type": "code",
   "execution_count": 2,
   "id": "9eb2df4e-3a57-4b73-9852-5a82c9c0be30",
   "metadata": {},
   "outputs": [
    {
     "data": {
      "image/png": "[encoded data removed]",
      "text/plain": [
       "<Figure size 1440x720 with 1 Axes>"
      ]
     },
     "metadata": {
      "needs_background": "light"
     },
     "output_type": "display_data"
    }
   ],
   "source": [
    "import numpy as np\n",
    "import pandas as pd\n",
    "import matplotlib.pyplot as plt\n",
    "import seaborn as sns\n",
    "\n",
    "plt.figure(figsize=(20,10))\n",
    "\n",
    "# Altura da área impressa (p_h) em função da altura (h)\n",
    "def p_h(h):\n",
    "    return h - 5.5\n",
    "\n",
    "# Largura da área impressa (p_w) em função da largura (w)\n",
    "def p_w(w):\n",
    "    return w - 4.5\n",
    "\n",
    "# Área da folha (A_h) em função de sua altura (h)\n",
    "def A_h(h):\n",
    "    return 4.5*p_h(h) + 2062.5/p_h(h) + 399.75\n",
    "\n",
    "# Área da folha (A_w) em função de sua largura (w)\n",
    "def A_w(w):\n",
    "    return 5.5*p_w(w) + 1687.5/p_w(w) + 399.75\n",
    "\n",
    "# Intervalo de dimensões para plot do gráfico\n",
    "x = np.arange(10, 100, 0.01)\n",
    "\n",
    "# Pontos da função de área em relação a h e w\n",
    "lines = pd.DataFrame({\n",
    "    'Dimensão': x,\n",
    "    'Altura (h)': [A_h(h) for h in x],\n",
    "    'Largura (w)': [A_w(w) for w in x]\n",
    "})\n",
    "\n",
    "sns.lineplot(x='Dimensão', y='value', hue='variable', data=pd.melt(lines, ['Dimensão']))\n",
    "\n",
    "# Pontos de mínimo da função\n",
    "h_min = 26.91\n",
    "w_min = 22.02\n",
    "\n",
    "sns.scatterplot(\n",
    "    x=[h_min, w_min],\n",
    "    y=[A_h(h_min),\n",
    "    A_w(w_min)],\n",
    "    color='red'\n",
    ")\n",
    "plt.text(x=w_min-3, y=A_w(w_min)-10, s=f'w = {w_min}cm')\n",
    "plt.text(x=h_min, y=A_h(h_min)-10, s=f'h = {h_min}cm')\n",
    "plt.text(x=h_min+10, y=A_h(h_min)-10, s=f'Pontos de mínimo da função (A = {A_h(h_min):.2f} cm²)')\n",
    "\n",
    "plt.title('Área total da folha (A) em função da altura (h) e largura (w)', fontsize=14)\n",
    "plt.ylabel('Área total da folha (cm²)')\n",
    "plt.xlabel('Dimensões (cm)')\n",
    "plt.show()"
   ]
  },
  {
   "cell_type": "markdown",
   "id": "ac1eb75b-15d7-44b1-a99e-42c5cc900b9e",
   "metadata": {},
   "source": [
    "\\clearpage"
   ]
  },
  {
   "cell_type": "markdown",
   "id": "63d46b5d-b763-4d0a-9192-3bf620e3e67e",
   "metadata": {},
   "source": [
    "3. Exercícios do texto sobre probalibidade"
   ]
  },
  {
   "cell_type": "markdown",
   "id": "e03444fe-a01f-481f-8c68-52ffcfdccd46",
   "metadata": {},
   "source": [
    "#### Seção 1.4, Exercício 4\n",
    "\n",
    "(PUC-SP) Com  os  elementos  do  conjunto $A = \\{1,2,3,4,5,6\\}$ são  formados números  com  três  algarismos distintos. A quantidade de números formados, cuja soma dos algarismos é um número par, é:\n",
    "\n",
    "$a)30 \\quad b)36 \\quad c)52 \\quad d) 60 \\quad e) 72$"
   ]
  },
  {
   "cell_type": "markdown",
   "id": "c1670b4f-642d-43e6-a4fa-636fc12c3825",
   "metadata": {},
   "source": [
    "**Solução**\n",
    "\n",
    "A soma dos algarismos de um número de 3 algarismos será par quando exatamente $0$ ou $2$ algarismos deste número for ímpar.\n",
    "\n",
    "*i.* $0$ algarismos ímpares\n",
    "\n",
    "Neste caso, teremos números formados com os $3$ algarismos pares do conjunto. O número de possibilidades será então:\n",
    "\n",
    "$n_i = 3 \\times 2 \\times 1 = 6$\n",
    "\n",
    "*ii.* $2$ algarismos ímpares\n",
    "\n",
    "Neste caso, os números deverão conter exatamente $1$ algarismo par do conjunto. Este algarismo poderá estar em qualquer posição, portanto:\n",
    "\n",
    "- Par na $1^a$ posição: $3 \\text{ (pares)} \\times 3 \\text{ (ímpares)} \\times 2 \\text{ (ímpares)} = 18$ possibilidades\n",
    "\n",
    "- Par na $2^a$ posição: $3 \\text{ (ímpares)} \\times 3 \\text{ (pares)} \\times 2 \\text{ (ímpares)} = 18$ possibilidades\n",
    "\n",
    "- Par na $3^a$ posição: $3 \\text{ (ímpares)} \\times 2 \\text{ (ímpares)} \\times 3 \\text{ (pares)} = 18$ possibilidades\n",
    "\n",
    "Dessa forma, $n_{ii} = 18 + 18 + 18 = 54$\n",
    "\n",
    "Portanto, o total de números possíveis é de:\n",
    "$$\n",
    "n = n_i + n_{ii} = 6 + 54 = \\mathbf{60}\n",
    "$$\n",
    "\n",
    "**Resposta:** letra $d)60$"
   ]
  },
  {
   "cell_type": "code",
   "execution_count": 3,
   "id": "6661d232-5da9-4eee-a658-47f79919fbda",
   "metadata": {},
   "outputs": [
    {
     "name": "stdout",
     "output_type": "stream",
     "text": [
      "Total de números: 60\n",
      "Lista dos números: [123, 125, 132, 134, 136, 143, 145, 152, 154, 156, 163, 165, 213, 215, 231, 235, 246, 251, 253, 264, 312, 314, 316, 321, 325, 341, 345, 352, 354, 356, 361, 365, 413, 415, 426, 431, 435, 451, 453, 462, 512, 514, 516, 521, 523, 532, 534, 536, 541, 543, 561, 563, 613, 615, 624, 631, 635, 642, 651, 653]\n"
     ]
    }
   ],
   "source": [
    "###HIDE-TO-CONVERT\n",
    "soma_par = []\n",
    "for a in range(1,7):\n",
    "    for b in range(1,7):\n",
    "        for c in range(1,7):\n",
    "            if a != b and a != c and b != c and (a + b + c) % 2 == 0:\n",
    "                soma_par.append(a * 100 + b * 10 + c)\n",
    "\n",
    "print('Total de números:', len(soma_par))\n",
    "print('Lista dos números:', soma_par)"
   ]
  },
  {
   "cell_type": "markdown",
   "id": "3440f398-44e0-4be0-9c23-c0cd0e436fc2",
   "metadata": {},
   "source": [
    "\\clearpage"
   ]
  },
  {
   "cell_type": "markdown",
   "id": "f43cb069-56c7-4064-8bdc-d8b572ac2d04",
   "metadata": {},
   "source": [
    "#### Seção 1.4, Exercício 18\n",
    "\n",
    "(MACK-SP) O total de números, formados com os algarismos distintos, maiores que $50.000$ e menores que $90.000$ e que são divisíveis por $5$, é:\n",
    "\n",
    "$a)1.596 \\quad b)2.352 \\quad c)2.686 \\quad d)2.788 \\quad e)4.032$"
   ]
  },
  {
   "cell_type": "markdown",
   "id": "f1fa1718-8d9f-4fcb-8464-6308a6073a3c",
   "metadata": {},
   "source": [
    "**Solução**\n",
    "\n",
    "*i.* Quando o primeiro algarismo for 5 ($1$ escolha), resta apenas $1$ escolha (o dígito 0) para o último algarismo. Para os algarismos intermediários, temos $8 \\times 7 \\times 6 = 336$ escolhas\n",
    "\n",
    "*ii.* Quando o primeiro algarismo for 6, 7 ou 8 ($3$ escolhas), teremos $2$ escolhas para o útlimo algarismo (os dígitos 0 ou 5). Para os algarismos intermediários, temos novamente $336$ escolhas. Portanto, teremos $3 \\times 2 \\times 336 = 2.016$ escolhas\n",
    "\n",
    "Portanto, o total de números formados será de:\n",
    "$$\n",
    "n = 336 + 2.016 = \\mathbf{2.352}\n",
    "$$\n",
    "\n",
    "**Resposta:** letra $b) 2.352$"
   ]
  },
  {
   "cell_type": "code",
   "execution_count": 4,
   "id": "def895d6-05ad-4c54-981e-e14489f6edf9",
   "metadata": {},
   "outputs": [
    {
     "name": "stdout",
     "output_type": "stream",
     "text": [
      "Total de números: 2352\n"
     ]
    }
   ],
   "source": [
    "###HIDE-TO-CONVERT\n",
    "total = 0;\n",
    "for n in range(50001, 90000):\n",
    "    digitos = [int(d) for d in str(n)]\n",
    "    if len(set(digitos)) == len(digitos) and n % 5 == 0:\n",
    "        total += 1\n",
    "        \n",
    "print('Total de números:', total)"
   ]
  },
  {
   "cell_type": "markdown",
   "id": "e6c19a52-8935-4a13-9b05-b4e2abdda316",
   "metadata": {},
   "source": [
    "\\clearpage"
   ]
  },
  {
   "cell_type": "markdown",
   "id": "8dcb41ac-7e22-4d3c-ada4-71a34b6f6556",
   "metadata": {},
   "source": [
    "#### Seção 1.8, Exercício 2\n",
    "\n",
    "(UNIFOR-CE) Um casal e seus quatro filhos vão ser colocados lado a lado, para tirar uma foto. Se todos os filhos devem ficar entre os pais, de quantos modos distintos os seis podem posar para tirar a foto?\n",
    "\n",
    "$a)21 \\quad b)48 \\quad c)96 \\quad d)120 \\quad e)720$"
   ]
  },
  {
   "cell_type": "markdown",
   "id": "3749740d-38c2-4feb-920e-993b127aabb9",
   "metadata": {},
   "source": [
    "**Solução**\n",
    "\n",
    "Os pais, cada um em uma das pontas da fila, podem ocupar duas posições diferentes. Os quatro filhos podem ser ordenados de $4 \\times 3 \\times 2 \\times 1 = 24$ formas diferentes.\n",
    "\n",
    "Portanto, as seis pessoas podem ser ordenadas de $2 \\times 24 = \\mathbf{48}$ formas distintas\n",
    "\n",
    "**Resposta:** letra $b)48$"
   ]
  },
  {
   "cell_type": "markdown",
   "id": "6144b4ad-f87e-4223-9e80-28b048d620fa",
   "metadata": {},
   "source": [
    "\\clearpage"
   ]
  },
  {
   "cell_type": "markdown",
   "id": "420a4b79-d90e-4ac5-8012-6c523a9db495",
   "metadata": {},
   "source": [
    "#### Seção 1.8, Exercício 9\n",
    "\n",
    "(UFOP-MG) Podemos ordenar as pessoas que estão numa certa fila de $24$ maneiras diferentes. Então, nessa fila estão quantas pessoas?\n",
    "\n",
    "$a)4 \\quad b)5 \\quad c)6 \\quad d)12 \\quad e)24$"
   ]
  },
  {
   "cell_type": "markdown",
   "id": "b0e144bc-3584-4cf9-a8d9-69d964c7199c",
   "metadata": {},
   "source": [
    "**Solução**\n",
    "\n",
    "Sabendo-se que o número de permutações de $n$ elemento é dado por $n!$, devemos encontrar o número $n$ tal que $n! = 24$. Ou seja, $n = \\mathbf{4}$\n",
    "\n",
    "**Resposta:** letra $a)4$"
   ]
  },
  {
   "cell_type": "markdown",
   "id": "3971fe7f-67ef-43ae-826e-9c4735bd88be",
   "metadata": {},
   "source": [
    "\\clearpage"
   ]
  },
  {
   "cell_type": "markdown",
   "id": "1d77c213-3956-48a2-bbfe-2d3a4eaa2032",
   "metadata": {},
   "source": [
    "#### Seção 1.11, Exercício 4\n",
    "\n",
    "(USP) Uma comissão de cinco alunos deve ser formada para discutir e planejar o desenvolvimento das partes esportiva de sua escola. Sabendo-se que estes cinco alunos devem ser escolhidos de um grupo de 10 alunos, então o número possível de escolha é:\n",
    "\n",
    "$a)360 \\quad b)180 \\quad c)21.600 \\quad d)252 \\quad e)210$"
   ]
  },
  {
   "cell_type": "markdown",
   "id": "883e4667-e21f-48fa-abb1-401728d8ade2",
   "metadata": {},
   "source": [
    "**Solução**\n",
    "\n",
    "Precisamos calcular o número de combinações de $5$ alunos que podem ser formadas a partir de um grupo de $10$ alunos:\n",
    "$$\n",
    "C_{10,5} = \\frac{10!}{(10-5)!5!} = \\frac{10.9.8.7.6.5!}{5.4.3.2.1.5!} = \\mathbf{252}\n",
    "$$\n",
    "\n",
    "**Resposta:** letra $d)252$"
   ]
  },
  {
   "cell_type": "markdown",
   "id": "f3d78650-9e9f-4be3-ae6a-089f821b3482",
   "metadata": {},
   "source": [
    "\\clearpage"
   ]
  },
  {
   "cell_type": "markdown",
   "id": "713ce873-8fc0-443f-ba2d-777e1458975d",
   "metadata": {},
   "source": [
    "#### Seção 1.11, Exercício 18\n",
    "\n",
    "(UFF-RJ) Uma empresa vai fabricar cofres com senhas de 4 letras, usando 18 consoantes e 5 vogais. Se cada senha deve começar com uma consoante e terminar com uma vogal, sem repetir letras, o número de senhas possíveis é:\n",
    "\n",
    "$a)3.060 \\quad b)24.480 \\quad c)37.800 \\quad d)51.210 \\quad e)53.440$"
   ]
  },
  {
   "cell_type": "markdown",
   "id": "653c13cc-e790-4ee7-9cbe-910ce5fe7f1b",
   "metadata": {},
   "source": [
    "**Solução**\n",
    "\n",
    "Como a primeira letra da senha deve ser uma consoante, então para ela existem $18$ escolhas possíveis. Para a última letra, que deve ser vogal, existem $5$ escolhas. Definidas as letras de início e fim, para as duas letras intermediárias restam $21 \\times 20$ escolhas. Portanto o número de senhas possíveis será de:\n",
    "$$\n",
    "n = 18 \\times 5 \\times 21 \\times 20 =  37800\n",
    "$$\n",
    "\n",
    "**Resposta:** letra $c)37.800$"
   ]
  },
  {
   "cell_type": "markdown",
   "id": "16837089-0117-459f-b746-2d8ea7ac5dc1",
   "metadata": {},
   "source": [
    "\\clearpage"
   ]
  },
  {
   "cell_type": "markdown",
   "id": "66c9b589-5526-4cbe-afba-74d386734152",
   "metadata": {},
   "source": [
    "#### Seção 2.5, Exercício 1\n",
    "\n",
    "No lançamento de um dado perfeito, qual é a probabilidade de que o resultado seja:\n",
    "\n",
    "Espaço Amostral: $\\Omega = \\{1,2,3,4,5,6\\} \\implies n(\\Omega) = 6$\n",
    "\n",
    "---\n",
    "\n",
    "a) Um número par?\n",
    "\n",
    "Evento $A = \\{2,4,6\\} \\implies n(A) = 3$\n",
    "$$\n",
    "P(A) = \\frac{n(A)}{n(\\Omega)} = \\frac{3}{6} = \\frac{1}{2} = 0\\mathrm{,}5 = 50\\%\n",
    "$$\n",
    "\n",
    "---\n",
    "\n",
    "b) Um número primo?\n",
    "\n",
    "Evento $B = \\{2,3,5\\} \\implies n(B) = 3$\n",
    "$$\n",
    "P(B) = \\frac{n(B)}{n(\\Omega)} = \\frac{3}{6} = \\frac{1}{2} = 0\\mathrm{,}5 = 50\\%\n",
    "$$\n",
    "\n",
    "---\n",
    "\n",
    "c) O número 3?\n",
    "\n",
    "Evento $C = \\{3\\} \\implies n(C) = 1$\n",
    "$$\n",
    "P(C) = \\frac{n(C)}{n(\\Omega)} = \\frac{1}{6} \\approx 0\\mathrm{,}167 \\approx 16\\mathrm{,}7\\%\n",
    "$$\n",
    "\n",
    "---\n",
    "\n",
    "d) Um número menor do que 3?\n",
    "\n",
    "Evento $D = \\{1,2\\} \\implies n(D) = 2$\n",
    "$$\n",
    "P(D) = \\frac{n(D)}{n(\\Omega)} = \\frac{2}{6} = \\frac{1}{3} \\approx 0\\mathrm{,}333 \\approx 33\\mathrm{,}3\\%\n",
    "$$\n",
    "\n",
    "---\n",
    "\n",
    "e) Um número menor do que 1?\n",
    "\n",
    "Evento $E = \\{\\} \\implies n(E) = 0$\n",
    "$$\n",
    "P(E) = \\frac{n(E)}{n(\\Omega)} = \\frac{0}{6} = 0 = 0\\%\n",
    "$$\n",
    "\n",
    "---\n",
    "\n",
    "f) Um número menor do que 7?\n",
    "\n",
    "Evento $F = \\{1,2,3,4,5,6\\} \\implies n(F) = 6$\n",
    "$$\n",
    "P(F) = \\frac{n(F)}{n(\\Omega)} = \\frac{6}{6} = 1 = 100\\%\n",
    "$$"
   ]
  },
  {
   "cell_type": "markdown",
   "id": "289fe7bb-e46b-4963-947e-29d2f9c163a2",
   "metadata": {},
   "source": [
    "\\clearpage"
   ]
  },
  {
   "cell_type": "markdown",
   "id": "dded081c-b5e9-4f2a-ae44-da2ec903e7b4",
   "metadata": {},
   "source": [
    "#### Seção 2.5, Exercício 9\n",
    "\n",
    "Numa equipe foram entrevistadas 80 pessoas sobre os meios de transporte que utilizavam para ir ao trabalhoe/ou à escola. Quarenta e duas responderam ônibus, 28 responderam carro e 30 responderam moto. Doze utilizavam-se de ônibus e carro, 14 de carro e moto e 18 de ônibus e moto. Cinco utilizavam-se dos três: carro, ônibus e moto. Qual é a probabilidade de que uma dessas pessoas, selecionada ao acaso, utilize:"
   ]
  },
  {
   "cell_type": "code",
   "execution_count": 5,
   "id": "585fba62-2fb5-41c2-8446-ffc2419cfc8b",
   "metadata": {},
   "outputs": [
    {
     "name": "stdout",
     "output_type": "stream",
     "text": [
      "Requirement already satisfied: matplotlib_venn in /opt/conda/lib/python3.8/site-packages (0.11.6)\n",
      "Requirement already satisfied: numpy in /opt/conda/lib/python3.8/site-packages (from matplotlib_venn) (1.20.2)\n",
      "Requirement already satisfied: matplotlib in /opt/conda/lib/python3.8/site-packages (from matplotlib_venn) (3.4.1)\n",
      "Requirement already satisfied: scipy in /opt/conda/lib/python3.8/site-packages (from matplotlib_venn) (1.6.2)\n",
      "Requirement already satisfied: pyparsing>=2.2.1 in /opt/conda/lib/python3.8/site-packages (from matplotlib->matplotlib_venn) (2.4.7)\n",
      "Requirement already satisfied: kiwisolver>=1.0.1 in /opt/conda/lib/python3.8/site-packages (from matplotlib->matplotlib_venn) (1.3.1)\n",
      "Requirement already satisfied: python-dateutil>=2.7 in /opt/conda/lib/python3.8/site-packages (from matplotlib->matplotlib_venn) (2.8.1)\n",
      "Requirement already satisfied: pillow>=6.2.0 in /opt/conda/lib/python3.8/site-packages (from matplotlib->matplotlib_venn) (8.1.2)\n",
      "Requirement already satisfied: cycler>=0.10 in /opt/conda/lib/python3.8/site-packages (from matplotlib->matplotlib_venn) (0.10.0)\n",
      "Requirement already satisfied: six in /opt/conda/lib/python3.8/site-packages (from cycler>=0.10->matplotlib->matplotlib_venn) (1.15.0)\n"
     ]
    }
   ],
   "source": [
    "###HIDE-TO-CONVERT\n",
    "!pip install matplotlib_venn"
   ]
  },
  {
   "cell_type": "code",
   "execution_count": 6,
   "id": "4130ea73-eeb4-4459-96e2-f29fcb72a4b1",
   "metadata": {},
   "outputs": [
    {
     "data": {
      "image/png": "[encoded data removed]",
      "text/plain": [
       "<Figure size 432x288 with 1 Axes>"
      ]
     },
     "metadata": {},
     "output_type": "display_data"
    }
   ],
   "source": [
    "import matplotlib.pyplot as plt\n",
    "from matplotlib_venn import venn3\n",
    "\n",
    "subsets = (7, 17, 7, 3, 9, 13, 5)\n",
    "\n",
    "venn3(subsets=subsets, set_labels=('Carro', 'Ônibus', 'Moto'))\n",
    "\n",
    "plt.text(x=0.3, y=-0.6, s=f'Nenhum = {80-sum(subsets)}')\n",
    "\n",
    "plt.gca().set_axis_on()\n",
    "plt.show()"
   ]
  },
  {
   "cell_type": "markdown",
   "id": "e8c39a27-8d93-46e6-86f3-6514fc05946b",
   "metadata": {},
   "source": [
    "Espaço Amostral: $n(\\Omega) = 80$\n",
    "\n",
    "---\n",
    "\n",
    "a) Somente ônibus?\n",
    "\n",
    "$$\n",
    "n(A) = 17 \\implies P(A) = \\frac{n(A)}{n(\\Omega)} = \\frac{17}{80} = 0\\mathrm{,}2125 = 21\\mathrm{,}25\\%\n",
    "$$\n",
    "\n",
    "---\n",
    "\n",
    "b) Somente carro?\n",
    "\n",
    "$$\n",
    "n(B) = 7 \\implies P(B) = \\frac{n(B)}{n(\\Omega)} = \\frac{7}{80} = 0\\mathrm{,}0875 = 8\\mathrm{,}75\\%\n",
    "$$\n",
    "\n",
    "---\n",
    "\n",
    "c) Carro e ônibus, mas não moto?\n",
    "\n",
    "$$\n",
    "n(C) = 7 \\implies P(C) = \\frac{n(C)}{n(\\Omega)} = \\frac{7}{80} = 0\\mathrm{,}0875 = 8\\mathrm{,}75\\%\n",
    "$$\n",
    "\n",
    "---\n",
    "\n",
    "d) Nenhum dos três veículos?\n",
    "\n",
    "$$\n",
    "n(D) = 19 \\implies P(D) = \\frac{n(D)}{n(\\Omega)} = \\frac{19}{80} = 0\\mathrm{,}2375 = 23\\mathrm{,}75\\%\n",
    "$$\n",
    "\n",
    "---\n",
    "\n",
    "e) Apenas um desses veículos?\n",
    "\n",
    "$$\n",
    "n(E) = 7 + 17 + 3 = 27 \\implies P(E) = \\frac{n(E)}{n(\\Omega)} = \\frac{27}{80} = 0\\mathrm{,}3375 = 33\\mathrm{,}75\\%\n",
    "$$"
   ]
  },
  {
   "cell_type": "markdown",
   "id": "28728ba9-8413-45b1-b674-c06d4066f3e7",
   "metadata": {},
   "source": [
    "\\clearpage"
   ]
  },
  {
   "cell_type": "markdown",
   "id": "83bb2858-b664-4749-bcd2-9c806260a87b",
   "metadata": {},
   "source": [
    "#### Seção 2.8, Exercício 5\n",
    "\n",
    "Uma moeda é lançada três vezes. Determine a probabilidade de se obter:\n",
    "\n",
    "Espaço Amostral: $\\Omega = \\{ CCC, CCK, CKC, CKK, KCC, KCK, KKC, KKK \\} \\implies n(\\Omega) = 8$\n",
    "\n",
    "---\n",
    "\n",
    "a) 3 caras.\n",
    "\n",
    "Evento $A = \\{ CCC \\} \\implies n(A) = 1$\n",
    "\n",
    "$\\displaystyle P(A) = \\frac{n(A)}{n(\\Omega)} = \\frac{1}{8} = 0\\mathrm{,}125 = 12\\mathrm{,}5\\%$\n",
    "\n",
    "---\n",
    "\n",
    "b) 3 caras, dado que a primeira foi cara.\n",
    "\n",
    "Evento $A$: obter 3 caras $\\implies A = \\{ CCC \\}$\n",
    "\n",
    "Evento $B$: a primeira foi cara $\\implies B = \\{ CCC, CCK, CKC, CKK \\} \\implies P(B) = \\frac{n(B)}{n(\\Omega)} = \\frac{4}{8} = \\frac{1}{2}$\n",
    "\n",
    "$A \\cap B = \\{ CCC \\} \\implies P(A \\cap B) = \\frac{n(A \\cap B)}{n(\\Omega)} = \\frac{1}{8}$\n",
    "\n",
    "$\\displaystyle P(A/B) = \\frac{P(A \\cap B)}{P(B)} = \\frac{\\frac{1}{8}}{\\frac{1}{2}} = \\frac{1}{4} = 0\\mathrm{,}25 = 25\\%$\n",
    "\n",
    "---\n",
    "\n",
    "c) exatamente 2 caras.\n",
    "\n",
    "Evento $C = \\{ CCK, CKC, KCC \\} \\implies n(C) = 3$\n",
    "\n",
    "$\\displaystyle P(C) = \\frac{n(C)}{n(\\Omega)} = \\frac{3}{8} = 0\\mathrm{,}375 = 37\\mathrm{,}5\\%$\n",
    "\n",
    "---\n",
    "\n",
    "d) 2 caras, dado que a primeira foi coroa.\n",
    "\n",
    "Evento $A$: obter 2 caras $\\implies A = \\{ CCK, CKC, KCC \\}$\n",
    "\n",
    "Evento $B$: a primeira foi coroa $\\implies B = \\{ KCC, KCK, KKC, KKK \\} \\implies P(B) = \\frac{n(B)}{n(\\Omega)} = \\frac{4}{8} = \\frac{1}{2}$\n",
    "\n",
    "$A \\cap B = \\{ KCC \\} \\implies P(A \\cap B) = \\frac{n(A \\cap B)}{n(\\Omega)} = \\frac{1}{8}$\n",
    "\n",
    "$\\displaystyle P(A/B) = \\frac{P(A \\cap B)}{P(B)} = \\frac{\\frac{1}{8}}{\\frac{1}{2}} = \\frac{1}{4} = 0\\mathrm{,}25 = 25\\%$\n",
    "\n",
    "---\n",
    "\n",
    "e) cara no $2^o$ lançamento, dado que 2 coroas e 1 cara foram obtidas.\n",
    "\n",
    "Evento $A$: obter cara no $2^o$ lançamento $\\implies A = \\{ CCC, CCK, KCC, KCK \\}$\n",
    "\n",
    "Evento $B$: 2 coroas e 1 cara foram obtidas $\\implies B = \\{ CKK, KCK, KKC \\} \\implies P(B) = \\frac{n(B)}{n(\\Omega)} = \\frac{3}{8}$\n",
    "\n",
    "$A \\cap B = \\{ KCK \\} \\implies P(A \\cap B) = \\frac{n(A \\cap B)}{n(\\Omega)} = \\frac{1}{8}$\n",
    "\n",
    "$\\displaystyle P(A/B) = \\frac{P(A \\cap B)}{P(B)} = \\frac{\\frac{1}{8}}{\\frac{3}{8}} = \\frac{1}{3} = 0\\mathrm{,}333 = 33\\mathrm{,}3\\%$\n",
    "\n",
    "---\n",
    "\n",
    "f) cara no $2^o$ lançamento, dado que 3 caras foram obtidas.\n",
    "\n",
    "Evento $A$: obter cara no $2^o$ lançamento $\\implies A = \\{ CCC, CCK, KCC, KCK \\}$\n",
    "\n",
    "Evento $B$: 3 caras foram obtidas $\\implies B = \\{ CCC \\} \\implies P(B) = \\frac{n(B)}{n(\\Omega)} = \\frac{1}{8}$\n",
    "\n",
    "$A \\cap B = \\{ CCC \\} \\implies P(A \\cap B) = \\frac{n(A \\cap B)}{n(\\Omega)} = \\frac{1}{8}$\n",
    "\n",
    "$\\displaystyle P(A/B) = \\frac{P(A \\cap B)}{P(B)} = \\frac{\\frac{1}{8}}{\\frac{1}{8}} = 1 = 100\\%$\n",
    "\n",
    "---\n",
    "\n",
    "g) cara no $2^o$ lançamento, dado que pelo menos 1 cara foi obtida.\n",
    "\n",
    "Evento $A$: obter cara no $2^o$ lançamento $\\implies A = \\{ CCC, CCK, KCC, KCK \\}$\n",
    "\n",
    "Evento $B$: Pelo menos 1 cara foi obtida\n",
    "\n",
    "$\\implies B = \\{ CCC, CCK, CKC, CKK, KCC, KCK, KKC \\} \\implies P(B) = \\frac{n(B)}{n(\\Omega)} = \\frac{7}{8}$\n",
    "\n",
    "$A \\cap B = \\{ CCC, CCK, KCC, KCK \\} \\implies P(A \\cap B) = \\frac{n(A \\cap B)}{n(\\Omega)} = \\frac{4}{8}$\n",
    "\n",
    "$\\displaystyle P(A/B) = \\frac{P(A \\cap B)}{P(B)} = \\frac{\\frac{4}{8}}{\\frac{7}{8}} = \\frac{4}{7} \\approx 0\\mathrm{,}571 \\approx 57\\mathrm{,}1\\%$"
   ]
  },
  {
   "cell_type": "markdown",
   "id": "bf0eeb8c-c880-4ec0-a8a1-895651d95d90",
   "metadata": {},
   "source": [
    "\\clearpage"
   ]
  },
  {
   "cell_type": "markdown",
   "id": "f6a67be2-4e11-4c7f-ba71-261481fe0601",
   "metadata": {},
   "source": [
    "#### Seção 2.8, Exercício 6\n",
    "\n",
    "Para ter acesso às informações de sua conta bancária, um usuário utiliza um terminal de computador, no qual ele deverá digitar seu código secreto, formado por quatro dígitos, numa determinada ordem. O usuário não se lembra exatamente do código secreto, mas lembra que o código não tem dígitos repetidos, os dígitos estão em ordem crescente e o número formado pelos dígitos é maior que 4000."
   ]
  },
  {
   "cell_type": "code",
   "execution_count": 7,
   "id": "75162468-f0b3-42a9-b7e8-9856c31fecbb",
   "metadata": {},
   "outputs": [
    {
     "name": "stdout",
     "output_type": "stream",
     "text": [
      "Código possíveis: [4567, 4568, 4569, 4578, 4579, 4589, 4678, 4679, 4689, 4789, 5678, 5679, 5689, 5789, 6789]\n",
      "Total de códigos possíveis: 15\n"
     ]
    }
   ],
   "source": [
    "codigos_possiveis = [];\n",
    "for codigo in range(4001, 10000):\n",
    "    digitos = [int(d) for d in str(codigo)]\n",
    "    if digitos[0] < digitos[1] and digitos[1] < digitos[2] and digitos[2] < digitos[3]:\n",
    "        codigos_possiveis.append(codigo)\n",
    "        \n",
    "print('Código possíveis:', codigos_possiveis)\n",
    "print('Total de códigos possíveis:', len(codigos_possiveis))"
   ]
  },
  {
   "cell_type": "markdown",
   "id": "c75228d9-2f8a-4e01-b35a-667ef9f06ba4",
   "metadata": {},
   "source": [
    "Espaço Amostral: $\\Omega = \\{ 4567, 4568, 4569, 4578, 4579, 4589, 4678, 4679, 4689, 4789, 5678, 5679, 5689, 5789, 6789 \\}$\n",
    "\n",
    "$n(\\Omega) = 15$"
   ]
  },
  {
   "cell_type": "markdown",
   "id": "e7a10656-984c-47ae-83a0-7995aadf04ae",
   "metadata": {},
   "source": [
    "---\n",
    "\n",
    "a) Qual é a probabilidade de ele digitar o código corretamente na $1^a$ tentativa?\n",
    "\n",
    "Evento $A$: digitar o código correto na $1^a$ tentativa $\\implies n(A) = 1$\n",
    "\n",
    "$$\n",
    "P(A) = \\frac{n(A)}{n(\\Omega)} = \\frac{1}{15} \\approx 0\\mathrm{,}0667 \\approx 6\\mathrm{,}67\\%\n",
    "$$\n",
    "\n",
    "---\n",
    "\n",
    "b) Tendo errado em duas tentativas, qual é a probabilidade de ele acertar o código na terceira tentativa?\n",
    "\n",
    "Considerando que o usuário não irá repetir os códigos das tentativas anteriores, o número de códigos possíveis passa a ser de $13$. Portanto, $n(\\Omega) = 13$\n",
    "\n",
    "$$\n",
    "P(B) = \\frac{n(B)}{n(\\Omega)} = \\frac{1}{13} \\approx 0\\mathrm{,}0769 \\approx 7\\mathrm{,}69\\%\n",
    "$$"
   ]
  },
  {
   "cell_type": "markdown",
   "id": "394dd8b9-4a51-41b4-9330-44810e153f4a",
   "metadata": {},
   "source": [
    "\\clearpage"
   ]
  },
  {
   "cell_type": "markdown",
   "id": "67b631d0-dcf2-41eb-9421-aad4bd8550de",
   "metadata": {},
   "source": [
    "#### Seção 2.9, Exercício 2\n",
    "\n",
    "Uma caixa contém exatamente 7 parafusos: 4 de aço e 3 de ferro. Retira-se ao caso um parafuso da caixa, registra-se o metal de que é feito, e repõe-se o parafuso na caixa. A seguir retira-se, novamente ao acaso, outro parafuso da caixa registrando o metal que o compõe. Calcular a probabilidade de:\n",
    "\n",
    "a) Sair o primeiro parafuso de aço e o segundo de ferro.\n",
    "\n",
    "Como é feita a reposição do parafuso antes da próxima retirada, temos que:\n",
    "\n",
    "$$\n",
    "P = \\frac{n(\\text{aço})}{n(\\Omega)} \\times \\frac{n(\\text{ferro})}{n(\\Omega)} = \\frac{4}{7} \\times \\frac{3}{7} = \\frac{12}{49} \\approx 0\\mathrm{,}2449 \\approx 24\\mathrm{,}49\\%\n",
    "$$\n",
    "\n",
    "---\n",
    "\n",
    "b) Saírem 2 parafusos de metais diferentes.\n",
    "\n",
    "Neste caso, temos duas sequências possíveis:\n",
    "\n",
    "Primeiro de aço e segundo de ferro: $\\displaystyle P_1 = \\frac{n(\\text{aço})}{n(\\Omega)} \\times \\frac{n(\\text{ferro})}{n(\\Omega)} = \\frac{4}{7} \\times \\frac{3}{7} = \\frac{12}{49}$\n",
    "\n",
    "Primeiro de ferro e segundo de aço: $\\displaystyle P_2 = \\frac{n(\\text{ferro})}{n(\\Omega)} \\times \\frac{n(\\text{aço})}{n(\\Omega)} = \\frac{3}{7} \\times \\frac{4}{7} = \\frac{12}{49}$\n",
    "\n",
    "Portanto,\n",
    "$$\n",
    "P = P_1 + P_2 = \\frac{12}{49} + \\frac{12}{49} = \\frac{24}{49} \\approx 0\\mathrm{,}4898 \\approx 48\\mathrm{,}98\\%\n",
    "$$"
   ]
  },
  {
   "cell_type": "markdown",
   "id": "ff210356-e659-404e-83a4-e5d9a5ac70fc",
   "metadata": {},
   "source": [
    "\\clearpage"
   ]
  },
  {
   "cell_type": "markdown",
   "id": "3a34d607-7198-4e33-bb45-6d3478f21a06",
   "metadata": {},
   "source": [
    "#### Seção 2.9, Exercício 4\n",
    "\n",
    "Uma caixa de joias contém exatamente 5 pérolas falsas e 6 pérolas verdadeiras. Retirando simultaneamente 4 pérolas dessa urna, calcule a probabilidade de obter:\n",
    "\n",
    "a) 3 verdadeiras e 1 falsa.\n",
    "\n",
    "$$\n",
    "P(A) = \\frac{n(A)}{n(\\Omega)} = \\frac{C_{6,3}.C_{5,1}}{C_{11,4}} = \\frac{\\frac{6.5.4.3!}{3.2.1.3!} . \\frac{5.4!}{4!}}{\\frac{11.10.9.8.7!}{4.3.2.1.7!}} = \\frac{20.5}{330} = \\frac{10}{33} \\approx 0\\mathrm{,}303 \\approx 30\\mathrm{,}3\\%\n",
    "$$\n",
    "\n",
    "---\n",
    "\n",
    "b) todas verdadeiras.\n",
    "\n",
    "$$\n",
    "P(B) = \\frac{n(B)}{n(\\Omega)} = \\frac{C_{6,4}}{C_{11,4}} = \\frac{15}{330} = \\frac{1}{22} \\approx 0\\mathrm{,}045 \\approx 4\\mathrm{,}5\\%\n",
    "$$\n",
    "\n",
    "---\n",
    "\n",
    "c) pelo menos uma falsa.\n",
    "\n",
    "\"Pelo menos uma falsa\" é o evento complementar de \"Todas Verdadeiras\". Portanto,\n",
    "\n",
    "$$\n",
    "P(C) = 1 - P(B) = 1 - \\frac{1}{22} = \\frac{21}{22} \\approx 0\\mathrm{,}955 \\approx 95\\mathrm{,}5\\%\n",
    "$$"
   ]
  },
  {
   "cell_type": "code",
   "execution_count": 8,
   "id": "b49183f5-15c4-46bb-84cc-c6be76b57ff2",
   "metadata": {},
   "outputs": [
    {
     "name": "stdout",
     "output_type": "stream",
     "text": [
      "[NbConvertApp] Converting notebook 20210504-D1MAT-lista02-resolucao.ipynb to pdf\n",
      "[NbConvertApp] Support files will be in 20210504-D1MAT-lista02-resolucao_files/\n",
      "[NbConvertApp] Making directory ./20210504-D1MAT-lista02-resolucao_files\n",
      "[NbConvertApp] Making directory ./20210504-D1MAT-lista02-resolucao_files\n",
      "[NbConvertApp] Making directory ./20210504-D1MAT-lista02-resolucao_files\n",
      "[NbConvertApp] Writing 56229 bytes to notebook.tex\n",
      "[NbConvertApp] Building PDF\n",
      "[NbConvertApp] Running xelatex 3 times: ['xelatex', 'notebook.tex', '-quiet']\n",
      "[NbConvertApp] Running bibtex 1 time: ['bibtex', 'notebook']\n",
      "[NbConvertApp] WARNING | bibtex had problems, most likely because there were no citations\n",
      "[NbConvertApp] PDF successfully created\n",
      "[NbConvertApp] Writing 168085 bytes to 20210504-D1MAT-lista02-resolucao.pdf\n"
     ]
    }
   ],
   "source": [
    "###HIDE-TO-CONVERT\n",
    "!jupyter nbconvert --to pdf --RegexRemovePreprocessor.patterns \"^###HIDE-TO-CONVERT\" 20210504-D1MAT-lista02-resolucao.ipynb"
   ]
  }
 ],
 "metadata": {
  "authors": [
   {
    "name": "Diego Machado de Assis"
   }
  ],
  "kernelspec": {
   "display_name": "Python 3",
   "language": "python",
   "name": "python3"
  },
  "language_info": {
   "codemirror_mode": {
    "name": "ipython",
    "version": 3
   },
   "file_extension": ".py",
   "mimetype": "text/x-python",
   "name": "python",
   "nbconvert_exporter": "python",
   "pygments_lexer": "ipython3",
   "version": "3.8.8"
  },
  "title": "D1MAT - Lista de Exercícios 02: Derivadas e Probabilidade"
 },
 "nbformat": 4,
 "nbformat_minor": 5
}
