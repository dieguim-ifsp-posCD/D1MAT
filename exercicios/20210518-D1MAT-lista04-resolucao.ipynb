{
 "cells": [
  {
   "cell_type": "markdown",
   "id": "c4aa30d2-b8e7-4feb-9166-088c46897ad5",
   "metadata": {},
   "source": [
    "1. Dados os vetores $\\vec{u} = (3, -1)$ e $\\vec{v} = (-1, 2)$, determinar o vetor $\\vec{w}$ tal que $4(\\vec{u} - \\vec{v}) + \\frac{1}{3}\\vec{w} = 2\\vec{u} - \\vec{w}$."
   ]
  },
  {
   "cell_type": "markdown",
   "id": "f8072314-bb71-4266-b3bb-127f02d374df",
   "metadata": {},
   "source": [
    "Utilizando as *propriedades de vetores*, podemos reescrever a equação da seguinte forma:\n",
    "\n",
    "\\begin{align*}\n",
    "4(\\vec{u} - \\vec{v}) + \\frac{1}{3}\\vec{w} &= 2\\vec{u} - \\vec{w}\\\\\n",
    "4\\vec{u} - 4\\vec{v} + \\frac{1}{3}\\vec{w} &= 2\\vec{u} - \\vec{w}\\\\\n",
    "\\frac{1}{3}\\vec{w} + \\vec{w} &= 2\\vec{u} - 4\\vec{u} + 4\\vec{v}\\\\\n",
    "\\frac{4}{3}\\vec{w} &= -2\\vec{u} + 4\\vec{v}\\\\\n",
    "\\vec{w} &= \\frac{3}{4} \\left( -2\\vec{u} + 4\\vec{v} \\right)\\\\\n",
    "\\vec{w} &= -\\frac{3}{2}\\vec{u} + 3\\vec{v}\n",
    "\\end{align*}\n",
    "\n",
    "Sendo:\n",
    "\\begin{align*}\n",
    "-\\frac{3}{2}\\vec{u} &= -\\frac{3}{2} (3, -1) = \\left( -\\frac{9}{2}, \\frac{3}{2} \\right)\\\\\n",
    "3\\vec{v} &= 3 (-1, 2) = (-3, 6)\n",
    "\\end{align*}\n",
    "\n",
    "Temos que:\n",
    "\\begin{align*}\n",
    "\\vec{w} &= -\\frac{3}{2}\\vec{u} + 3\\vec{v} = \\left( -\\frac{9}{2}, \\frac{3}{2} \\right) + (-3, 6)\\\\\n",
    "\\vec{w} &= \\left( -\\frac{15}{2}, \\frac{15}{2} \\right)\n",
    "\\end{align*}"
   ]
  },
  {
   "cell_type": "code",
   "execution_count": 1,
   "id": "75fb4f89-79ab-4791-9ae1-4d7b64576b77",
   "metadata": {},
   "outputs": [
    {
     "name": "stdout",
     "output_type": "stream",
     "text": [
      "u = 3*O.i + (-1)*O.j\n",
      "v = (-1)*O.i + 2*O.j\n",
      "w = (-7.5)*O.i + 7.5*O.j\n",
      "Verifica igualdade? True\n"
     ]
    }
   ],
   "source": [
    "###HIDE-TO-CONVERT\n",
    "from sympy.vector import CoordSys3D\n",
    "O = CoordSys3D('O')\n",
    "\n",
    "u = 3*O.i -1*O.j\n",
    "v = (-1)*O.i + 2*O.j\n",
    "\n",
    "print('u =', u)\n",
    "print('v =', v)\n",
    "\n",
    "# Dado a expressão simplificada acima (w isolado), calcula o valor de w\n",
    "w = -3/2*u + 3*v\n",
    "print('w =', w)\n",
    "\n",
    "#Dadao w, verifica se vale a igualdade da equação original\n",
    "print('Verifica igualdade?', 4*(u - v) + (1/3)*w == 2*u - w)"
   ]
  },
  {
   "cell_type": "markdown",
   "id": "522407f5-9e5a-4b50-8c04-cd2634132cfe",
   "metadata": {},
   "source": [
    "\\clearpage"
   ]
  },
  {
   "cell_type": "markdown",
   "id": "fb6f8b25-a5cc-41b0-a6d3-32565104a3a6",
   "metadata": {},
   "source": [
    "2. Encontrar os números $a_1$ e $a_2$ tais que $\\vec{w} = a_1\\vec{v_1} + a_2\\vec{v_2}$, sendo $\\vec{v_1} = (1, -2, 1)$, $\\vec{v_2} = (2, 0, -4)$ e $\\vec{w} = (-4, -4, 14)$."
   ]
  },
  {
   "cell_type": "markdown",
   "id": "55c79e61-0aac-41e3-8793-bc798e82c41b",
   "metadata": {},
   "source": [
    "\\begin{align*}\n",
    "\\vec{w} &= a_1\\vec{v_1} + a_2\\vec{v_2}\\\\\n",
    "(-4, -4, 14) &= a_1 (1, -2, 1) + a_2 (2, 0, -4)\n",
    "\\end{align*}\n",
    "\n",
    "$$\n",
    "\\begin{cases}\n",
    "  -4 = a_1 . 1 + a_2 . 2\\\\\n",
    "  -4 = a_1 . (-2) + a_2 . 0\\\\\n",
    "  14 = a_1 . 1 + a_2 . (-4)\n",
    "\\end{cases}\n",
    "$$\n",
    "\n",
    "Pelas equações acima, temos:\n",
    "\n",
    "\\begin{align*}\n",
    "-2a_1 = -4 &\\implies a_1 = 2\\\\\n",
    "2a_2 + 2 = -4 &\\implies a_2 = -3\n",
    "\\end{align*}\n",
    "\n",
    "Portanto: $\\vec{w} = 2\\vec{v_1} + (-3)\\vec{v_2}$"
   ]
  },
  {
   "cell_type": "code",
   "execution_count": 2,
   "id": "4c15155a-ae65-475b-aad6-0d5419873884",
   "metadata": {},
   "outputs": [
    {
     "name": "stdout",
     "output_type": "stream",
     "text": [
      "v1 = O.i + (-2)*O.j + O.k\n",
      "v2 = 2*O.i + (-4)*O.k\n",
      "w = (-4)*O.i + (-4)*O.j + 14*O.k\n",
      "w = 2*v1 + -3*v2? True\n"
     ]
    },
    {
     "data": {
      "text/latex": [
       "$\\displaystyle (-4)\\mathbf{\\hat{i}_{O}} + (-4)\\mathbf{\\hat{j}_{O}} + (14)\\mathbf{\\hat{k}_{O}}$"
      ],
      "text/plain": [
       "(-4)*O.i + (-4)*O.j + 14*O.k"
      ]
     },
     "execution_count": 2,
     "metadata": {},
     "output_type": "execute_result"
    }
   ],
   "source": [
    "###HIDE-TO-CONVERT\n",
    "from sympy.vector import CoordSys3D\n",
    "O = CoordSys3D('O')\n",
    "\n",
    "v1 = +1*O.i -2*O.j + 1*O.k\n",
    "v2 = +2*O.i +0*O.j - 4*O.k\n",
    "w  = -4*O.i -4*O.j +14*O.k\n",
    "\n",
    "print('v1 =', v1)\n",
    "print('v2 =', v2)\n",
    "print('w =', w)\n",
    "\n",
    "a1 = 2\n",
    "a2 = -3\n",
    "\n",
    "# Dado w, v1, v2, a1 e a2, verifica se a equação é válida\n",
    "print(f'w = {a1}*v1 + {a2}*v2?', w == a1*v1 + a2*v2)\n",
    "\n",
    "# Dado a1, a2, v1 e v2, calcula w\n",
    "w = a1*v1 + a2*v2\n",
    "w.factor()"
   ]
  },
  {
   "cell_type": "markdown",
   "id": "3f2e01ba-fa86-4f4f-8df4-14eab63ba125",
   "metadata": {},
   "source": [
    "\\clearpage"
   ]
  },
  {
   "cell_type": "markdown",
   "id": "c94b24ed-a823-47bc-b4c3-b1ab3b7820fd",
   "metadata": {},
   "source": [
    "3. Calcular a área do paralelogramo que tem um vértice no ponto $A (3, 2, 1)$ e uma diagonal de extremidades $B (1, 1, -1)$ e $C (0, 1, 2)$."
   ]
  },
  {
   "cell_type": "markdown",
   "id": "b9c918ee-96da-443a-8901-c90874d1f565",
   "metadata": {},
   "source": [
    "Se $B$ e $C$ são vértices do paralelogramo conectados por uma de suas diagonais e $A$ é um terceiro vértice do mesmo (veja figura a seguir), podemos dizer que a área do paralelogramo ($A_p$) é equivalente ao módulo do produto vetorial entre os vetores $\\overrightarrow{AB}$ e $\\overrightarrow{AC}$.\n",
    "$$\n",
    "A_p = \\big| \\overrightarrow{AB} \\times \\overrightarrow{AC} \\big|\n",
    "$$"
   ]
  },
  {
   "cell_type": "markdown",
   "id": "f9877e88-d3d1-4111-a74f-95d69e6307dc",
   "metadata": {},
   "source": [
    "![](recursos/lista04/ex03-paralelogramo.png)"
   ]
  },
  {
   "cell_type": "markdown",
   "id": "a711596c-dff9-4865-9af5-101b6571f3ed",
   "metadata": {},
   "source": [
    "Primeiro calculamos os vetores $\\overrightarrow{AB}$ e $\\overrightarrow{AC}$:\n",
    "\n",
    "\\begin{align*}\n",
    "\\overrightarrow{AB} &= (1 - 3)\\vec{i} + (1 - 2)\\vec{j} + (-1 - 1)\\vec{k} = -2\\vec{i} + -1\\vec{j} + -2\\vec{k}\\\\\n",
    "\\overrightarrow{AC} &= (0 - 3)\\vec{i} + (1 - 2)\\vec{j} + (2 - 1)\\vec{k} = -3\\vec{i} + -1\\vec{j} + 1\\vec{k}\n",
    "\\end{align*}\n",
    "\n",
    "O produto vetorial destes vetores será:\n",
    "\n",
    "\\begin{align*}\n",
    "\\overrightarrow{AB} \\times \\overrightarrow{AC} &= \n",
    "\\begin{vmatrix}\n",
    "\\vec{i} & \\vec{j} & \\vec{k}\\\\\n",
    "-2 & -1 & -2\\\\\n",
    "-3 & -1 & 1\n",
    "\\end{vmatrix}\\\\\n",
    " &= (-1 - 2)\\vec{i} + (6 + 2)\\vec{j} + (2 - 3)\\vec{k}\\\\\n",
    " &= -3\\vec{i} + 8\\vec{j} + -1\\vec{k}\n",
    "\\end{align*}\n",
    "\n",
    "Por fim, obtemos a área do paralelogramo calculando o módulo do vetor $\\overrightarrow{AB} \\times \\overrightarrow{AC} = (-3, 8, -1)$:\n",
    "\n",
    "$$\n",
    "A_p = \\big| \\overrightarrow{AB} \\times \\overrightarrow{AC} \\big| = \\sqrt{(-3)^2 + (8)^2 + (-1)^2} = \\sqrt{74}\n",
    "$$\n",
    "\n",
    "Portanto, a área do paralelogramo é $\\sqrt{74}$."
   ]
  },
  {
   "cell_type": "code",
   "execution_count": 3,
   "id": "86937a3e-a482-429b-8072-fbf4133ffa84",
   "metadata": {},
   "outputs": [
    {
     "name": "stdout",
     "output_type": "stream",
     "text": [
      "Ponto A: (3, 2, 1)\n",
      "Ponto B: (1, 1, -1)\n",
      "Ponto C: (0, 1, 2)\n",
      "\n",
      "Vetor AB: (-2)*O.i + (-1)*O.j + (-2)*O.k\n",
      "Vetor AC: (-3)*O.i + (-1)*O.j + O.k\n",
      "\n",
      "AB x AC = (-3)*O.i + 8*O.j + (-1)*O.k\n",
      "| AB x AC |:\n"
     ]
    },
    {
     "data": {
      "text/latex": [
       "$\\displaystyle \\sqrt{74}$"
      ],
      "text/plain": [
       "sqrt(74)"
      ]
     },
     "execution_count": 3,
     "metadata": {},
     "output_type": "execute_result"
    }
   ],
   "source": [
    "###HIDE-TO-CONVERT\n",
    "from sympy.vector import CoordSys3D\n",
    "O = CoordSys3D('O')\n",
    "\n",
    "A = O.origin.locate_new('A', 3*O.i + 2*O.j + 1*O.k)\n",
    "B = O.origin.locate_new('B', 1*O.i + 1*O.j - 1*O.k)\n",
    "C = O.origin.locate_new('C', 0*O.i + 1*O.j + 2*O.k)\n",
    "\n",
    "print('Ponto A:', A.express_coordinates(O))\n",
    "print('Ponto B:', B.express_coordinates(O))\n",
    "print('Ponto C:', C.express_coordinates(O))\n",
    "print('')\n",
    "\n",
    "AB = B.position_wrt(A)\n",
    "AC = C.position_wrt(A)\n",
    "\n",
    "print('Vetor AB:', AB)\n",
    "print('Vetor AC:', AC)\n",
    "print('')\n",
    "\n",
    "ABxAC = AB.cross(AC)\n",
    "\n",
    "print('AB x AC =', ABxAC)\n",
    "print('| AB x AC |:')\n",
    "ABxAC.magnitude()"
   ]
  },
  {
   "cell_type": "markdown",
   "id": "2567de53-2883-4762-884a-420062edfb4d",
   "metadata": {},
   "source": [
    "\\clearpage"
   ]
  },
  {
   "cell_type": "markdown",
   "id": "8303bd81-fb03-492c-a786-f9f838ec00a3",
   "metadata": {},
   "source": [
    "4. Os vetores $\\vec{a} = (2, -1, 3)$, $\\vec{b} = (2, -1, 4)$ e $\\vec{c} = (m+1, m, -1)$ determinam um paralelepípedo de volume $42$. Calcule $m$."
   ]
  },
  {
   "cell_type": "markdown",
   "id": "b9ef09bd-9053-4846-beec-43836433cf5b",
   "metadata": {},
   "source": [
    "Dado que o volume ($V$) do paralelepípedo determinado pelos vetores $\\vec{a}$, $\\vec{b}$ e $\\vec{c}$ é igual ao módulo de seu produto misto, ou seja:\n",
    "\n",
    "$$\n",
    "V = | \\vec{a} . (\\vec{b} \\times \\vec{c}) |\n",
    "$$\n",
    "\n",
    "Podemos calcular:\n",
    "\n",
    "\n",
    "\\begin{align*}\n",
    "\\vec{a} . (\\vec{b} \\times \\vec{c}) &= \n",
    "\\begin{vmatrix}\n",
    "2 & -1 & 3\\\\\n",
    "2 & -1 & 4\\\\\n",
    "m+1 & m & -1\n",
    "\\end{vmatrix}\\\\\n",
    " &= -4(m+1) + 2 +6m - 2 + 3(m+1) - 8m\\\\\n",
    " &= -3m - 1\n",
    "\\end{align*}\n",
    "\n",
    "Temos então que:\n",
    "\n",
    "$$\n",
    "| -3m - 1 | = 42 \\implies\n",
    "\\begin{cases}\n",
    "  -3m -1 = 42 &\\implies m = -\\frac{43}{3}\\\\\n",
    "  \\text{ou}\\\\\n",
    "  -3m -1 = -42 &\\implies m = \\frac{41}{3}\n",
    "\\end{cases}\n",
    "$$\n",
    "\n",
    "Portanto, $\\displaystyle m = \\left\\{ -\\frac{43}{3}, \\frac{41}{3} \\right\\}$"
   ]
  },
  {
   "cell_type": "code",
   "execution_count": 4,
   "id": "1d33c1d7-d2ef-465e-9c7f-e5165fdcf864",
   "metadata": {},
   "outputs": [
    {
     "name": "stdout",
     "output_type": "stream",
     "text": [
      "Matrix dos vetores: Matrix([[2, -1, 3], [2, -1, 4], [m + 1, m, -1]])\n",
      "Produto misto a.(b x c): -3*m - 1\n",
      "Valores de m tal que | a.(b x c) | = 42:\n"
     ]
    },
    {
     "data": {
      "text/latex": [
       "$\\displaystyle \\left\\{- \\frac{43}{3}, \\frac{41}{3}\\right\\}$"
      ],
      "text/plain": [
       "FiniteSet(-43/3, 41/3)"
      ]
     },
     "execution_count": 4,
     "metadata": {},
     "output_type": "execute_result"
    }
   ],
   "source": [
    "###HIDE-TO-CONVERT\n",
    "from sympy.abc import m\n",
    "from sympy.matrices import Matrix\n",
    "from sympy import solveset, Eq, Abs, S\n",
    "\n",
    "M = Matrix([\n",
    "    [2, -1, 3],\n",
    "    [2, -1, 4],\n",
    "    [m+1, m, -1]\n",
    "])\n",
    "\n",
    "print('Matrix dos vetores:', M)\n",
    "\n",
    "prod = M.det()\n",
    "\n",
    "print('Produto misto a.(b x c):', prod)\n",
    "\n",
    "print('Valores de m tal que | a.(b x c) | = 42:')\n",
    "solveset(Eq(Abs(prod), 42), m, domain=S.Reals)"
   ]
  },
  {
   "cell_type": "code",
   "execution_count": 6,
   "id": "5ff34992-07ed-43eb-ade2-a54a120abb2f",
   "metadata": {},
   "outputs": [
    {
     "name": "stdout",
     "output_type": "stream",
     "text": [
      "[NbConvertApp] Converting notebook 20210518-D1MAT-lista04-resolucao.ipynb to pdf\n",
      "[NbConvertApp] Writing 23658 bytes to notebook.tex\n",
      "[NbConvertApp] Building PDF\n",
      "[NbConvertApp] Running xelatex 3 times: ['xelatex', 'notebook.tex', '-quiet']\n",
      "[NbConvertApp] Running bibtex 1 time: ['bibtex', 'notebook']\n",
      "[NbConvertApp] WARNING | bibtex had problems, most likely because there were no citations\n",
      "[NbConvertApp] PDF successfully created\n",
      "[NbConvertApp] Writing 64623 bytes to 20210518-D1MAT-lista04-resolucao.pdf\n"
     ]
    }
   ],
   "source": [
    "###HIDE-TO-CONVERT\n",
    "!jupyter nbconvert --to pdf --RegexRemovePreprocessor.patterns \"^###HIDE-TO-CONVERT\" 20210518-D1MAT-lista04-resolucao.ipynb"
   ]
  }
 ],
 "metadata": {
  "authors": [
   {
    "name": "Diego Machado de Assis"
   }
  ],
  "kernelspec": {
   "display_name": "Python 3",
   "language": "python",
   "name": "python3"
  },
  "language_info": {
   "codemirror_mode": {
    "name": "ipython",
    "version": 3
   },
   "file_extension": ".py",
   "mimetype": "text/x-python",
   "name": "python",
   "nbconvert_exporter": "python",
   "pygments_lexer": "ipython3",
   "version": "3.9.2"
  },
  "title": "D1MAT - Lista de Exercícios 04: Vetores"
 },
 "nbformat": 4,
 "nbformat_minor": 5
}
