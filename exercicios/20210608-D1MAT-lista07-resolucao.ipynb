{
 "cells": [
  {
   "cell_type": "markdown",
   "id": "f0a583f6-e74a-43f2-83e2-6bef518ee893",
   "metadata": {},
   "source": [
    "1. Calcule $\\begin{vmatrix}\n",
    "2 & 2 & 3 & -4 & 2\\\\\n",
    "0 & 1 & 0 & 0 & 0\\\\\n",
    "0 & 4 & 0 & 2 & 1\\\\\n",
    "0 & -5 & 5 & 1 & 4\\\\\n",
    "0 & 1 & 0 & -1 & 2\n",
    "\\end{vmatrix}$."
   ]
  },
  {
   "cell_type": "markdown",
   "id": "bb570108-5ba3-48e3-8003-bb5514a8741e",
   "metadata": {},
   "source": [
    "Podemos calcular este determinante aplicando Laplace à primeira coluna da matriz:\n",
    "\n",
    "$\\displaystyle \\det = \\sum_{i=1}^5 a_{i1} C_{i1}$, em que $a_{i1}$ é o elemento da linha $i$ e coluna $1$ e $C_{i1}$ é seu cofator. Portanto:\n",
    "\n",
    "$\\begin{vmatrix}\n",
    "2 & 2 & 3 & -4 & 2\\\\\n",
    "0 & 1 & 0 & 0 & 0\\\\\n",
    "0 & 4 & 0 & 2 & 1\\\\\n",
    "0 & -5 & 5 & 1 & 4\\\\\n",
    "0 & 1 & 0 & -1 & 2\n",
    "\\end{vmatrix}\n",
    "= 2 \\cdot C_{11} + 0 \\cdot C_{21} + 0 \\cdot C_{31} + 0 \\cdot C_{41} + 0 \\cdot C_{51}\n",
    "= 2 \\cdot (-1)^{1+1} \\cdot \\begin{vmatrix}\n",
    "1 & 0 & 0 & 0\\\\\n",
    "4 & 0 & 2 & 1\\\\\n",
    "-5 & 5 & 1 & 4\\\\\n",
    "1 & 0 & -1 & 2\n",
    "\\end{vmatrix}$\n",
    "\n",
    "Por sua vez, o determinante da matrix $4 \\times 4$ resultante acima pode ser calculado, de forma análoga ao que fizemos, pela soma dos produtos entre os elementos da primeira linha e seus cofatores. Ou seja:\n",
    "\n",
    "$\\begin{vmatrix}\n",
    "1 & 0 & 0 & 0\\\\\n",
    "4 & 0 & 2 & 1\\\\\n",
    "-5 & 5 & 1 & 4\\\\\n",
    "1 & 0 & -1 & 2\n",
    "\\end{vmatrix}\n",
    "= 1 \\cdot C_{11} + 0 \\cdot C_{12} + 0 \\cdot C_{13} + 0 \\cdot C_{14}\n",
    "= 1 \\cdot (-1)^{1+1} \\cdot \\begin{vmatrix}\n",
    "0 & 2 & 1\\\\\n",
    "5 & 1 & 4\\\\\n",
    "0 & -1 & 2\n",
    "\\end{vmatrix}$\n",
    "\n",
    "Mais uma vez, aplicando a regra de Laplace para a primeira coluna da matriz $3 \\times 3$ acima, temos que:\n",
    "\n",
    "$\\begin{vmatrix}\n",
    "0 & 2 & 1\\\\\n",
    "5 & 1 & 4\\\\\n",
    "0 & -1 & 2\n",
    "\\end{vmatrix}\n",
    "= 0 \\cdot C_{11} + 5 \\cdot C_{21} + 0 \\cdot C_{31}\n",
    "= 5 \\cdot (-1)^{2+1} \\cdot \\begin{vmatrix}\n",
    "2 & 1\\\\\n",
    "-1 & 2\n",
    "\\end{vmatrix}\n",
    "= 5 \\cdot (-1) \\cdot (4 - (-1)) = -25$\n",
    "\n",
    "Juntanto tudo temos que:\n",
    "\n",
    "$\\begin{vmatrix}\n",
    "2 & 2 & 3 & -4 & 2\\\\\n",
    "0 & 1 & 0 & 0 & 0\\\\\n",
    "0 & 4 & 0 & 2 & 1\\\\\n",
    "0 & -5 & 5 & 1 & 4\\\\\n",
    "0 & 1 & 0 & -1 & 2\n",
    "\\end{vmatrix}\n",
    "= 2 \\cdot (-1)^2 \\cdot 1 \\cdot (-1)^2 \\cdot (-25) = -50$\n",
    "\n",
    "**Resposta:** $-50$"
   ]
  },
  {
   "cell_type": "code",
   "execution_count": 1,
   "id": "26314faa-f5e5-4e44-afa6-b0662cdfedab",
   "metadata": {},
   "outputs": [
    {
     "data": {
      "text/latex": [
       "$\\displaystyle -50$"
      ],
      "text/plain": [
       "-50"
      ]
     },
     "execution_count": 1,
     "metadata": {},
     "output_type": "execute_result"
    }
   ],
   "source": [
    "###HIDE-TO-CONVERT\n",
    "from sympy.matrices import Matrix\n",
    "\n",
    "A = Matrix([\n",
    "    [2, 2, 3, -4, 2],\n",
    "    [0, 1, 0, 0, 0],\n",
    "    [0, 4, 0, 2, 1],\n",
    "    [0, -5, 5, 1, 4],\n",
    "    [0, 1, 0, -1, 2]\n",
    "])\n",
    "\n",
    "A.det()"
   ]
  },
  {
   "cell_type": "markdown",
   "id": "d9ee5ed6-9d92-40b6-a86a-c04978ee6db8",
   "metadata": {},
   "source": [
    "\\clearpage"
   ]
  },
  {
   "cell_type": "markdown",
   "id": "424b3265-a68e-4bc6-a25b-fff904a909f3",
   "metadata": {},
   "source": [
    "2. Se $A$ e $B$ são matrizes de ordem 3, com determinante não nulo e $\\det(A \\cdot B) = \\det(2B^T)$, calcule $\\det A$."
   ]
  },
  {
   "cell_type": "markdown",
   "id": "e89d87b4-3f4f-4764-8d83-70cc46ff49c6",
   "metadata": {},
   "source": [
    "\\vspace{10mm}"
   ]
  },
  {
   "cell_type": "markdown",
   "id": "0531e674-84f4-4e2e-bfe7-22ea03f3845f",
   "metadata": {},
   "source": [
    "Considerando as seguintes propriedades dos determinantes de matrizes:\n",
    "\\begin{align}\n",
    "\\det(A \\cdot B) &= \\det(A) \\cdot \\det(B)\\\\\n",
    "\\det(kA) &= k^n \\det(A)\\text{, para $k \\in \\mathbb{R}$ e $A$ uma matriz de ordem $n$}\n",
    "\\end{align}\n",
    "\n",
    "E considerando que, pelo enunciado, a matriz $B$ possui ordem 3, temos que:\n",
    "$$\n",
    "\\det(A \\cdot B) = \\det(2B^T) \\implies \\det(A) \\cdot \\det(B) = 2^3 \\det(B^T)\n",
    "$$\n",
    "\n",
    "Sabendo-se também a propriedade de que, para uma matriz $A$,\n",
    "\\begin{equation}\n",
    "\\det(A^T) = \\det(A)\n",
    "\\end{equation}\n",
    "\n",
    "Podemos dizer que:\n",
    "$$\n",
    "\\det(A) \\cdot \\det(B) = 2^3 \\det(B^T) \\implies \\det(A) \\cdot \\det(B) = 2^3 \\det(B)\n",
    "$$\n",
    "\n",
    "Como o enunciado afirma que $\\det(B) \\neq 0$, podemos cancelar seu valor em ambos os lados da equação e, portanto:\n",
    "$$\n",
    "\\det(A) \\cdot \\det(B) = 2^3 \\det(B) \\implies \\det(A) = 2^3 = 8\n",
    "$$\n",
    "\n",
    "**Resposta:** $\\det A = 8$"
   ]
  },
  {
   "cell_type": "markdown",
   "id": "fb1337b0-6f48-4a46-8c7c-ccbf4bc5def3",
   "metadata": {},
   "source": [
    "\\clearpage"
   ]
  },
  {
   "cell_type": "markdown",
   "id": "60d2e7a5-6543-4331-82c0-6533ddc4526a",
   "metadata": {},
   "source": [
    "3. Considere o sistema $Ax = B$, em que $A = \\begin{pmatrix}\n",
    "1 & -2 & 3\\\\\n",
    "2 & k & 6\\\\\n",
    "-1 & 3 & k-3\n",
    "\\end{pmatrix}$, $B = \\begin{pmatrix}\n",
    "1\\\\\n",
    "6\\\\\n",
    "0\n",
    "\\end{pmatrix}$ e $k \\in \\mathbb{Z}$. Sendo $T$ a soma de todos os valores de $k$ que tornam o sistema impossível e sendo $S$ a soma de todos os valores de $k$ que tornam o sistema possível e indeterminado, determine o valor de $T - S$."
   ]
  },
  {
   "cell_type": "markdown",
   "id": "7421c7b3-c19f-4032-b98d-5269d39d3e95",
   "metadata": {},
   "source": [
    "\\vspace{10mm}"
   ]
  },
  {
   "cell_type": "markdown",
   "id": "21baa284-1268-446c-92e6-73a6ae6a5b16",
   "metadata": {},
   "source": [
    "Seja $D = \\det A$. Pela Regra de Cramer, sabemos que o sistema será *possível e determinado* se, e somente se, $D \\neq 0$. Dessa forma, estamos então interessados nos casos em que $D = 0$.\n",
    "\n",
    "\\begin{align*}\n",
    "D = \\det A = \\begin{vmatrix}\n",
    "1 & -2 & 3\\\\\n",
    "2 & k & 6\\\\\n",
    "-1 & 3 & k-3\n",
    "\\end{vmatrix}\n",
    "&= 12 + k(k-3) + 18 + 4(k-3) + 3k - 18\\\\\n",
    "&= 12 + k^2 - 3k + 18 + 4k - 12 + 3k - 18\\\\\n",
    "&= k^2 + 4k\\\\\n",
    "&= k(k+4)\n",
    "\\end{align*}\n",
    "\n",
    "Portanto, termos $D = 0$ quando:\n",
    "\n",
    "$$\n",
    "D = k(k+4) = 0 \\implies\n",
    "\\begin{cases}\n",
    "k = 0\\\\\n",
    "k + 4 = 0 \\implies k = -4\n",
    "\\end{cases}\n",
    "$$\n",
    "\n",
    "Nosso sistema original pode ser escrito da seguinte forma:\n",
    "\n",
    "$$\n",
    "\\begin{cases}\n",
    "\\begin{alignedat}{4}\n",
    " x & {}-{} & 2y & {}+{} &    3z  & {}={} & 1\\\\\n",
    "2x & {}+{} & ky & {}+{} &    6z  & {}={} & 6\\\\\n",
    "-x & {}+{} & 3y & {}+{} & (k-3)z & {}={} & 0\n",
    "\\end{alignedat}\n",
    "\\end{cases}\n",
    "$$\n",
    "\n",
    "*i.* Levando $k = 0$ ao sistema e escalonando, temos que:\n",
    "\n",
    "$$\n",
    "\\begin{cases}\n",
    "\\begin{alignedat}{4}\n",
    " x & {}-{} & 2y & {}+{} &  3z & {}={} & 1\\\\\n",
    "2x &       &    & {}+{} &  6z & {}={} & 6\\\\\n",
    "-x & {}+{} & 3y & {}-{} &  3z & {}={} & 0\n",
    "\\end{alignedat}\n",
    "\\end{cases}\n",
    "\\iff\n",
    "\\begin{cases}\n",
    "\\begin{alignedat}{4}\n",
    "x & {}-{} & 2y & {}+{} & 3z & {}={} & 1 &\\\\\n",
    "  &       & 4y &       &    & {}={} & 4 & \\quad \\longleftarrow (-2) \\times (1^a\\text{ eq.}) + (2^a\\text{ eq.})\\\\\n",
    "  &       &  y &       &    & {}={} & 1 & \\quad \\longleftarrow (1^a\\text{ eq.}) + (3^a\\text{ eq.})\n",
    "\\end{alignedat}\n",
    "\\end{cases}\n",
    "$$\n",
    "\n",
    "A $2^a$ e $3^a$ equações são resolvidas para o valor de $y = 1$, e só nos resta então a $1^a$ equação:\n",
    "\n",
    "\\begin{align*}\n",
    "x - 2y + 3z &= 1\\\\\n",
    "x - 2(1) + 3z &= 1\\\\\n",
    "x + 3z &= 3\n",
    "\\end{align*}\n",
    "\n",
    "Fazendo $z = \\alpha\\; (\\alpha \\in \\mathbb{R})$, temos que qualquer tupla $\\displaystyle \\left( 3 - 3\\alpha, 1, \\alpha \\right)$ é solução do sistema e, portanto, trata-se de um sistema *possível e indeterminado*\n",
    "\n",
    "*ii.* Levando $k = -4$ ao sistema e escalonando:\n",
    "\n",
    "$$\n",
    "\\begin{cases}\n",
    "\\begin{alignedat}{4}\n",
    " x & {}-{} & 2y & {}+{} &  3z & {}={} & 1\\\\\n",
    "2x & {}-{} & 4y & {}+{} &  6z & {}={} & 6\\\\\n",
    "-x & {}+{} & 3y & {}-{} &  7z & {}={} & 0\n",
    "\\end{alignedat}\n",
    "\\end{cases}\n",
    "\\iff\n",
    "\\begin{cases}\n",
    "\\begin{alignedat}{4}\n",
    "x & {}-{} & 2y & {}+{} & 3z & {}={} & 1 &\\\\\n",
    "  &       &    &       &  0 & {}={} & 4 & \\quad \\longleftarrow (-2) \\times (1^a\\text{ eq.}) + (2^a\\text{ eq.})\\\\\n",
    "  &       &  y & {}-{} & 4z & {}={} & 1 & \\quad \\longleftarrow (1^a\\text{ eq.}) + (3^a\\text{ eq.})\n",
    "\\end{alignedat}\n",
    "\\end{cases}\n",
    "$$\n",
    "\n",
    "A segunda equação $0 =4$ é um absurdo, e portanto o sistema é *impossível*.\n",
    "\n",
    "Temos então que:\n",
    "\n",
    "- Para $k = 0 \\implies \\text{Sistema Possível e Indeterminado} \\implies S = 0$\n",
    "- Para $k = -4 \\implies \\text{Sistema Impossível} \\implies T = -4$\n",
    "\n",
    "Portanto,\n",
    "\n",
    "$$\n",
    "T - S = -4 - 0 = -4\n",
    "$$\n",
    "\n",
    "**Resposta:** $T - S = -4$"
   ]
  },
  {
   "cell_type": "code",
   "execution_count": 2,
   "id": "700806e5-2625-49ca-8bd1-61d89753816c",
   "metadata": {},
   "outputs": [
    {
     "data": {
      "text/latex": [
       "$\\displaystyle k^{2} + 4 k$"
      ],
      "text/plain": [
       "k**2 + 4*k"
      ]
     },
     "execution_count": 2,
     "metadata": {},
     "output_type": "execute_result"
    }
   ],
   "source": [
    "###HIDE-TO-CONVERT\n",
    "from sympy.matrices import Matrix\n",
    "from sympy.abc import k\n",
    "\n",
    "A = Matrix([\n",
    "    [1, -2, 3],\n",
    "    [2, k, 6],\n",
    "    [-1, 3, k-3]\n",
    "])\n",
    "A.det()"
   ]
  },
  {
   "cell_type": "code",
   "execution_count": 3,
   "id": "31f507e0-967f-4fdc-84f3-db03b6d039f2",
   "metadata": {},
   "outputs": [
    {
     "data": {
      "text/plain": [
       "{x: (k + 9)/(k + 4), y: 4/(k + 4), z: 1/(k + 4)}"
      ]
     },
     "execution_count": 3,
     "metadata": {},
     "output_type": "execute_result"
    }
   ],
   "source": [
    "###HIDE-TO-CONVERT\n",
    "from sympy import solve, Eq, S\n",
    "from sympy.abc import x, y, z\n",
    "\n",
    "X = Matrix([x, y, z])\n",
    "B = Matrix([1, 6, 0])\n",
    "solve(Eq(A * X, B), X, domain=S.Integers)"
   ]
  },
  {
   "cell_type": "markdown",
   "id": "bb6f46b6-814b-4de1-a4e1-6ebddd24fb9b",
   "metadata": {},
   "source": [
    "\\clearpage"
   ]
  },
  {
   "cell_type": "markdown",
   "id": "fbfbe309-ca34-4f72-a6c0-f72791d65a22",
   "metadata": {},
   "source": [
    "4. Discuta o sistema linear:\n",
    "$\\\\ \\begin{cases}\n",
    "\\begin{alignedat}{3}\n",
    "x & {}+{} & my & {}={} & 4\\\\\n",
    "3x  & {}+{} & y  & {}={} & k\n",
    "\\end{alignedat}\n",
    "\\end{cases}$"
   ]
  },
  {
   "cell_type": "markdown",
   "id": "64bb69ab-257f-40e0-a095-dc122089efda",
   "metadata": {},
   "source": [
    "\\vspace{10mm}"
   ]
  },
  {
   "cell_type": "markdown",
   "id": "6a85519f-16e1-4535-9708-65c887cbeecb",
   "metadata": {},
   "source": [
    "Seja $S$ a matriz incompleta do sistema.\n",
    "$$\n",
    "S = \\begin{bmatrix}\n",
    "1 & m\\\\\n",
    "3 & 1\n",
    "\\end{bmatrix}\n",
    "$$\n",
    "\n",
    "O determinante de $S$ pode ser calculado por:\n",
    "$$\n",
    "\\det S = \\begin{vmatrix}\n",
    "1 & m\\\\\n",
    "3 & 1\n",
    "\\end{vmatrix}\n",
    "= 1 - 3m\n",
    "$$\n",
    "\n",
    "Pela Regra de Cramer, se $\\det S \\neq 0$ o sistema possui solução única, sendo *possível e determinado*.\n",
    "$$\n",
    "\\det S \\neq 0 \\implies 1 - 3m \\neq 0 \\implies m \\neq \\frac{1}{3}\n",
    "$$\n",
    "\n",
    "Para o caso de $m = \\frac{1}{3}$, o sistema pode ser *possível e indeterminado* ou *impossível*. Levando este valor de $m$ ao sistema original e escalonando temos que:\n",
    "\n",
    "$$\n",
    "\\begin{cases}\n",
    "\\begin{alignedat}{3}\n",
    " x & {}+{} & \\frac{1}{3}y & {}={} & 4\\\\\n",
    "3x & {}+{} &            y & {}={} & k\n",
    "\\end{alignedat}\n",
    "\\end{cases}\n",
    "\\iff\n",
    "\\begin{cases}\n",
    "\\begin{alignedat}{3}\n",
    "x & {}+{} & \\frac{1}{3}y & {}={} & 4\\\\\n",
    "  &       &            0 & {}={} & k - 12 & \\quad \\longleftarrow (-3) \\times (1^a\\text{ eq.}) + (2^a\\text{ eq.})\n",
    "\\end{alignedat}\n",
    "\\end{cases}\n",
    "$$\n",
    "\n",
    "Temos então que o sistema será *possível e indeterminado* quando $2^a$ equação for satisfeita, ou seja, quando $k = 12$. Caso contrário o sistema será *impossível*.\n",
    "\n",
    "**Resposta:** $\\begin{cases}\n",
    "m \\neq \\frac{1}{3} \\longrightarrow \\text{ Sistema Possível e Determinado}\\\\\n",
    "m = \\frac{1}{3} \\text{ e } k = 12 \\longrightarrow \\text{ Sistema Possível e Indeterminado}\\\\\n",
    "m = \\frac{1}{3} \\text{ e } k \\neq 12 \\longrightarrow \\text{ Sistema Impossível}\n",
    "\\end{cases}$"
   ]
  },
  {
   "cell_type": "code",
   "execution_count": 4,
   "id": "0d161f03-127e-4a90-89c9-0d7a1ab999ba",
   "metadata": {},
   "outputs": [
    {
     "name": "stdout",
     "output_type": "stream",
     "text": [
      "[NbConvertApp] Converting notebook 20210608-D1MAT-lista07-resolucao.ipynb to pdf\n",
      "[NbConvertApp] Writing 27257 bytes to notebook.tex\n",
      "[NbConvertApp] Building PDF\n",
      "[NbConvertApp] Running xelatex 3 times: ['xelatex', 'notebook.tex', '-quiet']\n",
      "[NbConvertApp] Running bibtex 1 time: ['bibtex', 'notebook']\n",
      "[NbConvertApp] WARNING | bibtex had problems, most likely because there were no citations\n",
      "[NbConvertApp] PDF successfully created\n",
      "[NbConvertApp] Writing 40282 bytes to 20210608-D1MAT-lista07-resolucao.pdf\n"
     ]
    }
   ],
   "source": [
    "###HIDE-TO-CONVERT\n",
    "!jupyter nbconvert --to pdf --RegexRemovePreprocessor.patterns \"^###HIDE-TO-CONVERT\" 20210608-D1MAT-lista07-resolucao.ipynb"
   ]
  }
 ],
 "metadata": {
  "author": [
   {
    "name": "Diego Machado de Assis"
   }
  ],
  "kernelspec": {
   "display_name": "Python 3",
   "language": "python",
   "name": "python3"
  },
  "language_info": {
   "codemirror_mode": {
    "name": "ipython",
    "version": 3
   },
   "file_extension": ".py",
   "mimetype": "text/x-python",
   "name": "python",
   "nbconvert_exporter": "python",
   "pygments_lexer": "ipython3",
   "version": "3.9.2"
  },
  "title": "D1MAT - Lista de Exercícios 07: Determinantes e Sistemas Lineares"
 },
 "nbformat": 4,
 "nbformat_minor": 5
}
