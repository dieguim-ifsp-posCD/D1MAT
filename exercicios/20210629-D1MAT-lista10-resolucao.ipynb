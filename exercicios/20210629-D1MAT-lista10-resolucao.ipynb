{
 "cells": [
  {
   "cell_type": "markdown",
   "id": "6d7e0d57-da72-465c-ba91-2f0eac1f14d4",
   "metadata": {},
   "source": [
    "1. Consideremos as seguintes bases do $\\mathbb{R}^2: A = \\{(1, 1), (0, -1)\\}$ e $B = \\{(2, -3), (-3,5)\\}$."
   ]
  },
  {
   "cell_type": "markdown",
   "id": "4056413b-49fb-4102-b469-849ef08f0233",
   "metadata": {},
   "source": [
    "\\vspace{5mm}"
   ]
  },
  {
   "cell_type": "markdown",
   "id": "565f91ef-17d5-4143-adda-398166a18c84",
   "metadata": {},
   "source": [
    "a) Determinar a matriz-mudança de base $[I]^A_B$."
   ]
  },
  {
   "cell_type": "markdown",
   "id": "0eb5fc7f-cc2b-46fc-9765-e79a0d6b8d6a",
   "metadata": {},
   "source": [
    "\\vspace{5mm}"
   ]
  },
  {
   "cell_type": "markdown",
   "id": "e25b2d65-54e5-4914-bf20-e073cffe5b6d",
   "metadata": {},
   "source": [
    "As colunas de $[I]^A_B$ serão os vetores da base $A$ expressos em relação à base $B$. Dito de outra forma, precisamos encontrar os coeficientes que expressem os vetores da base $A$ como combinação linear dos vetores da base $B$, ou seja:\n",
    "\\begin{align}\n",
    "(1, 1)  = a_{11}(2, -3) + a_{21}(-3, 5) \\label{eq:1a1}\\\\\n",
    "(0, -1) = a_{12}(2, -3) + a_{22}(-3, 5) \\label{eq:1a2}\n",
    "\\end{align}\n",
    "\n",
    "Por $\\ref{eq:1a1}$ temos o sistema:\n",
    "\n",
    "$$\n",
    "\\begin{cases}\n",
    "\\begin{alignedat}{3}\n",
    "     2a_{11} & {}-{} & 3a_{21} & {}={} 1\\\\\n",
    "    -3a_{11} & {}+{} & 5a_{21} & {}={} 1\n",
    "\\end{alignedat}\n",
    "\\end{cases}\n",
    "\\iff\n",
    "\\begin{cases}\n",
    "\\begin{alignedat}{3}\n",
    "    2a_{11} & {}-{} &           3a_{21} & {}={} 1\\\\\n",
    "            &       & \\frac{1}{2}a_{21} & {}={} \\frac{5}{2} & \\quad \\longleftarrow & \\; \\left(\\frac{3}{2}\\right) \\times (1^a\\text{ eq.}) + (2^a\\text{ eq.})\n",
    "\\end{alignedat}\n",
    "\\end{cases}\n",
    "$$\n",
    "\n",
    "Que é resolvido para $a_{21} = 5$ e $a_{11} = 8$.\n",
    "\n",
    "Portanto, $(1, 1)_B = (8, 5)$.\n",
    "\n",
    "E por $\\ref{eq:1a2}$ montamos o sistema:\n",
    "\n",
    "$$\n",
    "\\begin{cases}\n",
    "\\begin{alignedat}{3}\n",
    "     2a_{12} & {}-{} & 3a_{22} & {}={} 0\\\\\n",
    "    -3a_{12} & {}+{} & 5a_{22} & {}={} -1\n",
    "\\end{alignedat}\n",
    "\\end{cases}\n",
    "\\iff\n",
    "\\begin{cases}\n",
    "\\begin{alignedat}{3}\n",
    "    2a_{12} & {}-{} &           3a_{22} & {}={} 0\\\\\n",
    "            &       & \\frac{1}{2}a_{22} & {}={} -1 & \\quad \\longleftarrow & \\; \\left(\\frac{3}{2}\\right) \\times (1^a\\text{ eq.}) + (2^a\\text{ eq.})\n",
    "\\end{alignedat}\n",
    "\\end{cases}\n",
    "$$\n",
    "\n",
    "Que é resolvido para $a_{22} = -2$ e $a_{12} = -3$.\n",
    "\n",
    "Portanto, $(0, -1)_B = (-3, -2)$\n",
    "\n",
    "**Resposta:** $[I]^A_B =\n",
    "\\begin{bmatrix}\n",
    "    8 & -3\\\\\n",
    "    5 & -2\n",
    "\\end{bmatrix}$\n"
   ]
  },
  {
   "cell_type": "code",
   "execution_count": 1,
   "id": "f672a4e9-3755-4734-8756-0ade3e198788",
   "metadata": {},
   "outputs": [
    {
     "data": {
      "text/latex": [
       "$\\displaystyle \\left[\\begin{matrix}8 & -3\\\\5 & -2\\end{matrix}\\right]$"
      ],
      "text/plain": [
       "Matrix([\n",
       "[8, -3],\n",
       "[5, -2]])"
      ]
     },
     "execution_count": 1,
     "metadata": {},
     "output_type": "execute_result"
    }
   ],
   "source": [
    "###HIDE-TO-CONVERT\n",
    "from sympy import Eq, solve, Matrix\n",
    "from sympy.abc import x, y\n",
    "\n",
    "[a11, a21] = solve(Eq(x*Matrix([2,-3]) + y*Matrix([-3,5]), Matrix([1,1])), x, y).values()\n",
    "[a12, a22] = solve(Eq(x*Matrix([2,-3]) + y*Matrix([-3,5]), Matrix([0,-1])), x, y).values()\n",
    "\n",
    "I = Matrix([\n",
    "    [a11, a12],\n",
    "    [a21, a22]\n",
    "])\n",
    "I"
   ]
  },
  {
   "cell_type": "markdown",
   "id": "e86e9e54-6ead-4065-b24b-0f695153772e",
   "metadata": {},
   "source": [
    "\\vspace{5mm}\n",
    "\n",
    "----\n",
    "\n",
    "\\vspace{5mm}"
   ]
  },
  {
   "cell_type": "markdown",
   "id": "5258e07d-e90c-41f2-9961-ca07facde860",
   "metadata": {},
   "source": [
    "b) Utilizar a matriz obtida no item $a)$ para calcular $v_B$, sendo $v_A = (2, 3)$."
   ]
  },
  {
   "cell_type": "markdown",
   "id": "53f6ae8e-7a68-4964-bc1f-4bd490448b0a",
   "metadata": {},
   "source": [
    "\\vspace{5mm}"
   ]
  },
  {
   "cell_type": "markdown",
   "id": "7b81f4b7-bdef-445c-9d02-dd9ee953d127",
   "metadata": {},
   "source": [
    "Temos que:\n",
    "$$\n",
    "[v]_B = [I]^A_B [v]_A \\quad \\text{e} \\quad [v]_A = \\begin{bmatrix} 2\\\\3 \\end{bmatrix}\n",
    "$$\n",
    "\n",
    "Portanto:\n",
    "$$\n",
    "[v]_B = \\begin{bmatrix}8 & -3\\\\5 & -2\\end{bmatrix} \\begin{bmatrix}2\\\\3\\end{bmatrix} = \\begin{bmatrix}7\\\\4\\end{bmatrix}\n",
    "$$\n",
    "\n",
    "**Resposta:** $v_B = (7, 4)$"
   ]
  },
  {
   "cell_type": "code",
   "execution_count": 2,
   "id": "b84f346b-267b-445f-aad4-63218d78f4cb",
   "metadata": {},
   "outputs": [
    {
     "data": {
      "text/latex": [
       "$\\displaystyle \\left[\\begin{matrix}7\\\\4\\end{matrix}\\right]$"
      ],
      "text/plain": [
       "Matrix([\n",
       "[7],\n",
       "[4]])"
      ]
     },
     "execution_count": 2,
     "metadata": {},
     "output_type": "execute_result"
    }
   ],
   "source": [
    "###HIDE-TO-CONVERT\n",
    "I * Matrix([2, 3])"
   ]
  },
  {
   "cell_type": "markdown",
   "id": "5b122857-5342-4177-839a-b395748ff23f",
   "metadata": {},
   "source": [
    "\\vspace{5mm}\n",
    "\n",
    "----\n",
    "\n",
    "\\vspace{5mm}"
   ]
  },
  {
   "cell_type": "markdown",
   "id": "d41f2419-4bc0-48f9-9719-c927f6a2b9df",
   "metadata": {},
   "source": [
    "c) Determinar a matriz-mudança de base de $B$ para $A$."
   ]
  },
  {
   "cell_type": "markdown",
   "id": "371d240f-0b36-46c6-8f4e-88e0586bc17f",
   "metadata": {},
   "source": [
    "\\vspace{5mm}"
   ]
  },
  {
   "cell_type": "markdown",
   "id": "496c0bf9-a928-47fb-a902-c4b101aa874a",
   "metadata": {},
   "source": [
    "Queremos encontrar a inversa da matriz-mudança de base de $A$ para $B$, ou seja:\n",
    "$$\n",
    "[I]^B_A = ([I]^A_B)^{-1}\n",
    "$$\n",
    "\n",
    "Para isto, precisamos encontrar coeficientes $a, b, c, d \\in \\mathbb{R}$ tal que:\n",
    "$$\n",
    "\\begin{bmatrix}8 & -3\\\\5 & -2\\end{bmatrix} \\begin{bmatrix}a & b\\\\ c & d\\end{bmatrix} = \\begin{bmatrix}1 & 0\\\\0 & 1\\end{bmatrix}\n",
    "$$\n",
    "\n",
    "A relação acima resulta no sistema:\n",
    "$$\n",
    "\\begin{cases}\n",
    "\\begin{alignedat}{3}\n",
    "    8a & {}-{} & 3c & {}={} 1\\\\\n",
    "    5a & {}-{} & 2c & {}={} 0\\\\\n",
    "    8b & {}-{} & 3d & {}={} 0\\\\\n",
    "    5b & {}-{} & 2d & {}={} 1\n",
    "\\end{alignedat}\n",
    "\\end{cases}\n",
    "$$\n",
    "\n",
    "Resolvido para $a = 2$, $b = -3$, $c = 5$ e $d = -8$\n",
    "\n",
    "**Resposta:** $[I]^B_A = ([I]^A_B)^{-1} = \\begin{bmatrix}2 & -3\\\\5 & -8\\end{bmatrix}$"
   ]
  },
  {
   "cell_type": "code",
   "execution_count": 3,
   "id": "36182ae6-a604-4f69-9f14-a10a55352244",
   "metadata": {},
   "outputs": [
    {
     "data": {
      "text/latex": [
       "$\\displaystyle \\left[\\begin{matrix}2 & -3\\\\5 & -8\\end{matrix}\\right]$"
      ],
      "text/plain": [
       "Matrix([\n",
       "[2, -3],\n",
       "[5, -8]])"
      ]
     },
     "execution_count": 3,
     "metadata": {},
     "output_type": "execute_result"
    }
   ],
   "source": [
    "###HIDE-TO-CONVERT\n",
    "I.inv()"
   ]
  },
  {
   "cell_type": "markdown",
   "id": "336c6ba8-8c9c-40c7-9d0e-3fa5e4f03299",
   "metadata": {},
   "source": [
    "\\clearpage"
   ]
  },
  {
   "cell_type": "markdown",
   "id": "60035b33-1013-4db5-9407-71535f9fbf89",
   "metadata": {},
   "source": [
    "2. Sabendo que $[I]^A_B =\n",
    "\\begin{bmatrix}\n",
    "     -1 & 4\\\\\n",
    "     4 & -11\n",
    "\\end{bmatrix}$ e $B = \\{(3, 5), (1, 2)\\}$, determinar a base $A$."
   ]
  },
  {
   "cell_type": "markdown",
   "id": "914eca63-49bf-4a9e-aede-a138cbea8ab0",
   "metadata": {},
   "source": [
    "\\vspace{5mm}"
   ]
  },
  {
   "cell_type": "markdown",
   "id": "36e70cb6-4fa5-440f-ab74-795f5149a770",
   "metadata": {},
   "source": [
    "Sejam $v_1 = (x_1, y_1)$ e $v_2 = (x_2, y_2)$ os vetores da base $A$. Temos que:\n",
    "\\begin{align*}\n",
    "(x_1, y_1) &= -1(3, 5) + 4(1, 2) = (-3 + 4, -5 + 8) = (1, 3)\\\\\n",
    "(x_2, y_2) &= 4(3, 5) + (-11)(1, 2) = (12 - 11, 20 - 22) = (1, -2)\n",
    "\\end{align*}\n",
    "\n",
    "**Resposta:** $A = \\{(1, 3), (1, -2)\\}$"
   ]
  },
  {
   "cell_type": "code",
   "execution_count": 4,
   "id": "c77001d6-eb30-45c1-99d9-ad8f75b94470",
   "metadata": {},
   "outputs": [
    {
     "data": {
      "text/plain": [
       "((1, 3), (1, -2))"
      ]
     },
     "execution_count": 4,
     "metadata": {},
     "output_type": "execute_result"
    }
   ],
   "source": [
    "###HIDE-TO-CONVERT\n",
    "import numpy as np\n",
    "\n",
    "[x1, y1] = -1*np.array([3,5]) + 4*np.array([1,2])\n",
    "[x2, y2] = 4*np.array([3,5]) + -11*np.array([1,2])\n",
    "(x1, y1), (x2, y2)"
   ]
  },
  {
   "cell_type": "markdown",
   "id": "b328e4d1-572a-4215-be49-1e5e7cac6ca6",
   "metadata": {},
   "source": [
    "\\clearpage"
   ]
  },
  {
   "cell_type": "markdown",
   "id": "8c74f0ec-2932-4320-bdd8-e58458dc694e",
   "metadata": {},
   "source": [
    "3. Seja $T: \\mathbb{R}^2 \\longrightarrow \\mathbb{R}^2$ um operador linear. Consideremos as bases $A$ canônica e $B = \\{(4, 1), (-11, -3)\\}$. Sabendo que $[T]_B =\n",
    "\\begin{bmatrix}\n",
    "    3 & 5\\\\\n",
    "    1 & 2\n",
    "\\end{bmatrix}$, determinar $[T]_A$, utilizando a relação entre matrizes semelhantes."
   ]
  },
  {
   "cell_type": "markdown",
   "id": "9f4b8638-7f16-446a-ae96-808168d0298d",
   "metadata": {},
   "source": [
    "\\vspace{5mm}"
   ]
  },
  {
   "cell_type": "markdown",
   "id": "4787735c-0e58-41f1-92a1-d30027891589",
   "metadata": {},
   "source": [
    "A relação de matrizes semelhantes diz que:\n",
    "$$\n",
    "[T]_A = ([I]^A_B)^{-1} [T]_B [I]^A_B\n",
    "$$\n",
    "\n",
    "Sendo $A$ a base canônica do $\\mathbb{R}^2$, temos que $[I]^B_A = \\begin{bmatrix}4 & -11\\\\1 & -3\\end{bmatrix} = ([I]^A_B)^{-1}$\n",
    "\n",
    "Podemos encontrar $[I]^A_B$ calculando a inversa de $[I]^B_A$. Para isto, precisamos encontrar coeficientes $a, b, c, d \\in \\mathbb{R}$ tal que:\n",
    "$$\n",
    "\\begin{bmatrix}4 & -11\\\\1 & -3\\end{bmatrix} \\begin{bmatrix}a & b\\\\ c & d\\end{bmatrix} = \\begin{bmatrix}1 & 0\\\\0 & 1\\end{bmatrix}\n",
    "$$\n",
    "\n",
    "A relação acima resulta no sistema:\n",
    "$$\n",
    "\\begin{cases}\n",
    "\\begin{alignedat}{3}\n",
    "    4a & {}-{} & 11c & {}={} 1\\\\\n",
    "     a & {}-{} &  3c & {}={} 0\\\\\n",
    "    4b & {}-{} & 11d & {}={} 0\\\\\n",
    "     b & {}-{} &  3d & {}={} 1\n",
    "\\end{alignedat}\n",
    "\\end{cases}\n",
    "$$\n",
    "\n",
    "Que é resolvido para $a = 3$, $b = -11$, $c = 1$ e $d = -4$\n",
    "\n",
    "Portanto, $[I]^A_B = \\begin{bmatrix}3 & -11\\\\1 & -4\\end{bmatrix}$\n",
    "\n",
    "Dessa forma, temos:\n",
    "\\begin{align*}\n",
    "    [T]_A &= ([I]^A_B)^{-1} [T]_B [I]^A_B\\\\\n",
    "    [T]_A &= \\begin{bmatrix}4 & -11\\\\1 & -3\\end{bmatrix} \\begin{bmatrix}3 & 5\\\\1 & 2\\end{bmatrix} \\begin{bmatrix}3 & -11\\\\1 & -4\\end{bmatrix}\\\\\n",
    "    [T]_A &= \\begin{bmatrix}1 & -2\\\\0 & -1\\end{bmatrix} \\begin{bmatrix}3 & -11\\\\1 & -4\\end{bmatrix} = \\begin{bmatrix}1 & -3\\\\-1 & 4\\end{bmatrix}\n",
    "\\end{align*}\n",
    "\n",
    "**Resposta:** $[T]_A = \\begin{bmatrix}1 & -3\\\\-1 & 4\\end{bmatrix}$"
   ]
  },
  {
   "cell_type": "code",
   "execution_count": 5,
   "id": "4d675825-6713-4882-b15a-943837fae2f0",
   "metadata": {},
   "outputs": [
    {
     "name": "stdout",
     "output_type": "stream",
     "text": [
      "Matrix([[3, -11], [1, -4]])\n"
     ]
    },
    {
     "data": {
      "text/latex": [
       "$\\displaystyle \\left[\\begin{matrix}1 & -3\\\\-1 & 4\\end{matrix}\\right]$"
      ],
      "text/plain": [
       "Matrix([\n",
       "[ 1, -3],\n",
       "[-1,  4]])"
      ]
     },
     "execution_count": 5,
     "metadata": {},
     "output_type": "execute_result"
    }
   ],
   "source": [
    "###HIDE-TO-CONVERT\n",
    "from sympy import Matrix\n",
    "\n",
    "I_BA = Matrix([[4, -11], [1, -3]])\n",
    "T_B = Matrix([[3, 5], [1, 2]])\n",
    "\n",
    "I_AB = I_BA.inv()\n",
    "\n",
    "print(I_AB)\n",
    "\n",
    "T_A = I_BA * T_B * I_AB\n",
    "T_A"
   ]
  },
  {
   "cell_type": "code",
   "execution_count": 6,
   "id": "0d161f03-127e-4a90-89c9-0d7a1ab999ba",
   "metadata": {},
   "outputs": [
    {
     "name": "stdout",
     "output_type": "stream",
     "text": [
      "[NbConvertApp] Converting notebook 20210629-D1MAT-lista10-resolucao.ipynb to pdf\n",
      "[NbConvertApp] Writing 25091 bytes to notebook.tex\n",
      "[NbConvertApp] Building PDF\n",
      "[NbConvertApp] Running xelatex 3 times: ['xelatex', 'notebook.tex', '-quiet']\n",
      "[NbConvertApp] Running bibtex 1 time: ['bibtex', 'notebook']\n",
      "[NbConvertApp] WARNING | bibtex had problems, most likely because there were no citations\n",
      "[NbConvertApp] PDF successfully created\n",
      "[NbConvertApp] Writing 33878 bytes to 20210629-D1MAT-lista10-resolucao.pdf\n"
     ]
    }
   ],
   "source": [
    "###HIDE-TO-CONVERT\n",
    "!jupyter nbconvert --to pdf --RegexRemovePreprocessor.patterns \"^###HIDE-TO-CONVERT\" 20210629-D1MAT-lista10-resolucao.ipynb"
   ]
  }
 ],
 "metadata": {
  "author": [
   {
    "name": "Diego Machado de Assis"
   }
  ],
  "kernelspec": {
   "display_name": "Python 3",
   "language": "python",
   "name": "python3"
  },
  "language_info": {
   "codemirror_mode": {
    "name": "ipython",
    "version": 3
   },
   "file_extension": ".py",
   "mimetype": "text/x-python",
   "name": "python",
   "nbconvert_exporter": "python",
   "pygments_lexer": "ipython3",
   "version": "3.9.2"
  },
  "title": "D1MAT - Lista de Exercícios 10: Mudança de Base"
 },
 "nbformat": 4,
 "nbformat_minor": 5
}
