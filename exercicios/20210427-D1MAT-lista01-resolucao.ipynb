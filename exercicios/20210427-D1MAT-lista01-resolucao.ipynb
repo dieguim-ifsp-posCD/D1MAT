{
 "cells": [
  {
   "cell_type": "code",
   "execution_count": 1,
   "id": "2cb69bbc",
   "metadata": {},
   "outputs": [],
   "source": [
    "###NB-HIDE\n",
    "# Ocultar células no momento de exportar o PDF para entrega:\n",
    "# $ jupyter nbconvert --to pdf --RegexRemovePreprocessor.patterns \"^###NB-HIDE\" mynotebook.ipynb"
   ]
  },
  {
   "cell_type": "markdown",
   "id": "66aa4a03",
   "metadata": {},
   "source": [
    "# Resolução Lista 1 - Limite"
   ]
  },
  {
   "cell_type": "markdown",
   "id": "afb363ba",
   "metadata": {},
   "source": [
    "1. Um tanque com capacidade para 1.000 litros de água é drenado pela base em meia hora. Os valores na tabela mostram o volume $V$ de água remanescente no tanque (em litros) após $t$ minutos.\n",
    "\n",
    "$\\mathbf{t (min)}$|$5$|$10$|$15$|$20$|$25$|$30$\n",
    "---|---|---|---|---|---|---\n",
    "$\\mathbf{V (L)}$|$694$|$444$|$250$|$111$|$28$|$0$\n"
   ]
  },
  {
   "cell_type": "code",
   "execution_count": 2,
   "id": "78dfbcf9",
   "metadata": {
    "tags": []
   },
   "outputs": [
    {
     "data": {
      "image/png": "[encoded data removed]",
      "text/plain": [
       "<Figure size 432x288 with 1 Axes>"
      ]
     },
     "metadata": {
      "needs_background": "light"
     },
     "output_type": "display_data"
    }
   ],
   "source": [
    "###NB-HIDE\n",
    "import matplotlib.pyplot as plt\n",
    "\n",
    "tanque = [(5, 694), (10, 444), (15, 250), (20, 111), (25, 28), (30, 0)]\n",
    "\n",
    "fig, ax = plt.subplots()\n",
    "ax.set_title('Volume ($V$) do tanque após $t$ minutos', fontsize=18)\n",
    "ax.set_ylabel('$V$ (L)')\n",
    "ax.set_xlabel('$t$ (min)')\n",
    "\n",
    "\n",
    "plt.scatter(*zip(*tanque))\n",
    "plt.show()"
   ]
  },
  {
   "cell_type": "markdown",
   "id": "6885d490",
   "metadata": {},
   "source": [
    "a) Se $P$ o ponto $(15, 250)$ sobre o gráfico de $V$, encontre as inclinações das retas secantes $PQ$, onde $Q$ é o ponto sobre o gráfico com $t = 5, 10, 20, 25$ e $30$."
   ]
  },
  {
   "cell_type": "markdown",
   "id": "cef4b252",
   "metadata": {},
   "source": [
    "b) Estime a inclinação da reta tangente em $P$ pela média das inclinações de duas retas secantes."
   ]
  },
  {
   "cell_type": "markdown",
   "id": "78af0abf",
   "metadata": {},
   "source": [
    "c) Use um gráfico da função para estimar a inclinação da tangente em $P$. (Essa inclinação representa a razão na qual a água flui do tanque após $15$ minutos.)"
   ]
  },
  {
   "cell_type": "markdown",
   "id": "d7b49467",
   "metadata": {},
   "source": [
    "2. Calcule os limites:"
   ]
  },
  {
   "cell_type": "markdown",
   "id": "93ea7ec8",
   "metadata": {},
   "source": [
    "a) $\\displaystyle\\lim_{t\\to-3}\\frac{t^2-9}{2t^2+7t+3}$"
   ]
  },
  {
   "cell_type": "markdown",
   "id": "96bcd42e",
   "metadata": {},
   "source": [
    "b) $\\displaystyle\\lim_{x\\to0}\\frac{\\sqrt{1+x}-\\sqrt{1-x}}{x}$"
   ]
  },
  {
   "cell_type": "markdown",
   "id": "cf652117",
   "metadata": {},
   "source": [
    "c) $\\displaystyle\\lim_{x\\to-4}\\frac{\\frac{1}{4}+\\frac{1}{x}}{4+x}$"
   ]
  }
 ],
 "metadata": {
  "kernelspec": {
   "display_name": "Python 3",
   "language": "python",
   "name": "python3"
  },
  "language_info": {
   "codemirror_mode": {
    "name": "ipython",
    "version": 3
   },
   "file_extension": ".py",
   "mimetype": "text/x-python",
   "name": "python",
   "nbconvert_exporter": "python",
   "pygments_lexer": "ipython3",
   "version": "3.8.8"
  }
 },
 "nbformat": 4,
 "nbformat_minor": 5
}
