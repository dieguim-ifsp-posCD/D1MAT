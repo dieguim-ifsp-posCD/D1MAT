{
 "cells": [
  {
   "cell_type": "markdown",
   "id": "175e3e83-d0e1-4110-9d82-cb2eeee260a2",
   "metadata": {},
   "source": [
    "Link para o notebook que gerou este documento:\n",
    "\n",
    "[https://github.com/dieguim-ifsp-posCD/D1MAT/blob/main/exercicios/20210427-D1MAT-lista01-resolucao.ipynb](https://github.com/dieguim-ifsp-posCD/D1MAT/blob/main/exercicios/20210427-D1MAT-lista01-resolucao.ipynb)\n",
    "\n",
    "*\\* Professora, me desculpe a verbosidade desta resolução, mas aproveitei para desenferrujar o $\\LaTeX$ e o cálculo. Peço perdão se isso causou algum transtorno*"
   ]
  },
  {
   "cell_type": "markdown",
   "id": "f7eea55f-6d1f-49a4-871c-ffd349741b1a",
   "metadata": {},
   "source": [
    "\\clearpage"
   ]
  },
  {
   "cell_type": "markdown",
   "id": "afb363ba",
   "metadata": {},
   "source": [
    "1. Um tanque com capacidade para 1.000 litros de água é drenado pela base em meia hora. Os valores na tabela mostram o volume $V$ de água remanescente no tanque (em litros) após $t$ minutos.\n",
    "\n",
    "$\\mathbf{t (min)}$|$5$|$10$|$15$|$20$|$25$|$30$\n",
    "---|---|---|---|---|---|---\n",
    "$\\mathbf{V (L)}$|$694$|$444$|$250$|$111$|$28$|$0$\n"
   ]
  },
  {
   "cell_type": "code",
   "execution_count": 1,
   "id": "78dfbcf9",
   "metadata": {
    "tags": []
   },
   "outputs": [
    {
     "data": {
      "image/png": "[encoded data removed]",
      "text/plain": [
       "<Figure size 432x288 with 1 Axes>"
      ]
     },
     "metadata": {
      "needs_background": "light"
     },
     "output_type": "display_data"
    }
   ],
   "source": [
    "###HIDE-TO-CONVERT\n",
    "## Plot dos pontos em um gráfico para referência\n",
    "import matplotlib.pyplot as plt\n",
    "\n",
    "tanque = [(5, 694), (10, 444), (15, 250), (20, 111), (25, 28), (30, 0)]\n",
    "\n",
    "fig, ax = plt.subplots()\n",
    "ax.set_title('Volume ($V$) do tanque após $t$ minutos', fontsize=18)\n",
    "ax.set_ylabel('$V$ (L)')\n",
    "ax.set_xlabel('$t$ (min)')\n",
    "\n",
    "plt.scatter(*zip(*tanque))\n",
    "plt.show()"
   ]
  },
  {
   "cell_type": "markdown",
   "id": "6885d490",
   "metadata": {},
   "source": [
    "a) Se $P$ é o ponto $(15, 250)$ sobre o gráfico de $V$, encontre as inclinações das retas secantes $PQ$, onde $Q$ é o ponto sobre o gráfico com $t = 5, 10, 20, 25$ e $30$."
   ]
  },
  {
   "cell_type": "markdown",
   "id": "af19c5a8-b8f1-4a25-bba7-40b061162ddd",
   "metadata": {},
   "source": [
    "**Solução**\n",
    "\n",
    "Sejam os pontos $P = (t_p, V_p)$ e $Q = (t_q, V_q)$ no gráfico de Volume ($V$) x Tempo ($t$). A inclinação (coeficiente angular) da reta secante à curva em $P$ e $Q$ ($m_{pq}$) representa a **vazão média** de água do tanque no intervalo de tempo entre $t_p$ e $t_q$, e pode ser calculada pela fórmula:\n",
    "\n",
    "\\begin{equation}\n",
    "m_{pq} = \\frac{V_q - V_p}{t_q - t_p} (\\mathrm{L/min})\n",
    "\\end{equation}"
   ]
  },
  {
   "cell_type": "markdown",
   "id": "0ca0f53e-66bf-4f0d-b234-ac383b606a5b",
   "metadata": {},
   "source": [
    "*i*. Para $Q = (5, 694)$\n",
    "\n",
    "$$\n",
    "m_{pq} = \\frac{694 - 250}{5 - 15} = \\mathbf{-44\\mathrm{,}4}\\: \\mathrm{L/min}\n",
    "$$"
   ]
  },
  {
   "cell_type": "markdown",
   "id": "13b37ab3-90d4-4c8a-b6bb-71f526b5f4ff",
   "metadata": {},
   "source": [
    "*ii*. Para $Q = (10, 444)$\n",
    "\n",
    "$$\n",
    "m_{pq} = \\frac{444 - 250}{10 - 15} = \\mathbf{-38\\mathrm{,}8}\\: \\mathrm{L/min}\n",
    "$$"
   ]
  },
  {
   "cell_type": "markdown",
   "id": "39464dc5-e70d-452a-9f49-2bc38b30b326",
   "metadata": {},
   "source": [
    "*iii*. Para $Q = (20, 111)$\n",
    "\n",
    "$$\n",
    "m_{pq} = \\frac{111 - 250}{20 - 15} = \\mathbf{-27\\mathrm{,}8}\\: \\mathrm{L/min}\n",
    "$$"
   ]
  },
  {
   "cell_type": "markdown",
   "id": "7e1dba83-0d65-4e02-ad4b-8dea4b42be02",
   "metadata": {},
   "source": [
    "*iv*. Para $Q = (25, 28)$\n",
    "\n",
    "$$\n",
    "m_{pq} = \\frac{28 - 250}{25 - 15} = \\mathbf{-22\\mathrm{,}2}\\: \\mathrm{L/min}\n",
    "$$"
   ]
  },
  {
   "cell_type": "markdown",
   "id": "b7da22dc-b9db-4b34-b524-e04935bb297e",
   "metadata": {},
   "source": [
    "*v*. Para $Q = (30, 0)$\n",
    "\n",
    "$$\n",
    "m_{pq} = \\frac{0 - 250}{30 - 15} \\approx \\mathbf{-16\\mathrm{,}7}\\: \\mathrm{L/min}\n",
    "$$"
   ]
  },
  {
   "cell_type": "code",
   "execution_count": 2,
   "id": "517411b0-990b-46e9-9c84-b9d40c64b9ff",
   "metadata": {},
   "outputs": [
    {
     "name": "stdout",
     "output_type": "stream",
     "text": [
      "P = (15, 250)\n",
      "Para Q = (5, 694): m = -44.4\n",
      "Para Q = (10, 444): m = -38.8\n",
      "Para Q = (20, 111): m = -27.8\n",
      "Para Q = (25, 28): m = -22.2\n",
      "Para Q = (30, 0): m = -16.666666666666668\n"
     ]
    }
   ],
   "source": [
    "###HIDE-TO-CONVERT\n",
    "# Conferindo as contas: calculando o coeficiente angular para cada par de ponto P e Q\n",
    "P = (15, 250)\n",
    "print(f'P = {P}')\n",
    "\n",
    "secantes = [(Q, (Q[1] - P[1])/(Q[0] - P[0])) for Q in tanque if Q != P]\n",
    "\n",
    "for Q, m in secantes:\n",
    "    print(f'Para Q = {Q}: m = {m}')"
   ]
  },
  {
   "cell_type": "markdown",
   "id": "210578ca-af13-4f3c-ba10-9e1acdb263de",
   "metadata": {},
   "source": [
    "----\n",
    "\\clearpage"
   ]
  },
  {
   "cell_type": "markdown",
   "id": "cef4b252",
   "metadata": {},
   "source": [
    "b) Estime a inclinação da reta tangente em $P$ pela média das inclinações de duas retas secantes."
   ]
  },
  {
   "cell_type": "markdown",
   "id": "99f9cc3d-2e42-4a02-a991-eb25ac4dea38",
   "metadata": {},
   "source": [
    "**Solução**\n",
    "\n",
    "Podemos utilizar os pares de retas (*i*, *iv*) ou (*ii*, *iii*) do exercício anterior para calcular a média de inclinação, pois os pontos $Q$ pelos quais cada uma delas passa tem coordenadas em $t$ equidistantes de $P$.\n",
    "\n",
    "Utilizando as retas *i* e *iv*:\n",
    "$$\n",
    "m_p = \\frac{-44\\mathrm{,}4 + (-22\\mathrm{,}2)}{2} = -33\\mathrm{,}3\n",
    "$$\n",
    "\n",
    "Utilizando as retas *ii* e *iii*:\n",
    "$$\n",
    "m_p = \\frac{-38\\mathrm{,}8 + (-27\\mathrm{,}8)}{2} = -33\\mathrm{,}3\n",
    "$$"
   ]
  },
  {
   "cell_type": "markdown",
   "id": "832f19db-2a8a-44de-a3b2-106fd51cb176",
   "metadata": {},
   "source": [
    "Portanto podemos estimar a inclinação da reta tangente em $P$, ou seja, a vazão instantânea de água do tanque em $t = 15$ como sendo de $\\mathbf{-33\\mathrm{,}3\\: L/min}$"
   ]
  },
  {
   "cell_type": "code",
   "execution_count": 3,
   "id": "0466b672-da35-4975-9872-37ffedeab1fa",
   "metadata": {},
   "outputs": [
    {
     "name": "stdout",
     "output_type": "stream",
     "text": [
      "  Médias das retas i e iv: -33.3\n",
      "Médias das retas ii e iii: -33.3\n"
     ]
    }
   ],
   "source": [
    "###HIDE-TO-CONVERT\n",
    "# Conferindo as contas: calculando a média dos coeficientes angulares para as retas i e iv / ii e iii:\n",
    "print(f'  Médias das retas i e iv: {(secantes[0][1] + secantes[3][1])/2}')\n",
    "print(f'Médias das retas ii e iii: {(secantes[1][1] + secantes[2][1])/2}')"
   ]
  },
  {
   "cell_type": "markdown",
   "id": "6c65c21a-0258-4b80-ac09-de70c7288f60",
   "metadata": {},
   "source": [
    "----\n",
    "\\clearpage"
   ]
  },
  {
   "cell_type": "markdown",
   "id": "78af0abf",
   "metadata": {},
   "source": [
    "c) Use um gráfico da função para estimar a inclinação da tangente em $P$. (Essa inclinação representa a razão na qual a água flui do tanque após $15$ minutos.)"
   ]
  },
  {
   "cell_type": "markdown",
   "id": "bb6db9e1-9a0b-453e-a3e7-51ca9d6be2ed",
   "metadata": {},
   "source": [
    "**Solução**\n",
    "\n",
    "Vamos tentar deduzir o gráfico da função usando a biblioteca SciPy do Python"
   ]
  },
  {
   "cell_type": "code",
   "execution_count": 4,
   "id": "ded976ac-fe26-4232-bf94-d9bec45f7ccb",
   "metadata": {},
   "outputs": [
    {
     "name": "stdout",
     "output_type": "stream",
     "text": [
      "Função estimada: y = 1.11000 * x^2 -66.60429 * x +999.20000\n"
     ]
    },
    {
     "data": {
      "image/png": "[encoded data removed]",
      "text/plain": [
       "<Figure size 432x288 with 1 Axes>"
      ]
     },
     "metadata": {
      "needs_background": "light"
     },
     "output_type": "display_data"
    }
   ],
   "source": [
    "import numpy as np\n",
    "import matplotlib.pyplot as plt\n",
    "from scipy.optimize import curve_fit\n",
    "\n",
    "# Vamos usar uma função polinomial de grau 2 como objetivo\n",
    "## y = ax² + bx + c\n",
    "def objective(x, a, b, c):\n",
    "    return a * x**2 + b * x + c\n",
    "\n",
    "# Lista de tuplas que representam os pontos (t, V) do nosso tanque de água\n",
    "tanque = [(5, 694), (10, 444), (15, 250), (20, 111), (25, 28), (30, 0)]\n",
    "\n",
    "# Colocando os valores de cada eixo dos pontos nas variáveis 'x' e 'y'\n",
    "x, y = list(zip(*tanque))\n",
    "\n",
    "# Realizando o fit da curva com nossa função polinomial\n",
    "popt, _ = curve_fit(objective, x, y)\n",
    "\n",
    "# Colocando os coeficientes retornados pelo fit nas variáveis 'a', 'b' e 'c'\n",
    "a, b, c = popt\n",
    "print('Função estimada: y = %.5f * x^2 %+.5f * x %+.5f' % (a, b, c))\n",
    "\n",
    "# Plotando os pontos do gráfico\n",
    "plt.scatter(x, y)\n",
    "\n",
    "## Plotando a nossa curva estimada\n",
    "# Sequência dentro do intervalo em 'x', variando em 0,1\n",
    "x_line = np.arange(min(x), max(x), 0.1)\n",
    "# Valores de 'y' para cada ponto da sequência em 'x'\n",
    "y_line = objective(x_line, a, b, c)\n",
    "# Plotando uma linha para a função estimada\n",
    "plt.plot(x_line, y_line, '--', color='red')\n",
    "plt.show()"
   ]
  },
  {
   "cell_type": "markdown",
   "id": "97fac555-3d3f-44d2-bc7f-24756572176a",
   "metadata": {},
   "source": [
    "Pelo desenho do gráfico acima, nos parece que a função estimada é bastante razoável para descrever os pontos. Dessa forma, vamos então considerar a nossa função de vazão como sendo:\n",
    "\n",
    "$$\n",
    "V(t) = 1\\mathrm{,}11t^2 - 66\\mathrm{,}6t + 999\\mathrm{,}2\n",
    "$$"
   ]
  },
  {
   "cell_type": "markdown",
   "id": "6e87b7e1-1989-459b-b18e-5c787bfc930c",
   "metadata": {},
   "source": [
    "Agora, para estimar o valor da tangente em $P$, podemos fazer de duas formas:\n",
    "\n",
    "***i*. Inclinação das retas secantes $PQ$ para pontos $Q$ muito próximos de $P$**\n",
    "\n",
    "A partir de nossa função estimada, podemos calcular os valores de $V(t_p)$, $V(t_p+\\delta)$ e $V(t_p-\\delta)$ para valores muito pequenos de $\\delta$ e, dessa forma, estimar numericamente o valor da inclinação da tangente no ponto $P$"
   ]
  },
  {
   "cell_type": "code",
   "execution_count": 5,
   "id": "967eb7c2-fa32-44b5-9ba5-525da8e9ae35",
   "metadata": {},
   "outputs": [
    {
     "name": "stdout",
     "output_type": "stream",
     "text": [
      "Inclinação para t + delta = -33.30428458175926\n",
      "Inclinação para t - delta = -33.30428685549602\n"
     ]
    }
   ],
   "source": [
    "tp = 15\n",
    "delta = 1e-6\n",
    "\n",
    "m1 = (objective(tp + delta, a, b, c) - objective(tp, a, b, c))/((tp + delta) - tp)\n",
    "m2 = (objective(tp - delta, a, b, c) - objective(tp, a, b, c))/((tp - delta) - tp)\n",
    "\n",
    "print(f'Inclinação para t + delta = {m1}')\n",
    "print(f'Inclinação para t - delta = {m2}')"
   ]
  },
  {
   "cell_type": "markdown",
   "id": "3a5530b8-3ee7-405b-8432-cc2339e18dcc",
   "metadata": {},
   "source": [
    "Portanto, utilizando este método numérico, o valor estimado para a vazão instantânea de água no momento $t = 15$ é de $\\mathbf{-33\\mathrm{,}3\\: L/min}$"
   ]
  },
  {
   "cell_type": "markdown",
   "id": "d24b2d94-8b3f-485d-88b6-2f06291fb096",
   "metadata": {},
   "source": [
    "***ii*. Valor da derivada de $V(t)$ no ponto $t = 15$**\n",
    "\n",
    "A partir da função $V(t)$, podemos calcular sua derivada (função de variação da vazão ao longo do tempo) e calcular seu valor para $t_p = 15$.\n",
    "\n",
    "A derivada de $V(t)$, definida por $V'(t)$ é dada por:\n",
    "\n",
    "$$\n",
    "V'(t) = 2\\mathrm{,}22t - 66\\mathrm{,}6\n",
    "$$\n",
    "\n",
    "Para $t = t_p = 15$, temos:\n",
    "\n",
    "$$\n",
    "V'(t_p) = V'(15) = -33\\mathrm{,}3\n",
    "$$\n",
    "\n",
    "Portanto, o valor estimado para a vazão instantânea de água no momento $t = 15$ é de $\\mathbf{-33\\mathrm{,}3\\: L/min}$"
   ]
  },
  {
   "cell_type": "markdown",
   "id": "b924fdf0-a714-4c0d-8c24-4829d1641f4e",
   "metadata": {},
   "source": [
    "----\n",
    "\\clearpage"
   ]
  },
  {
   "cell_type": "markdown",
   "id": "d7b49467",
   "metadata": {},
   "source": [
    "2. Calcule os limites:"
   ]
  },
  {
   "cell_type": "markdown",
   "id": "93ea7ec8",
   "metadata": {},
   "source": [
    "a) $\\displaystyle\\lim_{t\\to-3}\\frac{t^2-9}{2t^2+7t+3}$"
   ]
  },
  {
   "cell_type": "markdown",
   "id": "e45b1705-623a-4979-9198-56f326133adc",
   "metadata": {},
   "source": [
    "**Solução**\n",
    "\n",
    "O polinômio $t^2-9$ pode ser reescrito, da seguinte forma:\n",
    "\\begin{equation} \\label{eq:1}\n",
    "t^2 - 9 = (t + 3)(t - 3)\n",
    "\\end{equation}\n",
    "\n",
    "Por sua vez, sendo $\\left(-3; -\\frac{1}{2}\\right)$ as raízes do polinômio $2t^2 + 7t + 3$, podemos decompô-lo como:\n",
    "\\begin{equation} \\label{eq:2}\n",
    "2t^2 + 7t + 3 = 2(t+3)\\left(t+\\frac{1}{2}\\right)\n",
    "\\end{equation}\n",
    "\n",
    "Pelas equações (\\ref{eq:1}) e (\\ref{eq:2}) temos:\n",
    "$$\n",
    "\\lim_{t\\to-3}\\frac{t^2-9}{2t^2+7t+3} = \\lim_{t\\to-3}\\frac{(t + 3)(t - 3)}{2(t+3)\\left(t+\\frac{1}{2}\\right)}\n",
    "$$\n",
    "\n",
    "Cancelando o termo $(t + 3)$ na divisão:\n",
    "$$\n",
    "\\lim_{t\\to-3}\\frac{t^2-9}{2t^2+7t+3} = \\lim_{t\\to-3}\\frac{t - 3}{2\\left(t+\\frac{1}{2}\\right)} = \\frac{-3 - 3}{2\\left(-3 + \\frac{1}{2}\\right)} = \\frac{-6}{-5} = \\frac{6}{5}\n",
    "$$"
   ]
  },
  {
   "cell_type": "markdown",
   "id": "e52b8692-6e0a-44e2-8315-9e8a09c77840",
   "metadata": {},
   "source": [
    "**Método 2 (L'Hôpital)**\n",
    "\n",
    "A regra de L'Hôpital basicamente (ignorando muito da formalidade) enuncia que:\n",
    "\n",
    "Se $\\displaystyle\\lim_{x\\to c}\\frac{f(x)}{g(x)} = \\frac{0}{0}\\; \\mathrm{OU}\\; \\frac{\\infty}{\\infty}\\; \\mathrm{OU}\\; \\frac{-\\infty}{-\\infty}$\n",
    "\n",
    "Então $\\displaystyle\\lim_{x\\to c}\\frac{f(x)}{g(x)} = \\lim_{x\\to c}\\frac{f'(x)}{g'(x)}$\n",
    "\n",
    "Como\n",
    "\n",
    "$$\n",
    "\\lim_{t\\to-3}\\frac{t^2-9}{2t^2+7t+3} = \\frac{(-3)^2-9}{2(-3)^2+7(-3)+3} = \\frac{0}{0}\n",
    "$$\n",
    "\n",
    "Então podemos usar a regra de L'Hôpital para calcular o limite. Ou seja:\n",
    "\n",
    "$$\n",
    "\\lim_{t\\to-3}\\frac{t^2-9}{2t^2+7t+3} = \\lim_{t\\to-3}\\frac{2t}{4t+7} = \\frac{2(-3)}{4(-3)+7} = \\frac{-6}{-5} = \\frac{6}{5}\n",
    "$$"
   ]
  },
  {
   "cell_type": "code",
   "execution_count": 6,
   "id": "d51a7b39-bf90-4234-8cb2-8abc957d5289",
   "metadata": {},
   "outputs": [
    {
     "data": {
      "text/latex": [
       "$\\displaystyle \\frac{6}{5}$"
      ],
      "text/plain": [
       "6/5"
      ]
     },
     "execution_count": 6,
     "metadata": {},
     "output_type": "execute_result"
    }
   ],
   "source": [
    "###HIDE-TO-CONVERT\n",
    "# Conferindo a conta...\n",
    "import sympy\n",
    "  \n",
    "t = sympy.symbols('t')\n",
    "expr = (t**2 - 9)/(2*(t**2)+7*t+3)\n",
    "\n",
    "sympy.limit(expr, t, -3)"
   ]
  },
  {
   "cell_type": "markdown",
   "id": "3283cd27-62d7-4bb9-9a36-12080d50dd09",
   "metadata": {},
   "source": [
    "----\n",
    "\\clearpage"
   ]
  },
  {
   "cell_type": "markdown",
   "id": "96bcd42e",
   "metadata": {},
   "source": [
    "b) $\\displaystyle\\lim_{x\\to0}\\frac{\\sqrt{1+x}-\\sqrt{1-x}}{x}$"
   ]
  },
  {
   "cell_type": "markdown",
   "id": "a00bd8e7-2c61-45dc-b836-a6602c9d16a3",
   "metadata": {},
   "source": [
    "**Solução**\n",
    "\n",
    "Vamos multiplicar o numerador e o denominador da divisão por $\\sqrt{1+x} + \\sqrt{1-x}$:\n",
    "\\begin{align*}\n",
    "\\lim_{x\\to0}\\frac{\\sqrt{1+x}-\\sqrt{1-x}}{x} & = \\lim_{x\\to0}\\frac{\\sqrt{1+x}-\\sqrt{1-x}}{x} \\times \\frac{\\left(\\sqrt{1+x} + \\sqrt{1-x}\\right)}{\\left(\\sqrt{1+x} + \\sqrt{1-x}\\right)} \\\\\n",
    " & = \\lim_{x\\to0}\\frac{\\left(\\sqrt{1+x}\\right)^2 - \\left(\\sqrt{1-x}\\right)^2}{x \\left(\\sqrt{1+x} + \\sqrt{1-x}\\right)} \\\\\n",
    " & = \\lim_{x\\to0}\\frac{1+x-(1-x)}{x \\left(\\sqrt{1+x} + \\sqrt{1-x}\\right)} \\\\\n",
    " & = \\lim_{x\\to0}\\frac{2x}{x \\left(\\sqrt{1+x} + \\sqrt{1-x}\\right)}\n",
    "\\end{align*}\n",
    "\n",
    "Cancelando $x$ na divisão:\n",
    "$$\n",
    "\\lim_{x\\to0}\\frac{\\sqrt{1+x}-\\sqrt{1-x}}{x} = \\lim_{x\\to0}\\frac{2}{\\sqrt{1+x} + \\sqrt{1-x}} = \\frac{2}{\\sqrt{1+0} + \\sqrt{1+0}} = \\frac{2}{2} = 1\n",
    "$$\n"
   ]
  },
  {
   "cell_type": "markdown",
   "id": "1ad0b7aa-b447-49fa-ac3f-bd451a566283",
   "metadata": {},
   "source": [
    "**Método 2 (L'Hôpital)**\n",
    "\n",
    "Como\n",
    "$$\n",
    "\\lim_{x\\to0}\\frac{\\sqrt{1+x}-\\sqrt{1-x}}{x} = \\frac{\\sqrt{1+0}-\\sqrt{1-0}}{0} = \\frac{0}{0}\n",
    "$$\n",
    "\n",
    "Então podemos usar L'Hôpital para calcular o limite.\n",
    "\n",
    "Derivando o numerador $f(x) = \\sqrt{1+x}-\\sqrt{1-x}$ usando a *Regra da Cadeia* para cada termo da subtração temos que:\n",
    "$$\n",
    "\\frac{d}{dx}\\sqrt{1+x} = \\frac{1}{2\\sqrt{1+x}} \\qquad \\mathrm{e} \\qquad \\frac{d}{dx}\\sqrt{1-x} = -\\frac{1}{2\\sqrt{1-x}}\n",
    "$$\n",
    "\n",
    "Portanto,\n",
    "$$\n",
    "\\lim_{x\\to0}\\frac{\\sqrt{1+x}-\\sqrt{1-x}}{x} = \\lim_{x\\to0}\\frac{\\frac{1}{2\\sqrt{1+x}} - \\left(-\\frac{1}{2\\sqrt{1-x}}\\right)}{1} = \\frac{1}{2\\sqrt{1+0}} + \\frac{1}{2\\sqrt{1-0}} = \\frac{1}{2} + \\frac{1}{2} = 1\n",
    "$$\n"
   ]
  },
  {
   "cell_type": "code",
   "execution_count": 7,
   "id": "66f10748-3426-49a2-88eb-f0e7bfa62167",
   "metadata": {},
   "outputs": [
    {
     "data": {
      "text/latex": [
       "$\\displaystyle 1$"
      ],
      "text/plain": [
       "1"
      ]
     },
     "execution_count": 7,
     "metadata": {},
     "output_type": "execute_result"
    }
   ],
   "source": [
    "###HIDE-TO-CONVERT\n",
    "# Conferindo a conta...\n",
    "import sympy\n",
    "  \n",
    "x = sympy.symbols('x')\n",
    "expr = (sympy.sqrt(1+x) - sympy.sqrt(1-x))/x\n",
    "\n",
    "sympy.limit(expr, x, 0)"
   ]
  },
  {
   "cell_type": "markdown",
   "id": "4ae3f6a0-c84d-4b89-b46b-0470e68d1b79",
   "metadata": {},
   "source": [
    "----\n",
    "\\clearpage"
   ]
  },
  {
   "cell_type": "markdown",
   "id": "cf652117",
   "metadata": {},
   "source": [
    "c) $\\displaystyle\\lim_{x\\to-4}\\frac{\\frac{1}{4}+\\frac{1}{x}}{4+x}$"
   ]
  },
  {
   "cell_type": "markdown",
   "id": "e85b4349-99ba-4ad9-89bd-1d9f72bb9941",
   "metadata": {},
   "source": [
    "**Solução**\n",
    "\n",
    "Multiplicando a fração por $\\frac{4x}{4x}$, temos:\n",
    "\\begin{align*}\n",
    "\\lim_{x\\to-4}\\frac{\\frac{1}{4}+\\frac{1}{x}}{4+x} & = \\lim_{x\\to-4}\\frac{\\frac{1}{4}+\\frac{1}{x}}{4+x} \\times \\frac{4x}{4x} \\\\\n",
    " & = \\lim_{x\\to-4}\\frac{4x\\left(\\frac{1}{4}+\\frac{1}{x}\\right)}{4x(4+x)} \\\\\n",
    " & = \\lim_{x\\to-4}\\frac{x+4}{4x(x+4)} \\\\\n",
    "\\end{align*}\n",
    "\n",
    "Cancelando o termo $(x+4)$ na divisão:\n",
    "$$\n",
    "\\lim_{x\\to-4}\\frac{\\frac{1}{4}+\\frac{1}{x}}{4+x} = \\lim_{x\\to-4}\\frac{1}{4x} = \\frac{1}{4(-4)} = -\\frac{1}{16}\n",
    "$$"
   ]
  },
  {
   "cell_type": "markdown",
   "id": "69ac6d41-6cbc-4fc4-93cf-0fc4076b4573",
   "metadata": {},
   "source": [
    "**Método 2 (L'Hôpital)**\n",
    "\n",
    "Como\n",
    "$$\n",
    "\\lim_{x\\to-4}\\frac{\\frac{1}{4}+\\frac{1}{x}}{4+x} = \\frac{\\frac{1}{4}+\\frac{1}{-4}}{4+(-4)} = \\frac{0}{0}\n",
    "$$\n",
    "\n",
    "Então podemos usar L'Hôpital:\n",
    "$$\n",
    "\\lim_{x\\to-4}\\frac{\\frac{1}{4}+\\frac{1}{x}}{4+x} = \\lim_{x\\to-4}\\frac{-\\frac{1}{x^2}}{1} = -\\frac{1}{(-4)^2} = -\\frac{1}{16}\n",
    "$$"
   ]
  },
  {
   "cell_type": "code",
   "execution_count": 8,
   "id": "51a61a13-4bc7-42a6-a63e-16ca4ff505b5",
   "metadata": {},
   "outputs": [
    {
     "data": {
      "text/latex": [
       "$\\displaystyle - \\frac{1}{16}$"
      ],
      "text/plain": [
       "-1/16"
      ]
     },
     "execution_count": 8,
     "metadata": {},
     "output_type": "execute_result"
    }
   ],
   "source": [
    "###HIDE-TO-CONVERT\n",
    "# Conferindo a conta...\n",
    "import sympy\n",
    "  \n",
    "x = sympy.symbols('x')\n",
    "expr = (1/4 + 1/x)/(4+x)\n",
    "\n",
    "sympy.limit(expr, x, -4)"
   ]
  },
  {
   "cell_type": "code",
   "execution_count": 9,
   "id": "8e2c68a7-2ac6-4cf6-a0e1-a36dc3829809",
   "metadata": {},
   "outputs": [
    {
     "name": "stdout",
     "output_type": "stream",
     "text": [
      "[NbConvertApp] Converting notebook 20210427-D1MAT-lista01-resolucao.ipynb to pdf\n",
      "[NbConvertApp] Support files will be in 20210427-D1MAT-lista01-resolucao_files/\n",
      "[NbConvertApp] Making directory ./20210427-D1MAT-lista01-resolucao_files\n",
      "[NbConvertApp] Writing 34208 bytes to notebook.tex\n",
      "[NbConvertApp] Building PDF\n",
      "[NbConvertApp] Running xelatex 3 times: ['xelatex', 'notebook.tex', '-quiet']\n",
      "[NbConvertApp] Running bibtex 1 time: ['bibtex', 'notebook']\n",
      "[NbConvertApp] WARNING | bibtex had problems, most likely because there were no citations\n",
      "[NbConvertApp] PDF successfully created\n",
      "[NbConvertApp] Writing 85523 bytes to 20210427-D1MAT-lista01-resolucao.pdf\n"
     ]
    }
   ],
   "source": [
    "###HIDE-TO-CONVERT\n",
    "!jupyter nbconvert --to pdf --RegexRemovePreprocessor.patterns \"^###HIDE-TO-CONVERT\" 20210427-D1MAT-lista01-resolucao.ipynb"
   ]
  }
 ],
 "metadata": {
  "authors": [
   {
    "name": "Diego Machado de Assis"
   }
  ],
  "kernelspec": {
   "display_name": "Python 3",
   "language": "python",
   "name": "python3"
  },
  "language_info": {
   "codemirror_mode": {
    "name": "ipython",
    "version": 3
   },
   "file_extension": ".py",
   "mimetype": "text/x-python",
   "name": "python",
   "nbconvert_exporter": "python",
   "pygments_lexer": "ipython3",
   "version": "3.8.8"
  },
  "title": "D1MAT - Lista de Exercícios 01: Limites"
 },
 "nbformat": 4,
 "nbformat_minor": 5
}
