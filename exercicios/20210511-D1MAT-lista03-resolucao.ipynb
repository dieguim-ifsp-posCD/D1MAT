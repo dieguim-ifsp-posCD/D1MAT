{
 "cells": [
  {
   "cell_type": "markdown",
   "id": "757172ba-ada2-4a89-9937-36366a61fdcc",
   "metadata": {},
   "source": [
    "1. Uma empresa fabrica caixas de papelão de três tamanhos: pequena, média e grande. O custo é $\\$2\\mathrm{,}50$ para fabricar uma caixa pequena, $\\$4\\mathrm{,}00$ para uma caixa média e $\\$4\\mathrm{,}50$ para uma caixa grande. Os custos fixos são de $\\$8.000$."
   ]
  },
  {
   "cell_type": "markdown",
   "id": "6f62a517-061d-4e36-8de2-08515a22eda4",
   "metadata": {},
   "source": [
    "a) Expresse o custo da fabricação de $x$ caixas pequenas, $y$ caixas médias e $z$ caixas grandes como uma função de três variáveis: $C = f(x, y, z)$."
   ]
  },
  {
   "cell_type": "markdown",
   "id": "4d8b6f4e-9c57-41a0-aa72-d4a60bd5b91e",
   "metadata": {},
   "source": [
    "$$\n",
    "C = f(x,y,z) = 2\\mathrm{,}5x + 4y + 4\\mathrm{,}5z + 8000\n",
    "$$"
   ]
  },
  {
   "cell_type": "code",
   "execution_count": 1,
   "id": "1267bbbf-4159-4871-988a-e46157a0f960",
   "metadata": {},
   "outputs": [],
   "source": [
    "###HIDE-TO-CONVERT\n",
    "def f(x, y, z):\n",
    "    return 2.5*x + 4*y + 4.5*z + 8000"
   ]
  },
  {
   "cell_type": "markdown",
   "id": "23b689e6-bd5e-441d-8aff-4e7354fa3f75",
   "metadata": {},
   "source": [
    "\\vspace{5mm}\n",
    "\n",
    "---\n",
    "\n",
    "\\vspace{5mm}"
   ]
  },
  {
   "cell_type": "markdown",
   "id": "2c101c5b-8a5b-4003-93ca-2f15960ac6b1",
   "metadata": {},
   "source": [
    "b) Encontre $f(3000, 5000, 4000)$ e interprete-a."
   ]
  },
  {
   "cell_type": "markdown",
   "id": "b0cc25a5-11f1-4482-b0cc-71a09ec60905",
   "metadata": {},
   "source": [
    "$$\n",
    "f(3000,5000,4000) = 2\\mathrm{,}5(3000) + 4(5000) + 4\\mathrm{,}5(4000) + 8000 = 53500\n",
    "$$\n",
    "\n",
    "O custo para se fabricar 3 mil caixas pequenas, 5 mil caixas médias e 4 mil caixas grandes é de $\\$53.500\\mathrm{,}00$"
   ]
  },
  {
   "cell_type": "code",
   "execution_count": 2,
   "id": "84b685e4-1ba7-42a4-a74f-b4e210272312",
   "metadata": {},
   "outputs": [
    {
     "name": "stdout",
     "output_type": "stream",
     "text": [
      "f(3000, 5000, 4000) = 53500.0\n"
     ]
    }
   ],
   "source": [
    "###HIDE-TO-CONVERT\n",
    "x, y, z = 3000, 5000, 4000\n",
    "print(f'f({x}, {y}, {z}) = {f(x, y, z)}')"
   ]
  },
  {
   "cell_type": "markdown",
   "id": "0c4c3275-6541-42f0-b2e4-a9ba0c499848",
   "metadata": {},
   "source": [
    "\\vspace{5mm}\n",
    "\n",
    "---\n",
    "\n",
    "\\vspace{5mm}"
   ]
  },
  {
   "cell_type": "markdown",
   "id": "a95382d2-ac58-4453-b515-04c002037e8f",
   "metadata": {},
   "source": [
    "c) Qual o domínio de $f$?"
   ]
  },
  {
   "cell_type": "markdown",
   "id": "0f043119-dbe0-4428-bbba-53b587a46d2d",
   "metadata": {},
   "source": [
    "Como os valores de $x$, $y$ e $z$ representam grandezas inteiras não negativas (número de caixas fabricadas), podemos dizer que o domínio da função $f$ será de números naturais $x$, $y$ e $z$. Matematicamente, podemos escrever:\n",
    "\n",
    "$$\n",
    "D_f = \\{ (x, y, z) \\in \\mathbb{N}^3 \\}\n",
    "$$"
   ]
  },
  {
   "cell_type": "markdown",
   "id": "c114f6f2-f7d3-4d9c-8837-bba93bd389c3",
   "metadata": {},
   "source": [
    "\\clearpage"
   ]
  },
  {
   "cell_type": "markdown",
   "id": "ea92e110-80f5-424d-8d98-ed494753a1db",
   "metadata": {},
   "source": [
    "2. Seja $f(x, y) = y^5 - 3xy$. Determine $f_x$ e $f_y$."
   ]
  },
  {
   "cell_type": "markdown",
   "id": "c4126725-9725-4d1a-ab27-023806975c12",
   "metadata": {},
   "source": [
    "\\vspace{10mm}\n",
    "\n",
    "$\\displaystyle f_x = \\frac{\\partial f}{\\partial x} = \\frac{\\partial}{\\partial x}(y^5 - 3xy) = -3y$\n",
    "\n",
    "\\vspace{10mm}\n",
    "\n",
    "$\\displaystyle f_y = \\frac{\\partial f}{\\partial y} = \\frac{\\partial}{\\partial y}(y^5 - 3xy) = 5y^4 - 3x$"
   ]
  },
  {
   "cell_type": "code",
   "execution_count": 3,
   "id": "565ece31-6a0d-44cc-9d8f-e1952431a561",
   "metadata": {},
   "outputs": [],
   "source": [
    "###HIDE-TO-CONVERT\n",
    "from IPython.core.interactiveshell import InteractiveShell\n",
    "InteractiveShell.ast_node_interactivity = \"all\""
   ]
  },
  {
   "cell_type": "code",
   "execution_count": 4,
   "id": "dfdefcc8-f893-4e77-8140-d0dc86f6cdee",
   "metadata": {},
   "outputs": [
    {
     "data": {
      "text/latex": [
       "$\\displaystyle - 3 x y + y^{5}$"
      ],
      "text/plain": [
       "-3*x*y + y**5"
      ]
     },
     "execution_count": 4,
     "metadata": {},
     "output_type": "execute_result"
    },
    {
     "data": {
      "text/latex": [
       "$\\displaystyle - 3 y$"
      ],
      "text/plain": [
       "-3*y"
      ]
     },
     "execution_count": 4,
     "metadata": {},
     "output_type": "execute_result"
    },
    {
     "data": {
      "text/latex": [
       "$\\displaystyle - 3 x + 5 y^{4}$"
      ],
      "text/plain": [
       "-3*x + 5*y**4"
      ]
     },
     "execution_count": 4,
     "metadata": {},
     "output_type": "execute_result"
    }
   ],
   "source": [
    "###HIDE-TO-CONVERT\n",
    "from sympy import symbols, diff\n",
    "\n",
    "x, y = symbols('x, y')\n",
    "f = y**5 - 3*x*y\n",
    "\n",
    "fx = diff(f, x)\n",
    "fy = diff(f, y)\n",
    "\n",
    "f\n",
    "fx\n",
    "fy\n",
    "\n",
    "InteractiveShell.ast_node_interactivity = \"last_expr\""
   ]
  },
  {
   "cell_type": "markdown",
   "id": "c8248285-c49b-40f6-aea0-d1fc4e08aeea",
   "metadata": {},
   "source": [
    "\\vspace{5mm}\n",
    "\n",
    "---\n",
    "\n",
    "\\vspace{5mm}"
   ]
  },
  {
   "cell_type": "markdown",
   "id": "b7aaa697-8334-4312-ab5a-ec3057bdd582",
   "metadata": {},
   "source": [
    "3. Considere $f(x, y, z) = xz - 5x^2y^3z^4$. Determine $f_x, f_y, f_z, f_{xx}, f_{xy}, f_{xz}$"
   ]
  },
  {
   "cell_type": "markdown",
   "id": "eecd314a-8059-431d-859b-e5bdf2b09a4c",
   "metadata": {},
   "source": [
    "\\vspace{10mm}\n",
    "\n",
    "$\\displaystyle f_x = \\frac{\\partial f}{\\partial x} = \\frac{\\partial}{\\partial x}(xz - 5x^2y^3z^4) = z - 10xy^3z^4$\n",
    "\n",
    "\\vspace{10mm}\n",
    "\n",
    "$\\displaystyle f_y = \\frac{\\partial f}{\\partial y} = \\frac{\\partial}{\\partial y}(xz - 5x^2y^3z^4) = -15x^2y^2z^4$\n",
    "\n",
    "\\vspace{10mm}\n",
    "\n",
    "$\\displaystyle f_z = \\frac{\\partial f}{\\partial z} = \\frac{\\partial}{\\partial z}(xz - 5x^2y^3z^4) = x - 20x^2y^3z^3$\n",
    "\n",
    "\\vspace{10mm}\n",
    "\n",
    "$\\displaystyle f_{xx} = \\frac{\\partial^2 f}{\\partial x^2} = \\frac{\\partial}{\\partial x}\\left( \\frac{\\partial f}{\\partial x} \\right) = \\frac{\\partial}{\\partial x}(z - 10xy^3z^4) = -10y^3z^4$\n",
    "\n",
    "\\vspace{10mm}\n",
    "\n",
    "$\\displaystyle f_{xy} = \\frac{\\partial^2 f}{\\partial y \\partial x} = \\frac{\\partial}{\\partial y}\\left( \\frac{\\partial f}{\\partial x} \\right) = \\frac{\\partial}{\\partial y}(z - 10xy^3z^4) = -30xy^2z^4$\n",
    "\n",
    "\\vspace{10mm}\n",
    "\n",
    "$\\displaystyle f_{xz} = \\frac{\\partial^2 f}{\\partial z \\partial x} = \\frac{\\partial}{\\partial z}\\left( \\frac{\\partial f}{\\partial x} \\right) = \\frac{\\partial}{\\partial z}(z - 10xy^3z^4) = 1 - 40xy^3z^3$"
   ]
  },
  {
   "cell_type": "code",
   "execution_count": 5,
   "id": "05b0f206-59aa-462c-870f-2f0896f2d3f5",
   "metadata": {},
   "outputs": [],
   "source": [
    "###HIDE-TO-CONVERT\n",
    "from IPython.core.interactiveshell import InteractiveShell\n",
    "InteractiveShell.ast_node_interactivity = \"all\""
   ]
  },
  {
   "cell_type": "code",
   "execution_count": 6,
   "id": "f946171e-68d0-49a1-bb8d-8ad816ffea34",
   "metadata": {},
   "outputs": [
    {
     "data": {
      "text/latex": [
       "$\\displaystyle - 5 x^{2} y^{3} z^{4} + x z$"
      ],
      "text/plain": [
       "-5*x**2*y**3*z**4 + x*z"
      ]
     },
     "execution_count": 6,
     "metadata": {},
     "output_type": "execute_result"
    },
    {
     "data": {
      "text/latex": [
       "$\\displaystyle - 10 x y^{3} z^{4} + z$"
      ],
      "text/plain": [
       "-10*x*y**3*z**4 + z"
      ]
     },
     "execution_count": 6,
     "metadata": {},
     "output_type": "execute_result"
    },
    {
     "data": {
      "text/latex": [
       "$\\displaystyle - 15 x^{2} y^{2} z^{4}$"
      ],
      "text/plain": [
       "-15*x**2*y**2*z**4"
      ]
     },
     "execution_count": 6,
     "metadata": {},
     "output_type": "execute_result"
    },
    {
     "data": {
      "text/latex": [
       "$\\displaystyle - 20 x^{2} y^{3} z^{3} + x$"
      ],
      "text/plain": [
       "-20*x**2*y**3*z**3 + x"
      ]
     },
     "execution_count": 6,
     "metadata": {},
     "output_type": "execute_result"
    },
    {
     "data": {
      "text/latex": [
       "$\\displaystyle - 10 y^{3} z^{4}$"
      ],
      "text/plain": [
       "-10*y**3*z**4"
      ]
     },
     "execution_count": 6,
     "metadata": {},
     "output_type": "execute_result"
    },
    {
     "data": {
      "text/latex": [
       "$\\displaystyle - 30 x y^{2} z^{4}$"
      ],
      "text/plain": [
       "-30*x*y**2*z**4"
      ]
     },
     "execution_count": 6,
     "metadata": {},
     "output_type": "execute_result"
    },
    {
     "data": {
      "text/latex": [
       "$\\displaystyle - 40 x y^{3} z^{3} + 1$"
      ],
      "text/plain": [
       "-40*x*y**3*z**3 + 1"
      ]
     },
     "execution_count": 6,
     "metadata": {},
     "output_type": "execute_result"
    }
   ],
   "source": [
    "###HIDE-TO-CONVERT\n",
    "from sympy import symbols, diff\n",
    "\n",
    "x, y, z = symbols('x, y, z')\n",
    "f = x*z - 5*(x**2)*(y**3)*(z**4)\n",
    "\n",
    "fx = diff(f, x)\n",
    "fy = diff(f, y)\n",
    "fz = diff(f, z)\n",
    "fxx = diff(fx, x)\n",
    "fxy = diff(fx, y)\n",
    "fxz = diff(fx, z)\n",
    "\n",
    "f\n",
    "fx\n",
    "fy\n",
    "fz\n",
    "fxx\n",
    "fxy\n",
    "fxz\n",
    "\n",
    "InteractiveShell.ast_node_interactivity = \"last_expr\""
   ]
  },
  {
   "cell_type": "code",
   "execution_count": 7,
   "id": "b9705256-5fec-4953-a450-c9d56921dcf9",
   "metadata": {},
   "outputs": [
    {
     "name": "stdout",
     "output_type": "stream",
     "text": [
      "[NbConvertApp] Converting notebook 20210511-D1MAT-lista03-resolucao.ipynb to pdf\n",
      "[NbConvertApp] Writing 22660 bytes to notebook.tex\n",
      "[NbConvertApp] Building PDF\n",
      "[NbConvertApp] Running xelatex 3 times: ['xelatex', 'notebook.tex', '-quiet']\n",
      "[NbConvertApp] Running bibtex 1 time: ['bibtex', 'notebook']\n",
      "[NbConvertApp] WARNING | bibtex had problems, most likely because there were no citations\n",
      "[NbConvertApp] PDF successfully created\n",
      "[NbConvertApp] Writing 27917 bytes to 20210511-D1MAT-lista03-resolucao.pdf\n"
     ]
    }
   ],
   "source": [
    "###HIDE-TO-CONVERT\n",
    "!jupyter nbconvert --to pdf --RegexRemovePreprocessor.patterns \"^###HIDE-TO-CONVERT\" 20210511-D1MAT-lista03-resolucao.ipynb"
   ]
  }
 ],
 "metadata": {
  "authors": [
   {
    "name": "Diego Machado de Assis"
   }
  ],
  "kernelspec": {
   "display_name": "Python 3",
   "language": "python",
   "name": "python3"
  },
  "language_info": {
   "codemirror_mode": {
    "name": "ipython",
    "version": 3
   },
   "file_extension": ".py",
   "mimetype": "text/x-python",
   "name": "python",
   "nbconvert_exporter": "python",
   "pygments_lexer": "ipython3",
   "version": "3.8.8"
  },
  "title": "D1MAT - Lista de Exercícios 03: Derivadas parciais"
 },
 "nbformat": 4,
 "nbformat_minor": 5
}
